{
  "nbformat": 4,
  "nbformat_minor": 0,
  "metadata": {
    "colab": {
      "name": "08_introduction_to_NLP_tensorflow.ipynb",
      "provenance": [],
      "collapsed_sections": [],
      "authorship_tag": "ABX9TyOkf5M8qxIuSxu4WDWn5/C/",
      "include_colab_link": true
    },
    "kernelspec": {
      "name": "python3",
      "display_name": "Python 3"
    },
    "language_info": {
      "name": "python"
    },
    "accelerator": "GPU"
  },
  "cells": [
    {
      "cell_type": "markdown",
      "metadata": {
        "id": "view-in-github",
        "colab_type": "text"
      },
      "source": [
        "<a href=\"https://colab.research.google.com/github/fauk74/Machine-Learning/blob/main/NLP_kaggle_tensorflow_ensemble.ipynb\" target=\"_parent\"><img src=\"https://colab.research.google.com/assets/colab-badge.svg\" alt=\"Open In Colab\"/></a>"
      ]
    },
    {
      "cell_type": "markdown",
      "metadata": {
        "id": "Bv3334FGt012"
      },
      "source": [
        "#NLP : Kaggle Competition Disaster Tweets"
      ]
    },
    {
      "cell_type": "code",
      "metadata": {
        "colab": {
          "base_uri": "https://localhost:8080/"
        },
        "id": "-7TRalFHqGse",
        "outputId": "936133ee-524e-413e-a9a2-319746eb1391"
      },
      "source": [
        "!nvidia-smi -L\n"
      ],
      "execution_count": 1,
      "outputs": [
        {
          "output_type": "stream",
          "name": "stdout",
          "text": [
            "GPU 0: Tesla K80 (UUID: GPU-624a96e1-639f-6e15-70d1-9212ce20fee2)\n"
          ]
        }
      ]
    },
    {
      "cell_type": "code",
      "metadata": {
        "colab": {
          "base_uri": "https://localhost:8080/"
        },
        "id": "TcQLl24Be2dZ",
        "outputId": "2330e73a-6584-4f33-d584-b29a14c18142"
      },
      "source": [
        "!wget https://raw.githubusercontent.com/fauk74/Data-Visualization-and-Utility/main/helper_functions.py"
      ],
      "execution_count": 2,
      "outputs": [
        {
          "output_type": "stream",
          "name": "stdout",
          "text": [
            "--2021-10-21 03:13:28--  https://raw.githubusercontent.com/fauk74/Data-Visualization-and-Utility/main/helper_functions.py\n",
            "Resolving raw.githubusercontent.com (raw.githubusercontent.com)... 185.199.109.133, 185.199.110.133, 185.199.108.133, ...\n",
            "Connecting to raw.githubusercontent.com (raw.githubusercontent.com)|185.199.109.133|:443... connected.\n",
            "HTTP request sent, awaiting response... 200 OK\n",
            "Length: 15186 (15K) [text/plain]\n",
            "Saving to: ‘helper_functions.py’\n",
            "\n",
            "helper_functions.py 100%[===================>]  14.83K  --.-KB/s    in 0s      \n",
            "\n",
            "2021-10-21 03:13:29 (66.7 MB/s) - ‘helper_functions.py’ saved [15186/15186]\n",
            "\n"
          ]
        }
      ]
    },
    {
      "cell_type": "code",
      "metadata": {
        "id": "RZ4ygZdusXnU"
      },
      "source": [
        "\n",
        "#!wget https://raw.githubusercontent.com/mrdbourke/tensorflow-deep-learning/main/extras/helper_functions.py"
      ],
      "execution_count": 3,
      "outputs": []
    },
    {
      "cell_type": "code",
      "metadata": {
        "id": "d9PrQc0tsiT3"
      },
      "source": [
        "from helper_functions import create_tensorboard_callback , plot_loss_curves, unzip_data, walk_through_dir,  calculate_results"
      ],
      "execution_count": 4,
      "outputs": []
    },
    {
      "cell_type": "code",
      "metadata": {
        "id": "O5ZdkUZusjvz"
      },
      "source": [
        ""
      ],
      "execution_count": 4,
      "outputs": []
    },
    {
      "cell_type": "code",
      "metadata": {
        "colab": {
          "base_uri": "https://localhost:8080/"
        },
        "id": "kX8fzUzLsGnC",
        "outputId": "aa5b4171-179a-4f8e-fec0-729df9d574f5"
      },
      "source": [
        "import os\n",
        "os.environ['KAGGLE_USERNAME'] = \"faustorenda\"\n",
        "os.environ['KAGGLE_KEY'] = \"5fb663b0362c20c1fadff51883752546\"\n",
        "!kaggle competitions download -c nlp-getting-started\n",
        "\n"
      ],
      "execution_count": 5,
      "outputs": [
        {
          "output_type": "stream",
          "name": "stdout",
          "text": [
            "Warning: Looks like you're using an outdated API Version, please consider updating (server 1.5.12 / client 1.5.4)\n",
            "Downloading train.csv to /content\n",
            "  0% 0.00/965k [00:00<?, ?B/s]\n",
            "100% 965k/965k [00:00<00:00, 63.7MB/s]\n",
            "Downloading test.csv to /content\n",
            "  0% 0.00/411k [00:00<?, ?B/s]\n",
            "100% 411k/411k [00:00<00:00, 56.9MB/s]\n",
            "Downloading sample_submission.csv to /content\n",
            "  0% 0.00/22.2k [00:00<?, ?B/s]\n",
            "100% 22.2k/22.2k [00:00<00:00, 22.1MB/s]\n"
          ]
        }
      ]
    },
    {
      "cell_type": "code",
      "metadata": {
        "id": "-S1grEp4waTk"
      },
      "source": [
        "#Download the Kaggle nlp file competition alternative\n",
        "#!wget https://storage.googleapis.com/ztm_tf_course/nlp_getting_started.zip\n",
        "#unzip_data('nlp_getting_started.zip')"
      ],
      "execution_count": 6,
      "outputs": []
    },
    {
      "cell_type": "code",
      "metadata": {
        "id": "AV_pe04eludf"
      },
      "source": [
        "from helper_functions import create_tensorboard_callback\n",
        "\n",
        "#Create a directory for tensorboard\n",
        "\n",
        "SAVE_DIR=\"model_logs\"\n"
      ],
      "execution_count": 7,
      "outputs": []
    },
    {
      "cell_type": "code",
      "metadata": {
        "id": "DlVvfXUYz1mQ"
      },
      "source": [
        "import pandas as pd\n",
        "train_df=pd.read_csv(\"train.csv\")\n",
        "test_df=pd.read_csv(\"test.csv\")\n"
      ],
      "execution_count": 8,
      "outputs": []
    },
    {
      "cell_type": "code",
      "metadata": {
        "id": "ef0qOHh20Ay7"
      },
      "source": [
        "train_df_shuffled=train_df.sample(frac=1,random_state=42)\n"
      ],
      "execution_count": 9,
      "outputs": []
    },
    {
      "cell_type": "code",
      "metadata": {
        "id": "XC_yxnqL0aqn",
        "colab": {
          "base_uri": "https://localhost:8080/",
          "height": 204
        },
        "outputId": "fcacb38a-8dc7-4312-f6dd-67caf0a2b92e"
      },
      "source": [
        "train_df_shuffled.head()"
      ],
      "execution_count": 10,
      "outputs": [
        {
          "output_type": "execute_result",
          "data": {
            "text/html": [
              "<div>\n",
              "<style scoped>\n",
              "    .dataframe tbody tr th:only-of-type {\n",
              "        vertical-align: middle;\n",
              "    }\n",
              "\n",
              "    .dataframe tbody tr th {\n",
              "        vertical-align: top;\n",
              "    }\n",
              "\n",
              "    .dataframe thead th {\n",
              "        text-align: right;\n",
              "    }\n",
              "</style>\n",
              "<table border=\"1\" class=\"dataframe\">\n",
              "  <thead>\n",
              "    <tr style=\"text-align: right;\">\n",
              "      <th></th>\n",
              "      <th>id</th>\n",
              "      <th>keyword</th>\n",
              "      <th>location</th>\n",
              "      <th>text</th>\n",
              "      <th>target</th>\n",
              "    </tr>\n",
              "  </thead>\n",
              "  <tbody>\n",
              "    <tr>\n",
              "      <th>2644</th>\n",
              "      <td>3796</td>\n",
              "      <td>destruction</td>\n",
              "      <td>NaN</td>\n",
              "      <td>So you have a new weapon that can cause un-ima...</td>\n",
              "      <td>1</td>\n",
              "    </tr>\n",
              "    <tr>\n",
              "      <th>2227</th>\n",
              "      <td>3185</td>\n",
              "      <td>deluge</td>\n",
              "      <td>NaN</td>\n",
              "      <td>The f$&amp;amp;@ing things I do for #GISHWHES Just...</td>\n",
              "      <td>0</td>\n",
              "    </tr>\n",
              "    <tr>\n",
              "      <th>5448</th>\n",
              "      <td>7769</td>\n",
              "      <td>police</td>\n",
              "      <td>UK</td>\n",
              "      <td>DT @georgegalloway: RT @Galloway4Mayor: ÛÏThe...</td>\n",
              "      <td>1</td>\n",
              "    </tr>\n",
              "    <tr>\n",
              "      <th>132</th>\n",
              "      <td>191</td>\n",
              "      <td>aftershock</td>\n",
              "      <td>NaN</td>\n",
              "      <td>Aftershock back to school kick off was great. ...</td>\n",
              "      <td>0</td>\n",
              "    </tr>\n",
              "    <tr>\n",
              "      <th>6845</th>\n",
              "      <td>9810</td>\n",
              "      <td>trauma</td>\n",
              "      <td>Montgomery County, MD</td>\n",
              "      <td>in response to trauma Children of Addicts deve...</td>\n",
              "      <td>0</td>\n",
              "    </tr>\n",
              "  </tbody>\n",
              "</table>\n",
              "</div>"
            ],
            "text/plain": [
              "        id  ... target\n",
              "2644  3796  ...      1\n",
              "2227  3185  ...      0\n",
              "5448  7769  ...      1\n",
              "132    191  ...      0\n",
              "6845  9810  ...      0\n",
              "\n",
              "[5 rows x 5 columns]"
            ]
          },
          "metadata": {},
          "execution_count": 10
        }
      ]
    },
    {
      "cell_type": "code",
      "metadata": {
        "id": "xdW6HWFP0iQN",
        "colab": {
          "base_uri": "https://localhost:8080/"
        },
        "outputId": "b8befecb-cd98-4b4e-9611-d991798e010d"
      },
      "source": [
        "train_df.target.value_counts()"
      ],
      "execution_count": 11,
      "outputs": [
        {
          "output_type": "execute_result",
          "data": {
            "text/plain": [
              "0    4342\n",
              "1    3271\n",
              "Name: target, dtype: int64"
            ]
          },
          "metadata": {},
          "execution_count": 11
        }
      ]
    },
    {
      "cell_type": "code",
      "metadata": {
        "id": "DXBf3L0m0xzs",
        "colab": {
          "base_uri": "https://localhost:8080/"
        },
        "outputId": "5378f0b9-f713-4127-deed-b6fefcf4cf58"
      },
      "source": [
        "#let's visualize some random training \n",
        "import random \n",
        "random_index = random.randint(0, len(train_df)-5)# create random indexes \n",
        "\n",
        "for row in train_df_shuffled[[\"text\",\"target\"]][random_index:random_index+5].itertuples():\n",
        "  _, text,target=row\n",
        "  print(f\"Target: {target}\", \"(real disaster)\" if target > 0 else \"(not real disaster)\")\n",
        "  print(f\"Text:\\n{text}\\n\")\n",
        "  print(\"----\\n\")\n"
      ],
      "execution_count": 12,
      "outputs": [
        {
          "output_type": "stream",
          "name": "stdout",
          "text": [
            "Target: 0 (not real disaster)\n",
            "Text:\n",
            "I just wanna smoke some weed and get some commas\n",
            "\n",
            "----\n",
            "\n",
            "Target: 0 (not real disaster)\n",
            "Text:\n",
            "Are people not concerned that after #SLAB's obliteration in Scotland #Labour UK is ripping itself apart over #Labourleadership contest?\n",
            "\n",
            "----\n",
            "\n",
            "Target: 0 (not real disaster)\n",
            "Text:\n",
            "2/his explanation was that 'you request as much as you want provided you get your job done but you're constantly drowning in work!'\n",
            "\n",
            "----\n",
            "\n",
            "Target: 0 (not real disaster)\n",
            "Text:\n",
            "The Hobbit: The Desolation of Smaug - Ed Sheeran 'I See Fire' [HD] http://t.co/OXRwRJZmnu\n",
            "\n",
            "----\n",
            "\n",
            "Target: 0 (not real disaster)\n",
            "Text:\n",
            "@Limpar33 sweeping legs? Or putting people in body bags?\n",
            "\n",
            "----\n",
            "\n"
          ]
        }
      ]
    },
    {
      "cell_type": "code",
      "metadata": {
        "colab": {
          "base_uri": "https://localhost:8080/"
        },
        "id": "-hfxd2hZYX7s",
        "outputId": "8a5edf2c-c3bb-411a-f7c0-c909e0530019"
      },
      "source": [
        "train_df_shuffled[\"text\"].to_numpy()"
      ],
      "execution_count": 13,
      "outputs": [
        {
          "output_type": "execute_result",
          "data": {
            "text/plain": [
              "array(['So you have a new weapon that can cause un-imaginable destruction.',\n",
              "       'The f$&amp;@ing things I do for #GISHWHES Just got soaked in a deluge going for pads and tampons. Thx @mishacollins @/@',\n",
              "       'DT @georgegalloway: RT @Galloway4Mayor: \\x89ÛÏThe CoL police can catch a pickpocket in Liverpool Stree... http://t.co/vXIn1gOq4Q',\n",
              "       ...,\n",
              "       'Omron HEM-712C Automatic Blood Pressure Monitor STANDARD AND LARGE BP CUFFS http://t.co/gJBAInQWN9 http://t.co/jPhgpL1c5x',\n",
              "       'Officials say a quarantine is in place at an Alabama home over a possible Ebola case after developing symptoms... http://t.co/rqKK15uhEY',\n",
              "       'I moved to England five years ago today. What a whirlwind of time it has been! http://t.co/eaSlGeA1B7'],\n",
              "      dtype=object)"
            ]
          },
          "metadata": {},
          "execution_count": 13
        }
      ]
    },
    {
      "cell_type": "code",
      "metadata": {
        "id": "tJuPwMzVXkzw"
      },
      "source": [
        "from sklearn.model_selection import train_test_split"
      ],
      "execution_count": 14,
      "outputs": []
    },
    {
      "cell_type": "code",
      "metadata": {
        "id": "zuwy_MvgX2S_"
      },
      "source": [
        "#Train\n",
        "train_sentences, val_sentences, train_labels, val_labels = train_test_split(train_df_shuffled[\"text\"].to_numpy(),\n",
        "                                                                            train_df_shuffled[\"target\"].to_numpy(),\n",
        "                                                                            test_size=0.1,\n",
        "                                                                            random_state=42)"
      ],
      "execution_count": 15,
      "outputs": []
    },
    {
      "cell_type": "code",
      "metadata": {
        "id": "PFkA0pPvYkvf",
        "colab": {
          "base_uri": "https://localhost:8080/"
        },
        "outputId": "47f20436-3290-4025-fb9b-279f7eca1c6d"
      },
      "source": [
        "len(train_sentences), len(val_sentences), len(train_labels), len(val_labels)"
      ],
      "execution_count": 16,
      "outputs": [
        {
          "output_type": "execute_result",
          "data": {
            "text/plain": [
              "(6851, 762, 6851, 762)"
            ]
          },
          "metadata": {},
          "execution_count": 16
        }
      ]
    },
    {
      "cell_type": "code",
      "metadata": {
        "id": "HrQJfALHjVyP",
        "colab": {
          "base_uri": "https://localhost:8080/"
        },
        "outputId": "8af3edfb-07e9-4fe1-dbd2-2f9771af361d"
      },
      "source": [
        "train_sentences[:5]"
      ],
      "execution_count": 17,
      "outputs": [
        {
          "output_type": "execute_result",
          "data": {
            "text/plain": [
              "array(['@mogacola @zamtriossu i screamed after hitting tweet',\n",
              "       'Imagine getting flattened by Kurt Zouma',\n",
              "       '@Gurmeetramrahim #MSGDoing111WelfareWorks Green S welfare force ke appx 65000 members har time disaster victim ki help ke liye tyar hai....',\n",
              "       \"@shakjn @C7 @Magnums im shaking in fear he's gonna hack the planet\",\n",
              "       'Somehow find you and I collide http://t.co/Ee8RpOahPk'],\n",
              "      dtype=object)"
            ]
          },
          "metadata": {},
          "execution_count": 17
        }
      ]
    },
    {
      "cell_type": "code",
      "metadata": {
        "id": "CEIUtjedY3Gc"
      },
      "source": [
        "import tensorflow as tf\n",
        "from tensorflow.keras.layers.experimental.preprocessing import TextVectorization\n",
        "\n",
        "text_vectorizer=TextVectorization(max_tokens=10000,\n",
        "                                  standardize=\"lower_and_strip_punctuation\",\n",
        "                                  split=\"whitespace\",\n",
        "                                  ngrams=None,\n",
        "                                  output_mode=\"int\",\n",
        "                                  output_sequence_length=None,\n",
        "                                  pad_to_max_tokens=True)"
      ],
      "execution_count": 18,
      "outputs": []
    },
    {
      "cell_type": "code",
      "metadata": {
        "colab": {
          "base_uri": "https://localhost:8080/"
        },
        "id": "L-gKePJ0jZ22",
        "outputId": "263d19af-20b0-4537-b577-34235f37c87e"
      },
      "source": [
        "len(train_sentences)"
      ],
      "execution_count": 19,
      "outputs": [
        {
          "output_type": "execute_result",
          "data": {
            "text/plain": [
              "6851"
            ]
          },
          "metadata": {},
          "execution_count": 19
        }
      ]
    },
    {
      "cell_type": "code",
      "metadata": {
        "colab": {
          "base_uri": "https://localhost:8080/"
        },
        "id": "qB40zkDNjpk5",
        "outputId": "39d5d40b-0924-43a1-ae74-dcb53deac483"
      },
      "source": [
        "(sum([len(i.split()) for i in train_sentences]))/len(train_sentences)"
      ],
      "execution_count": 20,
      "outputs": [
        {
          "output_type": "execute_result",
          "data": {
            "text/plain": [
              "14.901036345059115"
            ]
          },
          "metadata": {},
          "execution_count": 20
        }
      ]
    },
    {
      "cell_type": "code",
      "metadata": {
        "id": "nXk111nGkJmx"
      },
      "source": [
        "#Text Vectorization\n",
        "max_vocab_length=10000\n",
        "max_length=15\n",
        "text_vectorizer=TextVectorization(max_tokens=max_vocab_length,\n",
        "                                  output_mode=\"int\",\n",
        "                                  output_sequence_length=max_length)"
      ],
      "execution_count": 21,
      "outputs": []
    },
    {
      "cell_type": "code",
      "metadata": {
        "id": "Gzi3yCPTknMp"
      },
      "source": [
        "text_vectorizer.adapt(train_sentences)"
      ],
      "execution_count": 22,
      "outputs": []
    },
    {
      "cell_type": "code",
      "metadata": {
        "colab": {
          "base_uri": "https://localhost:8080/"
        },
        "id": "wYS_YrnKlK7O",
        "outputId": "8424696a-d54a-48a2-b9c8-dd9e86840b14"
      },
      "source": [
        "sample_sentence=\"There's a flood in my street!\"\n",
        "text_vectorizer([sample_sentence])"
      ],
      "execution_count": 23,
      "outputs": [
        {
          "output_type": "execute_result",
          "data": {
            "text/plain": [
              "<tf.Tensor: shape=(1, 15), dtype=int64, numpy=\n",
              "array([[264,   3, 232,   4,  13, 698,   0,   0,   0,   0,   0,   0,   0,\n",
              "          0,   0]])>"
            ]
          },
          "metadata": {},
          "execution_count": 23
        }
      ]
    },
    {
      "cell_type": "code",
      "metadata": {
        "colab": {
          "base_uri": "https://localhost:8080/"
        },
        "id": "pD8KRdO_leSW",
        "outputId": "d176e3b2-28db-471b-f909-13cba56feb24"
      },
      "source": [
        "random_sentence=random.choice(train_sentences)\n",
        "print(f\"Original text:\\n {random_sentence}\\\n",
        "        \\n\\nVectorized version:\")\n",
        "text_vectorizer([random_sentence])"
      ],
      "execution_count": 24,
      "outputs": [
        {
          "output_type": "stream",
          "name": "stdout",
          "text": [
            "Original text:\n",
            " He's being put on a stretcher ?? don't want to see that.        \n",
            "\n",
            "Vectorized version:\n"
          ]
        },
        {
          "output_type": "execute_result",
          "data": {
            "text/plain": [
              "<tf.Tensor: shape=(1, 15), dtype=int64, numpy=\n",
              "array([[277, 121, 370,  11,   3, 725,  63, 138,   5,  99,  16,   0,   0,\n",
              "          0,   0]])>"
            ]
          },
          "metadata": {},
          "execution_count": 24
        }
      ]
    },
    {
      "cell_type": "code",
      "metadata": {
        "colab": {
          "base_uri": "https://localhost:8080/"
        },
        "id": "7tRpUVUWmZql",
        "outputId": "a3693950-8781-4def-fe45-70420e89f35a"
      },
      "source": [
        "words_in_vocab=text_vectorizer.get_vocabulary()\n",
        "top_5_words=words_in_vocab[:5]\n",
        "bottom_5_words=words_in_vocab[-5:]\n",
        "\n",
        "print(len(words_in_vocab), \"\\n\", top_5_words, \"\\n\", bottom_5_words)"
      ],
      "execution_count": 25,
      "outputs": [
        {
          "output_type": "stream",
          "name": "stdout",
          "text": [
            "10000 \n",
            " ['', '[UNK]', 'the', 'a', 'in'] \n",
            " ['pages', 'paeds', 'pads', 'padres', 'paddytomlinson1']\n"
          ]
        }
      ]
    },
    {
      "cell_type": "code",
      "metadata": {
        "id": "qj1BFf10qwMv"
      },
      "source": [
        "### Create an Embedding Layer\n",
        "from tensorflow.keras import layers \n",
        "\n",
        "embedding=layers.Embedding(input_dim=max_vocab_length,\n",
        "                           output_dim=128,\n",
        "                           embeddings_initializer=\"uniform\",\n",
        "                           input_length=max_length)"
      ],
      "execution_count": 26,
      "outputs": []
    },
    {
      "cell_type": "code",
      "metadata": {
        "colab": {
          "base_uri": "https://localhost:8080/"
        },
        "id": "pjANW-fIrkG6",
        "outputId": "39abe49f-1e36-4a79-bdd5-58c33dd44297"
      },
      "source": [
        "random_sentence=random.choice(train_sentences)\n",
        "print(random_sentence)\n",
        "sample_embed=embedding(text_vectorizer([random_sentence]))\n",
        "sample_embed\n"
      ],
      "execution_count": 27,
      "outputs": [
        {
          "output_type": "stream",
          "name": "stdout",
          "text": [
            "Mortal Kombat X is an excellent fatalities and the most fun IÛªve ever had with a mortal kombat SEGA's version http://t.co/fLO8fgy35A\n"
          ]
        },
        {
          "output_type": "execute_result",
          "data": {
            "text/plain": [
              "<tf.Tensor: shape=(1, 15, 128), dtype=float32, numpy=\n",
              "array([[[ 0.03311827,  0.01082508, -0.0292679 , ...,  0.03926509,\n",
              "         -0.00143011,  0.04974235],\n",
              "        [ 0.0486973 , -0.01239998,  0.01847893, ..., -0.04316187,\n",
              "         -0.02380266, -0.02332904],\n",
              "        [-0.03190961,  0.02216138, -0.0393522 , ..., -0.03236387,\n",
              "          0.02246884,  0.03486342],\n",
              "        ...,\n",
              "        [ 0.02173379, -0.04083351, -0.00423918, ...,  0.00417455,\n",
              "          0.0135189 , -0.04476487],\n",
              "        [-0.00375615,  0.01034258, -0.04336276, ..., -0.03684806,\n",
              "          0.03881264,  0.02288255],\n",
              "        [-0.0225926 ,  0.00648845,  0.01922853, ..., -0.00322599,\n",
              "          0.0486044 , -0.03110323]]], dtype=float32)>"
            ]
          },
          "metadata": {},
          "execution_count": 27
        }
      ]
    },
    {
      "cell_type": "code",
      "metadata": {
        "id": "cHbV0MVttFFl",
        "colab": {
          "base_uri": "https://localhost:8080/"
        },
        "outputId": "b0f859ac-3b50-44e2-be6f-862bbbaeb5a1"
      },
      "source": [
        "sample_embed[0][0]"
      ],
      "execution_count": 28,
      "outputs": [
        {
          "output_type": "execute_result",
          "data": {
            "text/plain": [
              "<tf.Tensor: shape=(128,), dtype=float32, numpy=\n",
              "array([ 0.03311827,  0.01082508, -0.0292679 ,  0.02149632,  0.01597103,\n",
              "       -0.03732725,  0.02733665,  0.04463068,  0.01177058, -0.02378519,\n",
              "        0.04023968, -0.02982971,  0.04154265,  0.01100605,  0.02898291,\n",
              "        0.02655038,  0.01909909,  0.03038833,  0.045773  , -0.02896436,\n",
              "        0.00626736,  0.01218197,  0.03498385, -0.04798364,  0.01037866,\n",
              "       -0.01102767,  0.04903162, -0.01687795, -0.04350555,  0.04254563,\n",
              "        0.01524086,  0.02219303,  0.00858787,  0.03435545,  0.00246422,\n",
              "        0.00216013,  0.04674404,  0.03507347,  0.02274462,  0.01471299,\n",
              "       -0.04726307, -0.00422511, -0.00712963,  0.0082751 ,  0.04513827,\n",
              "       -0.04210107,  0.04300017,  0.03470543,  0.04124788,  0.0053014 ,\n",
              "        0.03223905, -0.00228784,  0.02467581, -0.04128449, -0.03112167,\n",
              "       -0.0106103 , -0.0090246 , -0.01775218, -0.03632899,  0.00319874,\n",
              "       -0.01423983,  0.02979592, -0.03503251, -0.01246087,  0.03604293,\n",
              "       -0.0426896 ,  0.01263542, -0.00827029, -0.01113296, -0.02585177,\n",
              "        0.01410479,  0.01005361,  0.00077092, -0.04838953, -0.02623428,\n",
              "       -0.00047978,  0.02794352,  0.01750669,  0.03428204,  0.0210266 ,\n",
              "        0.02618605, -0.03877133,  0.04024095, -0.03471764,  0.0033226 ,\n",
              "       -0.04943849,  0.0423854 , -0.02092558, -0.0265435 ,  0.04183575,\n",
              "        0.04115847,  0.03716959,  0.04012043,  0.01163637,  0.04231474,\n",
              "        0.00082544,  0.04420048,  0.0474362 ,  0.01369318,  0.04454746,\n",
              "        0.04489745,  0.01265181,  0.00716772, -0.02891464, -0.02141963,\n",
              "        0.04732908, -0.02676594,  0.03606344,  0.03268548, -0.0198589 ,\n",
              "        0.00365866,  0.03738317, -0.04776224,  0.01940734, -0.02688048,\n",
              "        0.01128127, -0.04107503, -0.01127335,  0.01662066,  0.00572772,\n",
              "        0.01825279, -0.04582563,  0.00721376,  0.01437631, -0.01493637,\n",
              "        0.03926509, -0.00143011,  0.04974235], dtype=float32)>"
            ]
          },
          "metadata": {},
          "execution_count": 28
        }
      ]
    },
    {
      "cell_type": "code",
      "metadata": {
        "id": "W6Z45k7Rym8E"
      },
      "source": [
        "from sklearn.feature_extraction.text import TfidfVectorizer\n",
        "from sklearn.naive_bayes import MultinomialNB\n",
        "from sklearn.pipeline import Pipeline\n"
      ],
      "execution_count": 29,
      "outputs": []
    },
    {
      "cell_type": "code",
      "metadata": {
        "id": "yiMtEO-ry7nM"
      },
      "source": [
        "model_0=Pipeline([\n",
        "                  (\"tfidf\", TfidfVectorizer()),\n",
        "                  (\"clf\", MultinomialNB())\n",
        "])"
      ],
      "execution_count": 30,
      "outputs": []
    },
    {
      "cell_type": "code",
      "metadata": {
        "colab": {
          "base_uri": "https://localhost:8080/"
        },
        "id": "8EHOvnfNzLEw",
        "outputId": "1b9473ac-24b4-4ee2-8908-9a9cc4da5431"
      },
      "source": [
        "model_0.fit(train_sentences, train_labels)"
      ],
      "execution_count": 31,
      "outputs": [
        {
          "output_type": "execute_result",
          "data": {
            "text/plain": [
              "Pipeline(memory=None,\n",
              "         steps=[('tfidf',\n",
              "                 TfidfVectorizer(analyzer='word', binary=False,\n",
              "                                 decode_error='strict',\n",
              "                                 dtype=<class 'numpy.float64'>,\n",
              "                                 encoding='utf-8', input='content',\n",
              "                                 lowercase=True, max_df=1.0, max_features=None,\n",
              "                                 min_df=1, ngram_range=(1, 1), norm='l2',\n",
              "                                 preprocessor=None, smooth_idf=True,\n",
              "                                 stop_words=None, strip_accents=None,\n",
              "                                 sublinear_tf=False,\n",
              "                                 token_pattern='(?u)\\\\b\\\\w\\\\w+\\\\b',\n",
              "                                 tokenizer=None, use_idf=True,\n",
              "                                 vocabulary=None)),\n",
              "                ('clf',\n",
              "                 MultinomialNB(alpha=1.0, class_prior=None, fit_prior=True))],\n",
              "         verbose=False)"
            ]
          },
          "metadata": {},
          "execution_count": 31
        }
      ]
    },
    {
      "cell_type": "code",
      "metadata": {
        "colab": {
          "base_uri": "https://localhost:8080/"
        },
        "id": "eJdeALGazTnu",
        "outputId": "9e215fc3-5e5d-4e1e-dd62-8768d9e28d52"
      },
      "source": [
        "#Evaluate our baseline model \n",
        "baseline_score=model_0.score(val_sentences, val_labels)\n",
        "print(f\"Our baseline model achieves an accuracy of:{baseline_score*100:.2f}%\")"
      ],
      "execution_count": 32,
      "outputs": [
        {
          "output_type": "stream",
          "name": "stdout",
          "text": [
            "Our baseline model achieves an accuracy of:79.27%\n"
          ]
        }
      ]
    },
    {
      "cell_type": "code",
      "metadata": {
        "colab": {
          "base_uri": "https://localhost:8080/"
        },
        "id": "2PeTI0Pjzrgi",
        "outputId": "d1fc45ba-5f71-4841-ca99-55fc89fde0ec"
      },
      "source": [
        "baseline_preds=model_0.predict(val_sentences)\n",
        "baseline_preds[:20]"
      ],
      "execution_count": 33,
      "outputs": [
        {
          "output_type": "execute_result",
          "data": {
            "text/plain": [
              "array([1, 1, 1, 0, 0, 1, 1, 1, 1, 0, 0, 1, 0, 0, 0, 0, 0, 0, 0, 1])"
            ]
          },
          "metadata": {},
          "execution_count": 33
        }
      ]
    },
    {
      "cell_type": "code",
      "metadata": {
        "colab": {
          "base_uri": "https://localhost:8080/"
        },
        "id": "R-QZMMN-z5Ka",
        "outputId": "d939bf39-03d2-44f6-ac03-63e082c7c450"
      },
      "source": [
        "from sklearn.metrics import accuracy_score, f1_score , precision_recall_fscore_support\n",
        "print(f1_score(val_labels, baseline_preds,average='weighted'),\n",
        "f1_score(val_labels, baseline_preds,average='micro'),\n",
        "f1_score(val_labels, baseline_preds,average='macro'),)"
      ],
      "execution_count": 34,
      "outputs": [
        {
          "output_type": "stream",
          "name": "stdout",
          "text": [
            "0.7862189758049549 0.7926509186351706 0.7820571304442272\n"
          ]
        }
      ]
    },
    {
      "cell_type": "code",
      "metadata": {
        "id": "_wgrxtbx3EA0"
      },
      "source": [
        "baseline_results=calculate_results(y_true=val_labels, y_pred=baseline_preds)"
      ],
      "execution_count": 35,
      "outputs": []
    },
    {
      "cell_type": "code",
      "metadata": {
        "colab": {
          "base_uri": "https://localhost:8080/"
        },
        "id": "4qGirjRJ3lbt",
        "outputId": "ae459c65-3b22-443a-a8f6-993133432b8d"
      },
      "source": [
        "baseline_results"
      ],
      "execution_count": 36,
      "outputs": [
        {
          "output_type": "execute_result",
          "data": {
            "text/plain": [
              "{'accuracy': 79.26509186351706,\n",
              " 'f1': 0.7862189758049549,\n",
              " 'precision': 0.8111390004213173,\n",
              " 'recall': 0.7926509186351706}"
            ]
          },
          "metadata": {},
          "execution_count": 36
        }
      ]
    },
    {
      "cell_type": "code",
      "metadata": {
        "id": "eVz93rfJavWS"
      },
      "source": [
        "import datetime\n",
        "def create_tensorboard_callback(dir_name, experiment_name):\n",
        "  \"\"\"\n",
        "  Creates a TensorBoard callback instand to store log files.\n",
        "  Stores log files with the filepath:\n",
        "    \"dir_name/experiment_name/current_datetime/\"\n",
        "  Args:\n",
        "    dir_name: target directory to store TensorBoard log files\n",
        "    experiment_name: name of experiment directory (e.g. efficientnet_model_1)\n",
        "  \"\"\"\n",
        "  log_dir = dir_name + \"/\" + experiment_name + \"/\" + datetime.datetime.now().strftime(\"%Y%m%d-%H%M%S\")\n",
        "  tensorboard_callback = tf.keras.callbacks.TensorBoard(\n",
        "      log_dir=log_dir\n",
        "  )\n",
        "  print(f\"Saving TensorBoard log files to: {log_dir}\")\n",
        "  return tensorboard_callback"
      ],
      "execution_count": 37,
      "outputs": []
    },
    {
      "cell_type": "code",
      "metadata": {
        "id": "N-vQzj5nZNMr"
      },
      "source": [
        "from tensorflow.keras import layers\n",
        "inputs=layers.Input(shape=(1,), dtype=tf.string)\n",
        "x=text_vectorizer(inputs)\n",
        "x=embedding(x)\n",
        "x=layers.GlobalAveragePooling1D()(x) #condense the feature vector optherwise we'll have a vector 15 \n",
        "outputs=layers.Dense(1,activation=\"sigmoid\")(x)\n",
        "model_1=tf.keras.Model(inputs, outputs, name=\"model_1_dense\")"
      ],
      "execution_count": 38,
      "outputs": []
    },
    {
      "cell_type": "code",
      "metadata": {
        "colab": {
          "base_uri": "https://localhost:8080/"
        },
        "id": "ZCU1hmN5Z_Go",
        "outputId": "6057f148-07c6-4a30-c97c-3a6fa46d417c"
      },
      "source": [
        "model_1.summary()"
      ],
      "execution_count": 39,
      "outputs": [
        {
          "output_type": "stream",
          "name": "stdout",
          "text": [
            "Model: \"model_1_dense\"\n",
            "_________________________________________________________________\n",
            "Layer (type)                 Output Shape              Param #   \n",
            "=================================================================\n",
            "input_1 (InputLayer)         [(None, 1)]               0         \n",
            "_________________________________________________________________\n",
            "text_vectorization_1 (TextVe (None, 15)                0         \n",
            "_________________________________________________________________\n",
            "embedding (Embedding)        (None, 15, 128)           1280000   \n",
            "_________________________________________________________________\n",
            "global_average_pooling1d (Gl (None, 128)               0         \n",
            "_________________________________________________________________\n",
            "dense (Dense)                (None, 1)                 129       \n",
            "=================================================================\n",
            "Total params: 1,280,129\n",
            "Trainable params: 1,280,129\n",
            "Non-trainable params: 0\n",
            "_________________________________________________________________\n"
          ]
        }
      ]
    },
    {
      "cell_type": "code",
      "metadata": {
        "id": "foYNMRE1aLVJ"
      },
      "source": [
        "model_1.compile(loss=\"binary_crossentropy\",\n",
        "                optimizer=tf.keras.optimizers.Adam(),\n",
        "                metrics=[\"accuracy\"])\n",
        "\n"
      ],
      "execution_count": 40,
      "outputs": []
    },
    {
      "cell_type": "code",
      "metadata": {
        "colab": {
          "base_uri": "https://localhost:8080/"
        },
        "id": "_1H2PuXGaVWy",
        "outputId": "c9f56a16-ef0c-4eaf-cc53-15a141dc17be"
      },
      "source": [
        "model_1_history=model_1.fit(x=train_sentences,\n",
        "                           y=train_labels,\n",
        "                           epochs=5,\n",
        "                           validation_data=(val_sentences, val_labels),\n",
        "                           callbacks=[create_tensorboard_callback(dir_name=SAVE_DIR,\n",
        "                                      experiment_name= \"model_1_dense\")])"
      ],
      "execution_count": 41,
      "outputs": [
        {
          "output_type": "stream",
          "name": "stdout",
          "text": [
            "Saving TensorBoard log files to: model_logs/model_1_dense/20211021-031344\n",
            "Epoch 1/5\n",
            "215/215 [==============================] - 5s 9ms/step - loss: 0.6126 - accuracy: 0.6881 - val_loss: 0.5359 - val_accuracy: 0.7546\n",
            "Epoch 2/5\n",
            "215/215 [==============================] - 1s 6ms/step - loss: 0.4405 - accuracy: 0.8171 - val_loss: 0.4724 - val_accuracy: 0.7848\n",
            "Epoch 3/5\n",
            "215/215 [==============================] - 1s 7ms/step - loss: 0.3463 - accuracy: 0.8631 - val_loss: 0.4615 - val_accuracy: 0.7940\n",
            "Epoch 4/5\n",
            "215/215 [==============================] - 1s 6ms/step - loss: 0.2837 - accuracy: 0.8902 - val_loss: 0.4635 - val_accuracy: 0.7822\n",
            "Epoch 5/5\n",
            "215/215 [==============================] - 1s 7ms/step - loss: 0.2366 - accuracy: 0.9113 - val_loss: 0.4776 - val_accuracy: 0.7769\n"
          ]
        }
      ]
    },
    {
      "cell_type": "code",
      "metadata": {
        "id": "MGamEGLtbBQu",
        "colab": {
          "base_uri": "https://localhost:8080/"
        },
        "outputId": "b192d15e-9299-4d15-e4c7-47dee76763e3"
      },
      "source": [
        "model_1.evaluate(val_sentences, val_labels)"
      ],
      "execution_count": 42,
      "outputs": [
        {
          "output_type": "stream",
          "name": "stdout",
          "text": [
            "24/24 [==============================] - 0s 4ms/step - loss: 0.4776 - accuracy: 0.7769\n"
          ]
        },
        {
          "output_type": "execute_result",
          "data": {
            "text/plain": [
              "[0.4775606095790863, 0.7769029140472412]"
            ]
          },
          "metadata": {},
          "execution_count": 42
        }
      ]
    },
    {
      "cell_type": "code",
      "metadata": {
        "id": "Nb7SIArjbHqb"
      },
      "source": [
        "model_1_pre_probs=model_1.predict(val_sentences)\n",
        "model_1_pre_probs.shape\n",
        "model_1_preds = tf.squeeze(tf.round(model_1_pre_probs)) # squeeze removes single dimen\n",
        "model_1_results=calculate_results(y_true=val_labels, y_pred=model_1_preds)"
      ],
      "execution_count": 43,
      "outputs": []
    },
    {
      "cell_type": "code",
      "metadata": {
        "id": "LRT7Yf3zcRT5",
        "colab": {
          "base_uri": "https://localhost:8080/"
        },
        "outputId": "4ffc98f0-8d6a-4c67-a1c8-38291f228b1c"
      },
      "source": [
        "model_1_pre_probs[0]"
      ],
      "execution_count": 44,
      "outputs": [
        {
          "output_type": "execute_result",
          "data": {
            "text/plain": [
              "array([0.43390083], dtype=float32)"
            ]
          },
          "metadata": {},
          "execution_count": 44
        }
      ]
    },
    {
      "cell_type": "code",
      "metadata": {
        "id": "g5q86x8tcZoi"
      },
      "source": [
        "inputs=layers.Input(shape=(1,), dtype=tf.string)\n",
        "x=text_vectorizer(inputs)\n",
        "x=embedding(x)\n",
        "x=layers.GlobalMaxPooling1D()(x) #condense the feature vector optherwise we'll have a vector 15 \n",
        "outputs=layers.Dense(1,activation=\"sigmoid\")(x)\n",
        "model_2=tf.keras.Model(inputs, outputs, name=\"model_1_dense\")\n",
        "model_2.compile(loss=\"binary_crossentropy\",\n",
        "                optimizer=tf.keras.optimizers.Adam(),\n",
        "                metrics=[\"accuracy\"])"
      ],
      "execution_count": 45,
      "outputs": []
    },
    {
      "cell_type": "code",
      "metadata": {
        "id": "yO2mlMCqcgm7",
        "colab": {
          "base_uri": "https://localhost:8080/"
        },
        "outputId": "a6a0a37e-c5f7-4381-9cd4-ebd38e411ce6"
      },
      "source": [
        "model_2_history=model_1.fit(x=train_sentences,\n",
        "                           y=train_labels,\n",
        "                           epochs=5,\n",
        "                           validation_data=(val_sentences, val_labels),\n",
        "                           callbacks=[create_tensorboard_callback(dir_name=SAVE_DIR,\n",
        "                                      experiment_name= \"model_2_dense\")])"
      ],
      "execution_count": 46,
      "outputs": [
        {
          "output_type": "stream",
          "name": "stdout",
          "text": [
            "Saving TensorBoard log files to: model_logs/model_2_dense/20211021-031356\n",
            "Epoch 1/5\n",
            "215/215 [==============================] - 2s 8ms/step - loss: 0.2009 - accuracy: 0.9283 - val_loss: 0.5009 - val_accuracy: 0.7822\n",
            "Epoch 2/5\n",
            "215/215 [==============================] - 1s 6ms/step - loss: 0.1722 - accuracy: 0.9402 - val_loss: 0.5248 - val_accuracy: 0.7822\n",
            "Epoch 3/5\n",
            "215/215 [==============================] - 1s 6ms/step - loss: 0.1494 - accuracy: 0.9494 - val_loss: 0.5577 - val_accuracy: 0.7782\n",
            "Epoch 4/5\n",
            "215/215 [==============================] - 1s 6ms/step - loss: 0.1299 - accuracy: 0.9572 - val_loss: 0.5820 - val_accuracy: 0.7769\n",
            "Epoch 5/5\n",
            "215/215 [==============================] - 1s 6ms/step - loss: 0.1159 - accuracy: 0.9616 - val_loss: 0.6125 - val_accuracy: 0.7782\n"
          ]
        }
      ]
    },
    {
      "cell_type": "code",
      "metadata": {
        "id": "0StdysDScp9L",
        "colab": {
          "base_uri": "https://localhost:8080/"
        },
        "outputId": "23dfff17-22eb-4eb5-f139-b49996a76e6b"
      },
      "source": [
        "model_1_preds=tf.squeeze(tf.round(model_1_pre_probs))\n",
        "model_1_preds[:20]"
      ],
      "execution_count": 47,
      "outputs": [
        {
          "output_type": "execute_result",
          "data": {
            "text/plain": [
              "<tf.Tensor: shape=(20,), dtype=float32, numpy=\n",
              "array([0., 1., 1., 0., 0., 1., 1., 1., 1., 0., 0., 1., 0., 0., 0., 0., 0.,\n",
              "       0., 0., 1.], dtype=float32)>"
            ]
          },
          "metadata": {},
          "execution_count": 47
        }
      ]
    },
    {
      "cell_type": "code",
      "metadata": {
        "id": "_O6oDeKLc1IB"
      },
      "source": [
        "model_1_results=calculate_results(y_true=val_labels, y_pred=model_1_preds)"
      ],
      "execution_count": 48,
      "outputs": []
    },
    {
      "cell_type": "code",
      "metadata": {
        "id": "0WwaJDDac-P6",
        "colab": {
          "base_uri": "https://localhost:8080/"
        },
        "outputId": "4017dfac-9b5b-4711-b2ad-9f51901041e0"
      },
      "source": [
        "model_1_results"
      ],
      "execution_count": 49,
      "outputs": [
        {
          "output_type": "execute_result",
          "data": {
            "text/plain": [
              "{'accuracy': 77.69028871391076,\n",
              " 'f1': 0.7747522807746444,\n",
              " 'precision': 0.7789562668302826,\n",
              " 'recall': 0.7769028871391076}"
            ]
          },
          "metadata": {},
          "execution_count": 49
        }
      ]
    },
    {
      "cell_type": "code",
      "metadata": {
        "id": "OT80AZS4dEdA",
        "colab": {
          "base_uri": "https://localhost:8080/"
        },
        "outputId": "055c457b-9f4c-4e68-ac45-fed53c46f27d"
      },
      "source": [
        "import numpy as np\n",
        "np.array(list(model_1_results.values())) > np.array(list(baseline_results.values()))"
      ],
      "execution_count": 50,
      "outputs": [
        {
          "output_type": "execute_result",
          "data": {
            "text/plain": [
              "array([False, False, False, False])"
            ]
          },
          "metadata": {},
          "execution_count": 50
        }
      ]
    },
    {
      "cell_type": "markdown",
      "metadata": {
        "id": "RCAQSD1UD1-T"
      },
      "source": [
        "## Visualizing Learned Embedding"
      ]
    },
    {
      "cell_type": "code",
      "metadata": {
        "colab": {
          "base_uri": "https://localhost:8080/"
        },
        "id": "1YErE490DwJB",
        "outputId": "0ca0e127-28a7-473c-9ada-33fe72ae7352"
      },
      "source": [
        "words_in_vocab=text_vectorizer.get_vocabulary()\n",
        "len(words_in_vocab), words_in_vocab[:10]"
      ],
      "execution_count": 51,
      "outputs": [
        {
          "output_type": "execute_result",
          "data": {
            "text/plain": [
              "(10000, ['', '[UNK]', 'the', 'a', 'in', 'to', 'of', 'and', 'i', 'is'])"
            ]
          },
          "metadata": {},
          "execution_count": 51
        }
      ]
    },
    {
      "cell_type": "code",
      "metadata": {
        "colab": {
          "base_uri": "https://localhost:8080/"
        },
        "id": "JoZxrpWFEFIj",
        "outputId": "ff446ed0-532b-4c87-f076-f6d4c3ad0830"
      },
      "source": [
        "model_1.summary()"
      ],
      "execution_count": 52,
      "outputs": [
        {
          "output_type": "stream",
          "name": "stdout",
          "text": [
            "Model: \"model_1_dense\"\n",
            "_________________________________________________________________\n",
            "Layer (type)                 Output Shape              Param #   \n",
            "=================================================================\n",
            "input_1 (InputLayer)         [(None, 1)]               0         \n",
            "_________________________________________________________________\n",
            "text_vectorization_1 (TextVe (None, 15)                0         \n",
            "_________________________________________________________________\n",
            "embedding (Embedding)        (None, 15, 128)           1280000   \n",
            "_________________________________________________________________\n",
            "global_average_pooling1d (Gl (None, 128)               0         \n",
            "_________________________________________________________________\n",
            "dense (Dense)                (None, 1)                 129       \n",
            "=================================================================\n",
            "Total params: 1,280,129\n",
            "Trainable params: 1,280,129\n",
            "Non-trainable params: 0\n",
            "_________________________________________________________________\n"
          ]
        }
      ]
    },
    {
      "cell_type": "code",
      "metadata": {
        "id": "Erg4uPFPEJmL"
      },
      "source": [
        "#Get the matrix embedding layer, the numerical representation in our training data\n",
        "embed_weights=model_1.get_layer(\"embedding\").get_weights()[0]"
      ],
      "execution_count": 53,
      "outputs": []
    },
    {
      "cell_type": "code",
      "metadata": {
        "id": "BInqa-GcEilR",
        "colab": {
          "base_uri": "https://localhost:8080/"
        },
        "outputId": "63a058fe-c911-496f-c524-ad65909c9f5e"
      },
      "source": [
        "print(embed_weights.shape)"
      ],
      "execution_count": 54,
      "outputs": [
        {
          "output_type": "stream",
          "name": "stdout",
          "text": [
            "(10000, 128)\n"
          ]
        }
      ]
    },
    {
      "cell_type": "code",
      "metadata": {
        "id": "9HXUj33vE8CV"
      },
      "source": [
        "#Create embedding files\n",
        "import io\n",
        "out_v = io.open('vectors.tsv', 'w', encoding='utf-8')\n",
        "out_m = io.open('metadata.tsv', 'w', encoding='utf-8')\n",
        "\n",
        "for index, word in enumerate(words_in_vocab):\n",
        "  if index == 0:\n",
        "    continue  # skip 0, it's padding.\n",
        "  vec = embed_weights[index]\n",
        "  out_v.write('\\t'.join([str(x) for x in vec]) + \"\\n\")\n",
        "  out_m.write(word + \"\\n\")\n",
        "out_v.close()\n",
        "out_m.close()"
      ],
      "execution_count": 55,
      "outputs": []
    },
    {
      "cell_type": "code",
      "metadata": {
        "id": "EmzhpXq3IBIy",
        "colab": {
          "base_uri": "https://localhost:8080/",
          "height": 17
        },
        "outputId": "31c401f1-3ebb-44ce-ecbd-762fe3853140"
      },
      "source": [
        "#Download files\n",
        "try:\n",
        "  from google.colab import files\n",
        "  files.download('vectors.tsv')\n",
        "  files.download('metadata.tsv')\n",
        "except Exception:\n",
        "  pass"
      ],
      "execution_count": 56,
      "outputs": [
        {
          "output_type": "display_data",
          "data": {
            "application/javascript": [
              "\n",
              "    async function download(id, filename, size) {\n",
              "      if (!google.colab.kernel.accessAllowed) {\n",
              "        return;\n",
              "      }\n",
              "      const div = document.createElement('div');\n",
              "      const label = document.createElement('label');\n",
              "      label.textContent = `Downloading \"${filename}\": `;\n",
              "      div.appendChild(label);\n",
              "      const progress = document.createElement('progress');\n",
              "      progress.max = size;\n",
              "      div.appendChild(progress);\n",
              "      document.body.appendChild(div);\n",
              "\n",
              "      const buffers = [];\n",
              "      let downloaded = 0;\n",
              "\n",
              "      const channel = await google.colab.kernel.comms.open(id);\n",
              "      // Send a message to notify the kernel that we're ready.\n",
              "      channel.send({})\n",
              "\n",
              "      for await (const message of channel.messages) {\n",
              "        // Send a message to notify the kernel that we're ready.\n",
              "        channel.send({})\n",
              "        if (message.buffers) {\n",
              "          for (const buffer of message.buffers) {\n",
              "            buffers.push(buffer);\n",
              "            downloaded += buffer.byteLength;\n",
              "            progress.value = downloaded;\n",
              "          }\n",
              "        }\n",
              "      }\n",
              "      const blob = new Blob(buffers, {type: 'application/binary'});\n",
              "      const a = document.createElement('a');\n",
              "      a.href = window.URL.createObjectURL(blob);\n",
              "      a.download = filename;\n",
              "      div.appendChild(a);\n",
              "      a.click();\n",
              "      div.remove();\n",
              "    }\n",
              "  "
            ],
            "text/plain": [
              "<IPython.core.display.Javascript object>"
            ]
          },
          "metadata": {}
        },
        {
          "output_type": "display_data",
          "data": {
            "application/javascript": [
              "download(\"download_e68f3329-9a45-4273-b80c-f25f765546cd\", \"vectors.tsv\", 15170111)"
            ],
            "text/plain": [
              "<IPython.core.display.Javascript object>"
            ]
          },
          "metadata": {}
        },
        {
          "output_type": "display_data",
          "data": {
            "application/javascript": [
              "\n",
              "    async function download(id, filename, size) {\n",
              "      if (!google.colab.kernel.accessAllowed) {\n",
              "        return;\n",
              "      }\n",
              "      const div = document.createElement('div');\n",
              "      const label = document.createElement('label');\n",
              "      label.textContent = `Downloading \"${filename}\": `;\n",
              "      div.appendChild(label);\n",
              "      const progress = document.createElement('progress');\n",
              "      progress.max = size;\n",
              "      div.appendChild(progress);\n",
              "      document.body.appendChild(div);\n",
              "\n",
              "      const buffers = [];\n",
              "      let downloaded = 0;\n",
              "\n",
              "      const channel = await google.colab.kernel.comms.open(id);\n",
              "      // Send a message to notify the kernel that we're ready.\n",
              "      channel.send({})\n",
              "\n",
              "      for await (const message of channel.messages) {\n",
              "        // Send a message to notify the kernel that we're ready.\n",
              "        channel.send({})\n",
              "        if (message.buffers) {\n",
              "          for (const buffer of message.buffers) {\n",
              "            buffers.push(buffer);\n",
              "            downloaded += buffer.byteLength;\n",
              "            progress.value = downloaded;\n",
              "          }\n",
              "        }\n",
              "      }\n",
              "      const blob = new Blob(buffers, {type: 'application/binary'});\n",
              "      const a = document.createElement('a');\n",
              "      a.href = window.URL.createObjectURL(blob);\n",
              "      a.download = filename;\n",
              "      div.appendChild(a);\n",
              "      a.click();\n",
              "      div.remove();\n",
              "    }\n",
              "  "
            ],
            "text/plain": [
              "<IPython.core.display.Javascript object>"
            ]
          },
          "metadata": {}
        },
        {
          "output_type": "display_data",
          "data": {
            "application/javascript": [
              "download(\"download_29868b22-147a-4fdb-9c7a-b42e705e4e98\", \"metadata.tsv\", 80388)"
            ],
            "text/plain": [
              "<IPython.core.display.Javascript object>"
            ]
          },
          "metadata": {}
        }
      ]
    },
    {
      "cell_type": "code",
      "metadata": {
        "id": "TAStgOc_fFAI",
        "colab": {
          "base_uri": "https://localhost:8080/"
        },
        "outputId": "1abe14df-8047-4963-aa4b-a61197df3302"
      },
      "source": [
        "len(val_labels), len(val_sentences)\n"
      ],
      "execution_count": 57,
      "outputs": [
        {
          "output_type": "execute_result",
          "data": {
            "text/plain": [
              "(762, 762)"
            ]
          },
          "metadata": {},
          "execution_count": 57
        }
      ]
    },
    {
      "cell_type": "code",
      "metadata": {
        "id": "SYkvHzhFmpSs",
        "colab": {
          "base_uri": "https://localhost:8080/"
        },
        "outputId": "0e0e8f15-2a90-4ee0-aa23-8285a1a39d6d"
      },
      "source": [
        "# Set random seed and create embedding layer (new embedding layer for each model)\n",
        "tf.random.set_seed(42)\n",
        "from tensorflow.keras import layers\n",
        "model_2_embedding = layers.Embedding(input_dim=max_vocab_length,\n",
        "                                     output_dim=128,\n",
        "                                     embeddings_initializer=\"uniform\",\n",
        "                                     input_length=max_length,\n",
        "                                     name=\"embedding_2\")\n",
        "\n",
        "\n",
        "# Create LSTM model\n",
        "inputs = layers.Input(shape=(1,), dtype=\"string\")\n",
        "x = text_vectorizer(inputs)\n",
        "x = model_2_embedding(x)\n",
        "print(x.shape)\n",
        "# x = layers.LSTM(64, return_sequences=True)(x) # return vector for each word in the Tweet (you can stack RNN cells as long as return_sequences=True)\n",
        "x = layers.LSTM(64)(x) # return vector for whole sequence\n",
        "print(x.shape)\n",
        "# x = layers.Dense(64, activation=\"relu\")(x) # optional dense layer on top of output of LSTM cell\n",
        "outputs = layers.Dense(1, activation=\"sigmoid\")(x)\n",
        "model_2 = tf.keras.Model(inputs, outputs, name=\"model_2_LSTM\")"
      ],
      "execution_count": 58,
      "outputs": [
        {
          "output_type": "stream",
          "name": "stdout",
          "text": [
            "(None, 15, 128)\n",
            "(None, 64)\n"
          ]
        }
      ]
    },
    {
      "cell_type": "code",
      "metadata": {
        "id": "aWe_u8gdmzUO"
      },
      "source": [
        "# Compile model\n",
        "model_2.compile(loss=\"binary_crossentropy\",\n",
        "                optimizer=tf.keras.optimizers.Adam(),\n",
        "                metrics=[\"accuracy\"])"
      ],
      "execution_count": 59,
      "outputs": []
    },
    {
      "cell_type": "code",
      "metadata": {
        "id": "FsYONwKSnCNu",
        "colab": {
          "base_uri": "https://localhost:8080/"
        },
        "outputId": "92b0ed31-0f91-4f6e-dc76-aa1470d7ebc9"
      },
      "source": [
        "# Fit model\n",
        "model_2_history = model_2.fit(train_sentences,\n",
        "                              train_labels,\n",
        "                              epochs=5,\n",
        "                              validation_data=(val_sentences, val_labels),\n",
        "                              callbacks=[create_tensorboard_callback(SAVE_DIR, \n",
        "                                                                     \"LSTM\")])"
      ],
      "execution_count": 60,
      "outputs": [
        {
          "output_type": "stream",
          "name": "stdout",
          "text": [
            "Saving TensorBoard log files to: model_logs/LSTM/20211021-031405\n",
            "Epoch 1/5\n",
            "215/215 [==============================] - 7s 14ms/step - loss: 0.5100 - accuracy: 0.7416 - val_loss: 0.4566 - val_accuracy: 0.7822\n",
            "Epoch 2/5\n",
            "215/215 [==============================] - 2s 10ms/step - loss: 0.3176 - accuracy: 0.8717 - val_loss: 0.5138 - val_accuracy: 0.7756\n",
            "Epoch 3/5\n",
            "215/215 [==============================] - 2s 10ms/step - loss: 0.2201 - accuracy: 0.9152 - val_loss: 0.5858 - val_accuracy: 0.7677\n",
            "Epoch 4/5\n",
            "215/215 [==============================] - 2s 10ms/step - loss: 0.1556 - accuracy: 0.9428 - val_loss: 0.6041 - val_accuracy: 0.7743\n",
            "Epoch 5/5\n",
            "215/215 [==============================] - 2s 10ms/step - loss: 0.1076 - accuracy: 0.9594 - val_loss: 0.8746 - val_accuracy: 0.7507\n"
          ]
        }
      ]
    },
    {
      "cell_type": "code",
      "metadata": {
        "id": "7C95I1Lxnlyg"
      },
      "source": [
        "model_2_pred_probs=model_2.predict(val_sentences)\n",
        "model_2_preds=tf.squeeze(tf.round(model_2_pred_probs))\n",
        "model_2_results=calculate_results(y_true=val_labels,\n",
        "                                  y_pred=model_2_preds)"
      ],
      "execution_count": 61,
      "outputs": []
    },
    {
      "cell_type": "code",
      "metadata": {
        "id": "YEibJN1woCNN",
        "colab": {
          "base_uri": "https://localhost:8080/"
        },
        "outputId": "16f8810f-5a56-4462-c5b8-3c865011c9b6"
      },
      "source": [
        "model_2_results"
      ],
      "execution_count": 62,
      "outputs": [
        {
          "output_type": "execute_result",
          "data": {
            "text/plain": [
              "{'accuracy': 75.06561679790026,\n",
              " 'f1': 0.7489268622514025,\n",
              " 'precision': 0.7510077975908164,\n",
              " 'recall': 0.7506561679790026}"
            ]
          },
          "metadata": {},
          "execution_count": 62
        }
      ]
    },
    {
      "cell_type": "code",
      "metadata": {
        "id": "dE1sqPEZoQrj",
        "colab": {
          "base_uri": "https://localhost:8080/"
        },
        "outputId": "472b16dd-49b5-4e5f-8a44-580711c6c417"
      },
      "source": [
        "baseline_results"
      ],
      "execution_count": 63,
      "outputs": [
        {
          "output_type": "execute_result",
          "data": {
            "text/plain": [
              "{'accuracy': 79.26509186351706,\n",
              " 'f1': 0.7862189758049549,\n",
              " 'precision': 0.8111390004213173,\n",
              " 'recall': 0.7926509186351706}"
            ]
          },
          "metadata": {},
          "execution_count": 63
        }
      ]
    },
    {
      "cell_type": "markdown",
      "metadata": {
        "id": "XDodWVLibk6k"
      },
      "source": [
        "# Build RNN using a GRU cell"
      ]
    },
    {
      "cell_type": "code",
      "metadata": {
        "id": "mXDJ7JE8bpDJ"
      },
      "source": [
        "from tensorflow.keras import layers\n",
        "inputs=layers.Input(shape=(1,), dtype=tf.string)\n",
        "x=text_vectorizer(inputs)\n",
        "x=embedding(x)\n",
        "\n",
        "#x=layers.GRU(64,return_sequences=True)(x)\n",
        "x=layers.GRU(64)(x)\n",
        "\n",
        "#x=layers.GlobalAveragePooling1D()(x)\n",
        "outputs=layers.Dense(1,activation=\"sigmoid\")(x)\n",
        "model_3=tf.keras.Model(inputs,outputs, name=\"model_3_GRU\")\n"
      ],
      "execution_count": 64,
      "outputs": []
    },
    {
      "cell_type": "code",
      "metadata": {
        "id": "SrpPI3qmdXKC",
        "colab": {
          "base_uri": "https://localhost:8080/"
        },
        "outputId": "c8a5763e-f7d2-4420-8707-74d92f109fe7"
      },
      "source": [
        "model_3.summary()"
      ],
      "execution_count": 65,
      "outputs": [
        {
          "output_type": "stream",
          "name": "stdout",
          "text": [
            "Model: \"model_3_GRU\"\n",
            "_________________________________________________________________\n",
            "Layer (type)                 Output Shape              Param #   \n",
            "=================================================================\n",
            "input_4 (InputLayer)         [(None, 1)]               0         \n",
            "_________________________________________________________________\n",
            "text_vectorization_1 (TextVe (None, 15)                0         \n",
            "_________________________________________________________________\n",
            "embedding (Embedding)        (None, 15, 128)           1280000   \n",
            "_________________________________________________________________\n",
            "gru (GRU)                    (None, 64)                37248     \n",
            "_________________________________________________________________\n",
            "dense_3 (Dense)              (None, 1)                 65        \n",
            "=================================================================\n",
            "Total params: 1,317,313\n",
            "Trainable params: 1,317,313\n",
            "Non-trainable params: 0\n",
            "_________________________________________________________________\n"
          ]
        }
      ]
    },
    {
      "cell_type": "code",
      "metadata": {
        "id": "0k0VTZJkelRx",
        "colab": {
          "base_uri": "https://localhost:8080/"
        },
        "outputId": "46df31d8-d083-4698-ba52-858df1ecf5b9"
      },
      "source": [
        "model_3.compile(loss=\"binary_crossentropy\",\n",
        "                optimizer=tf.keras.optimizers.Adam(),\n",
        "                metrics=[\"accuracy\"])\n",
        "\n",
        "model_3_history=model_3.fit(train_sentences,\n",
        "                            train_labels,\n",
        "                            epochs=5,\n",
        "                            validation_data=(val_sentences, val_labels),\n",
        "                            callbacks=[create_tensorboard_callback(SAVE_DIR,\n",
        "                                                                   \"model_GRU\")])"
      ],
      "execution_count": 66,
      "outputs": [
        {
          "output_type": "stream",
          "name": "stdout",
          "text": [
            "Saving TensorBoard log files to: model_logs/model_GRU/20211021-031422\n",
            "Epoch 1/5\n",
            "215/215 [==============================] - 5s 14ms/step - loss: 0.1607 - accuracy: 0.9358 - val_loss: 0.6482 - val_accuracy: 0.7743\n",
            "Epoch 2/5\n",
            "215/215 [==============================] - 2s 10ms/step - loss: 0.0920 - accuracy: 0.9666 - val_loss: 0.7271 - val_accuracy: 0.7795\n",
            "Epoch 3/5\n",
            "215/215 [==============================] - 2s 10ms/step - loss: 0.0784 - accuracy: 0.9704 - val_loss: 0.9141 - val_accuracy: 0.7808\n",
            "Epoch 4/5\n",
            "215/215 [==============================] - 2s 10ms/step - loss: 0.0742 - accuracy: 0.9720 - val_loss: 0.9104 - val_accuracy: 0.7743\n",
            "Epoch 5/5\n",
            "215/215 [==============================] - 2s 10ms/step - loss: 0.0668 - accuracy: 0.9729 - val_loss: 0.8717 - val_accuracy: 0.7782\n"
          ]
        }
      ]
    },
    {
      "cell_type": "code",
      "metadata": {
        "id": "NKrxZwgQfJvY",
        "colab": {
          "base_uri": "https://localhost:8080/"
        },
        "outputId": "0c77a206-3481-4e4e-945f-b498a5a92961"
      },
      "source": [
        "model_3_pred_probs=model_3.predict(val_sentences)\n",
        "model_3_preds=tf.squeeze(tf.round(model_3_pred_probs))\n",
        "model_3_preds[:10]\n"
      ],
      "execution_count": 67,
      "outputs": [
        {
          "output_type": "execute_result",
          "data": {
            "text/plain": [
              "<tf.Tensor: shape=(10,), dtype=float32, numpy=array([0., 1., 1., 0., 0., 1., 1., 1., 1., 1.], dtype=float32)>"
            ]
          },
          "metadata": {},
          "execution_count": 67
        }
      ]
    },
    {
      "cell_type": "code",
      "metadata": {
        "id": "JMoqXosdfojZ",
        "colab": {
          "base_uri": "https://localhost:8080/"
        },
        "outputId": "03dea11a-a61e-4488-bc3f-67b17556013c"
      },
      "source": [
        "model_3_results=calculate_results(y_true=val_labels,\n",
        "                                  y_pred=model_3_preds)\n",
        "model_3_results"
      ],
      "execution_count": 68,
      "outputs": [
        {
          "output_type": "execute_result",
          "data": {
            "text/plain": [
              "{'accuracy': 77.82152230971128,\n",
              " 'f1': 0.7766208088282468,\n",
              " 'precision': 0.7791991586469295,\n",
              " 'recall': 0.7782152230971129}"
            ]
          },
          "metadata": {},
          "execution_count": 68
        }
      ]
    },
    {
      "cell_type": "markdown",
      "metadata": {
        "id": "pdx6ob_CgWpe"
      },
      "source": [
        "# Experiment"
      ]
    },
    {
      "cell_type": "code",
      "metadata": {
        "id": "AWxt5dhcfl7s"
      },
      "source": [
        "\n",
        "\n",
        "from tensorflow.keras import layers\n",
        "inputs=layers.Input(shape=(1,), dtype=tf.string)\n",
        "x=text_vectorizer(inputs)\n",
        "x=embedding(x)\n",
        "\n",
        "#x=layers.GRU(64,return_sequences=True)(x)\n",
        "x=layers.GRU(64, return_sequences=True)(x)\n",
        "x=layers.LSTM(64,return_sequences=True)(x)\n",
        "x=layers.GlobalAveragePooling1D()(x)\n",
        "outputs=layers.Dense(1,activation=\"sigmoid\")(x)\n",
        "model_3_ex=tf.keras.Model(inputs,outputs, name=\"model_3ex_GRU+LSTM\")"
      ],
      "execution_count": 69,
      "outputs": []
    },
    {
      "cell_type": "code",
      "metadata": {
        "id": "h9_JxwNTgtmf",
        "colab": {
          "base_uri": "https://localhost:8080/"
        },
        "outputId": "ef79ed02-8c6f-4ea4-bf05-6ed9efa51a3c"
      },
      "source": [
        "model_3_ex.summary()"
      ],
      "execution_count": 70,
      "outputs": [
        {
          "output_type": "stream",
          "name": "stdout",
          "text": [
            "Model: \"model_3ex_GRU+LSTM\"\n",
            "_________________________________________________________________\n",
            "Layer (type)                 Output Shape              Param #   \n",
            "=================================================================\n",
            "input_5 (InputLayer)         [(None, 1)]               0         \n",
            "_________________________________________________________________\n",
            "text_vectorization_1 (TextVe (None, 15)                0         \n",
            "_________________________________________________________________\n",
            "embedding (Embedding)        (None, 15, 128)           1280000   \n",
            "_________________________________________________________________\n",
            "gru_1 (GRU)                  (None, 15, 64)            37248     \n",
            "_________________________________________________________________\n",
            "lstm_1 (LSTM)                (None, 15, 64)            33024     \n",
            "_________________________________________________________________\n",
            "global_average_pooling1d_1 ( (None, 64)                0         \n",
            "_________________________________________________________________\n",
            "dense_4 (Dense)              (None, 1)                 65        \n",
            "=================================================================\n",
            "Total params: 1,350,337\n",
            "Trainable params: 1,350,337\n",
            "Non-trainable params: 0\n",
            "_________________________________________________________________\n"
          ]
        }
      ]
    },
    {
      "cell_type": "code",
      "metadata": {
        "id": "CB1tgMqpg0UH",
        "colab": {
          "base_uri": "https://localhost:8080/"
        },
        "outputId": "a1861a5f-5525-4c26-c04b-c0948083c4dd"
      },
      "source": [
        "model_3_ex.compile(loss=\"binary_crossentropy\",\n",
        "                optimizer=tf.keras.optimizers.Adam(),\n",
        "                metrics=[\"accuracy\"])\n",
        "\n",
        "model_3_ex_history=model_3.fit(train_sentences,\n",
        "                            train_labels,\n",
        "                            epochs=5,\n",
        "                            validation_data=(val_sentences, val_labels),\n",
        "                            callbacks=[create_tensorboard_callback(SAVE_DIR,\n",
        "                                                                   \"model_GRU+LSTM\")])"
      ],
      "execution_count": 71,
      "outputs": [
        {
          "output_type": "stream",
          "name": "stdout",
          "text": [
            "Saving TensorBoard log files to: model_logs/model_GRU+LSTM/20211021-031446\n",
            "Epoch 1/5\n",
            "215/215 [==============================] - 2s 11ms/step - loss: 0.0644 - accuracy: 0.9762 - val_loss: 0.9014 - val_accuracy: 0.7730\n",
            "Epoch 2/5\n",
            "215/215 [==============================] - 2s 10ms/step - loss: 0.0633 - accuracy: 0.9762 - val_loss: 0.9378 - val_accuracy: 0.7677\n",
            "Epoch 3/5\n",
            "215/215 [==============================] - 2s 10ms/step - loss: 0.0556 - accuracy: 0.9774 - val_loss: 1.1236 - val_accuracy: 0.7638\n",
            "Epoch 4/5\n",
            "215/215 [==============================] - 2s 10ms/step - loss: 0.0542 - accuracy: 0.9783 - val_loss: 1.0972 - val_accuracy: 0.7703\n",
            "Epoch 5/5\n",
            "215/215 [==============================] - 2s 9ms/step - loss: 0.0487 - accuracy: 0.9793 - val_loss: 1.0991 - val_accuracy: 0.7651\n"
          ]
        }
      ]
    },
    {
      "cell_type": "code",
      "metadata": {
        "id": "05W4HzVDhCVK",
        "colab": {
          "base_uri": "https://localhost:8080/"
        },
        "outputId": "d131c3bb-4600-4417-a33a-83b1cab550de"
      },
      "source": [
        "model_3_ex_pred_probs=model_3.predict(val_sentences)\n",
        "model_3_ex_preds=tf.squeeze(tf.round(model_3_ex_pred_probs))\n",
        "model_3_ex_results=calculate_results(y_true=val_labels,\n",
        "                                  y_pred=model_3_ex_preds)\n",
        "model_3_ex_results"
      ],
      "execution_count": 72,
      "outputs": [
        {
          "output_type": "execute_result",
          "data": {
            "text/plain": [
              "{'accuracy': 76.50918635170603,\n",
              " 'f1': 0.7636361523198555,\n",
              " 'precision': 0.7654719672276178,\n",
              " 'recall': 0.7650918635170604}"
            ]
          },
          "metadata": {},
          "execution_count": 72
        }
      ]
    },
    {
      "cell_type": "markdown",
      "metadata": {
        "id": "-lfeC5t6hVVO"
      },
      "source": [
        "# Model 4 Bidirectional RNN"
      ]
    },
    {
      "cell_type": "code",
      "metadata": {
        "id": "VcdxOD_8jWQR",
        "colab": {
          "base_uri": "https://localhost:8080/"
        },
        "outputId": "43d29481-d062-455f-d8f1-9c93baeb3fe0"
      },
      "source": [
        "from tensorflow.keras import layers\n",
        "model_4_embedding = layers.Embedding(input_dim=max_vocab_length,\n",
        "                                     output_dim=128,\n",
        "                                     embeddings_initializer=\"uniform\",\n",
        "                                     input_length=max_length,\n",
        "                                     name=\"embedding_4\")\n",
        "from tensorflow.keras import layers\n",
        "inputs=layers.Input(shape=(1,), dtype=\"string\")\n",
        "x=text_vectorizer(inputs)\n",
        "x=embedding(x)\n",
        "x=layers.Bidirectional(layers.LSTM(64, return_sequences=True))(x)\n",
        "print(x.shape)\n",
        "x=layers.Bidirectional(layers.GRU(64))(x)\n",
        "outputs=layers.Dense(1,activation=\"sigmoid\")(x)\n",
        "model_4=tf.keras.Model(inputs, outputs, name=\"model_4_bidirectional\")\n",
        "\n"
      ],
      "execution_count": 73,
      "outputs": [
        {
          "output_type": "stream",
          "name": "stdout",
          "text": [
            "(None, 15, 128)\n"
          ]
        }
      ]
    },
    {
      "cell_type": "code",
      "metadata": {
        "colab": {
          "base_uri": "https://localhost:8080/"
        },
        "id": "IrjpWq32xwf8",
        "outputId": "7f76e7e4-1027-44db-89b4-d128ade74652"
      },
      "source": [
        "model_4.summary()"
      ],
      "execution_count": 74,
      "outputs": [
        {
          "output_type": "stream",
          "name": "stdout",
          "text": [
            "Model: \"model_4_bidirectional\"\n",
            "_________________________________________________________________\n",
            "Layer (type)                 Output Shape              Param #   \n",
            "=================================================================\n",
            "input_6 (InputLayer)         [(None, 1)]               0         \n",
            "_________________________________________________________________\n",
            "text_vectorization_1 (TextVe (None, 15)                0         \n",
            "_________________________________________________________________\n",
            "embedding (Embedding)        (None, 15, 128)           1280000   \n",
            "_________________________________________________________________\n",
            "bidirectional (Bidirectional (None, 15, 128)           98816     \n",
            "_________________________________________________________________\n",
            "bidirectional_1 (Bidirection (None, 128)               74496     \n",
            "_________________________________________________________________\n",
            "dense_5 (Dense)              (None, 1)                 129       \n",
            "=================================================================\n",
            "Total params: 1,453,441\n",
            "Trainable params: 1,453,441\n",
            "Non-trainable params: 0\n",
            "_________________________________________________________________\n"
          ]
        }
      ]
    },
    {
      "cell_type": "code",
      "metadata": {
        "id": "b2eEwodvyVLA"
      },
      "source": [
        "model_4.compile(loss=\"binary_crossentropy\",\n",
        "                optimizer=tf.keras.optimizers.Adam(),\n",
        "                metrics=[\"accuracy\"])\n"
      ],
      "execution_count": 75,
      "outputs": []
    },
    {
      "cell_type": "code",
      "metadata": {
        "colab": {
          "base_uri": "https://localhost:8080/"
        },
        "id": "5c6ZnBQKyeVJ",
        "outputId": "91a7a954-c405-4bb8-a0b0-ed333fff11e9"
      },
      "source": [
        "model_4_history=model_4.fit(train_sentences,\n",
        "                            train_labels,\n",
        "                            epochs=5,\n",
        "                            validation_data=(val_sentences, val_labels),\n",
        "                            callbacks=[create_tensorboard_callback(SAVE_DIR,\n",
        "                                                                   \"model_4_bidirectional\")])"
      ],
      "execution_count": 76,
      "outputs": [
        {
          "output_type": "stream",
          "name": "stdout",
          "text": [
            "Saving TensorBoard log files to: model_logs/model_4_bidirectional/20211021-031508\n",
            "Epoch 1/5\n",
            "215/215 [==============================] - 14s 33ms/step - loss: 0.0902 - accuracy: 0.9721 - val_loss: 1.1808 - val_accuracy: 0.7625\n",
            "Epoch 2/5\n",
            "215/215 [==============================] - 5s 24ms/step - loss: 0.0563 - accuracy: 0.9781 - val_loss: 1.0738 - val_accuracy: 0.7598\n",
            "Epoch 3/5\n",
            "215/215 [==============================] - 5s 24ms/step - loss: 0.0477 - accuracy: 0.9793 - val_loss: 1.3192 - val_accuracy: 0.7454\n",
            "Epoch 4/5\n",
            "215/215 [==============================] - 5s 23ms/step - loss: 0.0439 - accuracy: 0.9801 - val_loss: 1.2940 - val_accuracy: 0.7664\n",
            "Epoch 5/5\n",
            "215/215 [==============================] - 5s 23ms/step - loss: 0.0380 - accuracy: 0.9818 - val_loss: 1.5230 - val_accuracy: 0.7467\n"
          ]
        }
      ]
    },
    {
      "cell_type": "code",
      "metadata": {
        "id": "6z_rADV1y3nc"
      },
      "source": [
        "model_4_pred_probs=model_4.predict(val_sentences)"
      ],
      "execution_count": 77,
      "outputs": []
    },
    {
      "cell_type": "code",
      "metadata": {
        "id": "pFGzUr6oy_Wv"
      },
      "source": [
        "model_4_preds=tf.squeeze(tf.round(model_4_pred_probs))\n",
        "model_4_results=calculate_results(y_true=val_labels,\n",
        "                                  y_pred=model_4_preds)"
      ],
      "execution_count": 78,
      "outputs": []
    },
    {
      "cell_type": "code",
      "metadata": {
        "colab": {
          "base_uri": "https://localhost:8080/"
        },
        "id": "7xsL68LbzPuc",
        "outputId": "637198ce-9875-4e4b-d596-c4b61a24b91b"
      },
      "source": [
        "model_4_results"
      ],
      "execution_count": 79,
      "outputs": [
        {
          "output_type": "execute_result",
          "data": {
            "text/plain": [
              "{'accuracy': 74.67191601049869,\n",
              " 'f1': 0.7460962822824113,\n",
              " 'precision': 0.7462229578218768,\n",
              " 'recall': 0.7467191601049868}"
            ]
          },
          "metadata": {},
          "execution_count": 79
        }
      ]
    },
    {
      "cell_type": "markdown",
      "metadata": {
        "id": "kGEtJP8KfPM4"
      },
      "source": [
        "# Conv1D"
      ]
    },
    {
      "cell_type": "code",
      "metadata": {
        "colab": {
          "base_uri": "https://localhost:8080/"
        },
        "id": "aiDDEXO0fXR_",
        "outputId": "ff2cdd13-6a1a-4f48-f172-b7bc6d6567d8"
      },
      "source": [
        "from tensorflow.keras import layers\n",
        "embedding_test=embedding(text_vectorizer([\"this is a test sentence\"]))\n",
        "\n",
        "conv_1d=layers.Conv1D(filters=64, \n",
        "                     kernel_size=5,\n",
        "                     strides=1, \n",
        "                     activation=\"relu\",\n",
        "                     padding=\"same\")\n",
        "conv_1d_output=conv_1d(embedding_test)\n",
        "max_pool=layers.GlobalMaxPool1D()\n",
        "max_pool_output=max_pool(conv_1d_output)\n",
        "\n",
        "embedding_test.shape,conv_1d_output.shape, max_pool_output.shape"
      ],
      "execution_count": 80,
      "outputs": [
        {
          "output_type": "execute_result",
          "data": {
            "text/plain": [
              "(TensorShape([1, 15, 128]), TensorShape([1, 15, 64]), TensorShape([1, 64]))"
            ]
          },
          "metadata": {},
          "execution_count": 80
        }
      ]
    },
    {
      "cell_type": "code",
      "metadata": {
        "colab": {
          "base_uri": "https://localhost:8080/"
        },
        "id": "z2v1kngMfwKw",
        "outputId": "486d4153-93dd-4613-d6ba-6c3b558da11e"
      },
      "source": [
        "embedding_test"
      ],
      "execution_count": 81,
      "outputs": [
        {
          "output_type": "execute_result",
          "data": {
            "text/plain": [
              "<tf.Tensor: shape=(1, 15, 128), dtype=float32, numpy=\n",
              "array([[[-0.03434725,  0.10323719,  0.01996841, ..., -0.05657073,\n",
              "         -0.09665015, -0.03057502],\n",
              "        [ 0.01761619, -0.03249446,  0.05325663, ..., -0.01530009,\n",
              "          0.0292419 ,  0.01640472],\n",
              "        [ 0.01111914,  0.03111434,  0.00726684, ..., -0.01435592,\n",
              "         -0.03753208,  0.0016701 ],\n",
              "        ...,\n",
              "        [-0.01846613,  0.01748684,  0.0220047 , ..., -0.02543562,\n",
              "         -0.00400091, -0.0118119 ],\n",
              "        [-0.01846613,  0.01748684,  0.0220047 , ..., -0.02543562,\n",
              "         -0.00400091, -0.0118119 ],\n",
              "        [-0.01846613,  0.01748684,  0.0220047 , ..., -0.02543562,\n",
              "         -0.00400091, -0.0118119 ]]], dtype=float32)>"
            ]
          },
          "metadata": {},
          "execution_count": 81
        }
      ]
    },
    {
      "cell_type": "code",
      "metadata": {
        "colab": {
          "base_uri": "https://localhost:8080/"
        },
        "id": "9xFflZpziJTC",
        "outputId": "a7f98435-af5c-46f1-cf73-02a4c8f1181e"
      },
      "source": [
        "conv_1d_output"
      ],
      "execution_count": 82,
      "outputs": [
        {
          "output_type": "execute_result",
          "data": {
            "text/plain": [
              "<tf.Tensor: shape=(1, 15, 64), dtype=float32, numpy=\n",
              "array([[[0.        , 0.03475671, 0.        , 0.        , 0.00642724,\n",
              "         0.        , 0.0561801 , 0.09534727, 0.02903874, 0.04421557,\n",
              "         0.00956296, 0.        , 0.        , 0.        , 0.01407903,\n",
              "         0.        , 0.02539196, 0.        , 0.        , 0.        ,\n",
              "         0.        , 0.        , 0.        , 0.        , 0.06875631,\n",
              "         0.        , 0.03222729, 0.        , 0.        , 0.01606819,\n",
              "         0.        , 0.05401915, 0.08816342, 0.        , 0.06709042,\n",
              "         0.00143829, 0.02139032, 0.        , 0.00251166, 0.04982132,\n",
              "         0.        , 0.        , 0.02552538, 0.03987662, 0.        ,\n",
              "         0.        , 0.07969014, 0.00775237, 0.        , 0.        ,\n",
              "         0.        , 0.        , 0.        , 0.08722382, 0.        ,\n",
              "         0.        , 0.        , 0.        , 0.01647845, 0.01348718,\n",
              "         0.        , 0.        , 0.        , 0.04511637],\n",
              "        [0.        , 0.05031531, 0.00615983, 0.        , 0.02465829,\n",
              "         0.        , 0.01403406, 0.        , 0.04130326, 0.        ,\n",
              "         0.09506166, 0.0127665 , 0.        , 0.        , 0.        ,\n",
              "         0.02319749, 0.        , 0.07602105, 0.        , 0.        ,\n",
              "         0.00265364, 0.        , 0.        , 0.00076349, 0.        ,\n",
              "         0.06626045, 0.01764431, 0.        , 0.        , 0.03230139,\n",
              "         0.02435769, 0.        , 0.07411072, 0.01746684, 0.04102655,\n",
              "         0.03208588, 0.08457938, 0.        , 0.0949816 , 0.        ,\n",
              "         0.        , 0.04743782, 0.07126353, 0.        , 0.03683314,\n",
              "         0.        , 0.        , 0.        , 0.        , 0.        ,\n",
              "         0.02492451, 0.        , 0.01816151, 0.07201089, 0.        ,\n",
              "         0.01744993, 0.0162262 , 0.        , 0.        , 0.07673167,\n",
              "         0.        , 0.00653109, 0.04287459, 0.00849036],\n",
              "        [0.        , 0.04680838, 0.06147582, 0.        , 0.        ,\n",
              "         0.02455287, 0.        , 0.        , 0.        , 0.        ,\n",
              "         0.        , 0.03783372, 0.        , 0.        , 0.        ,\n",
              "         0.01636925, 0.04987253, 0.        , 0.11960889, 0.00087899,\n",
              "         0.        , 0.        , 0.03379067, 0.01422725, 0.        ,\n",
              "         0.01256269, 0.        , 0.00347819, 0.0438235 , 0.02736963,\n",
              "         0.03071376, 0.        , 0.        , 0.        , 0.03340053,\n",
              "         0.01619558, 0.        , 0.08506526, 0.02851357, 0.        ,\n",
              "         0.06213966, 0.07896034, 0.03477094, 0.03392226, 0.        ,\n",
              "         0.        , 0.        , 0.02183926, 0.06619329, 0.        ,\n",
              "         0.02586643, 0.02947455, 0.        , 0.06663142, 0.        ,\n",
              "         0.        , 0.00073095, 0.02877295, 0.        , 0.        ,\n",
              "         0.03933828, 0.        , 0.        , 0.03280742],\n",
              "        [0.        , 0.0060208 , 0.        , 0.02838462, 0.05354037,\n",
              "         0.02957109, 0.        , 0.        , 0.00899693, 0.        ,\n",
              "         0.02509341, 0.        , 0.01057324, 0.01739388, 0.        ,\n",
              "         0.00379859, 0.0268943 , 0.02128365, 0.00183802, 0.03342061,\n",
              "         0.0087732 , 0.        , 0.00215716, 0.04912299, 0.01860848,\n",
              "         0.03563739, 0.        , 0.        , 0.00980404, 0.05313535,\n",
              "         0.06282554, 0.        , 0.0138515 , 0.00775584, 0.        ,\n",
              "         0.        , 0.06929184, 0.05815836, 0.02295556, 0.        ,\n",
              "         0.        , 0.01922728, 0.06270401, 0.00582981, 0.        ,\n",
              "         0.06460704, 0.        , 0.01222652, 0.02412979, 0.        ,\n",
              "         0.00093281, 0.        , 0.        , 0.07292145, 0.        ,\n",
              "         0.01772756, 0.        , 0.        , 0.06051105, 0.        ,\n",
              "         0.00710067, 0.        , 0.0570903 , 0.04081742],\n",
              "        [0.        , 0.02222849, 0.        , 0.0257199 , 0.04926462,\n",
              "         0.        , 0.        , 0.        , 0.00333107, 0.04578289,\n",
              "         0.06692411, 0.        , 0.        , 0.00553977, 0.03624057,\n",
              "         0.01843851, 0.0160052 , 0.        , 0.        , 0.00185463,\n",
              "         0.        , 0.00884535, 0.0306988 , 0.        , 0.        ,\n",
              "         0.        , 0.04624805, 0.        , 0.06749613, 0.        ,\n",
              "         0.02109921, 0.        , 0.00401813, 0.        , 0.        ,\n",
              "         0.00822708, 0.02693677, 0.        , 0.0286223 , 0.        ,\n",
              "         0.        , 0.00475429, 0.02937632, 0.        , 0.        ,\n",
              "         0.        , 0.        , 0.        , 0.05816761, 0.0206309 ,\n",
              "         0.        , 0.04779061, 0.03533208, 0.00014725, 0.01078922,\n",
              "         0.01091342, 0.03236961, 0.        , 0.00624381, 0.        ,\n",
              "         0.01503565, 0.04117117, 0.05538786, 0.00515332],\n",
              "        [0.        , 0.        , 0.        , 0.        , 0.03447022,\n",
              "         0.        , 0.03477246, 0.0179682 , 0.01089522, 0.0024458 ,\n",
              "         0.04388498, 0.        , 0.        , 0.        , 0.00570178,\n",
              "         0.0171538 , 0.04594713, 0.00208324, 0.        , 0.01108886,\n",
              "         0.        , 0.        , 0.00039349, 0.01892777, 0.05591044,\n",
              "         0.00739216, 0.00852087, 0.        , 0.00800351, 0.00670971,\n",
              "         0.        , 0.05220034, 0.00748166, 0.        , 0.04439557,\n",
              "         0.        , 0.        , 0.        , 0.        , 0.03139998,\n",
              "         0.0262278 , 0.        , 0.0210315 , 0.01796478, 0.01182947,\n",
              "         0.        , 0.        , 0.00078025, 0.        , 0.03123891,\n",
              "         0.        , 0.02023665, 0.00374211, 0.        , 0.        ,\n",
              "         0.03388901, 0.07746757, 0.        , 0.        , 0.04227243,\n",
              "         0.01715935, 0.        , 0.01492617, 0.02918798],\n",
              "        [0.        , 0.        , 0.        , 0.01231325, 0.01456428,\n",
              "         0.        , 0.00816319, 0.01847037, 0.04543079, 0.        ,\n",
              "         0.04724606, 0.        , 0.        , 0.        , 0.        ,\n",
              "         0.00915749, 0.04240428, 0.        , 0.        , 0.        ,\n",
              "         0.        , 0.        , 0.        , 0.        , 0.0196672 ,\n",
              "         0.03728119, 0.01615025, 0.        , 0.01148828, 0.04316042,\n",
              "         0.00175275, 0.01098581, 0.04592909, 0.00271789, 0.00735911,\n",
              "         0.        , 0.        , 0.03670488, 0.        , 0.01786922,\n",
              "         0.04134595, 0.02526717, 0.10308629, 0.        , 0.        ,\n",
              "         0.00949858, 0.        , 0.        , 0.03786197, 0.        ,\n",
              "         0.        , 0.00702977, 0.01475745, 0.03801155, 0.00748065,\n",
              "         0.01007814, 0.01088148, 0.        , 0.        , 0.        ,\n",
              "         0.01811041, 0.        , 0.        , 0.0254466 ],\n",
              "        [0.        , 0.        , 0.        , 0.02120372, 0.01731283,\n",
              "         0.        , 0.00057506, 0.02084147, 0.04023737, 0.02124513,\n",
              "         0.04212532, 0.        , 0.        , 0.        , 0.        ,\n",
              "         0.00617737, 0.03184403, 0.        , 0.        , 0.02651973,\n",
              "         0.        , 0.        , 0.        , 0.        , 0.02413417,\n",
              "         0.02724012, 0.00151647, 0.        , 0.01408184, 0.0257537 ,\n",
              "         0.00894611, 0.02492426, 0.01237466, 0.        , 0.0193451 ,\n",
              "         0.01112483, 0.03764667, 0.00697919, 0.01925616, 0.00353043,\n",
              "         0.00624603, 0.00459587, 0.03301759, 0.0170135 , 0.        ,\n",
              "         0.        , 0.        , 0.01648452, 0.01516835, 0.        ,\n",
              "         0.        , 0.02277871, 0.01040297, 0.05154446, 0.        ,\n",
              "         0.        , 0.0311792 , 0.        , 0.        , 0.        ,\n",
              "         0.        , 0.        , 0.        , 0.03075499],\n",
              "        [0.        , 0.        , 0.        , 0.02120372, 0.01731283,\n",
              "         0.        , 0.00057506, 0.02084148, 0.04023738, 0.02124513,\n",
              "         0.04212532, 0.        , 0.        , 0.        , 0.        ,\n",
              "         0.00617738, 0.03184403, 0.        , 0.        , 0.02651973,\n",
              "         0.        , 0.        , 0.        , 0.        , 0.02413417,\n",
              "         0.02724012, 0.00151646, 0.        , 0.01408185, 0.02575371,\n",
              "         0.00894611, 0.02492426, 0.01237467, 0.        , 0.0193451 ,\n",
              "         0.01112483, 0.03764668, 0.00697919, 0.01925617, 0.00353044,\n",
              "         0.00624603, 0.00459587, 0.0330176 , 0.01701349, 0.        ,\n",
              "         0.        , 0.        , 0.01648452, 0.01516835, 0.        ,\n",
              "         0.        , 0.02277871, 0.01040297, 0.05154445, 0.        ,\n",
              "         0.        , 0.0311792 , 0.        , 0.        , 0.        ,\n",
              "         0.        , 0.        , 0.        , 0.03075499],\n",
              "        [0.        , 0.        , 0.        , 0.02120372, 0.01731283,\n",
              "         0.        , 0.00057507, 0.02084147, 0.04023737, 0.02124513,\n",
              "         0.04212533, 0.        , 0.        , 0.        , 0.        ,\n",
              "         0.00617737, 0.03184403, 0.        , 0.        , 0.02651973,\n",
              "         0.        , 0.        , 0.        , 0.        , 0.02413417,\n",
              "         0.02724012, 0.00151647, 0.        , 0.01408184, 0.02575371,\n",
              "         0.00894611, 0.02492426, 0.01237466, 0.        , 0.0193451 ,\n",
              "         0.01112483, 0.03764667, 0.00697919, 0.01925617, 0.00353044,\n",
              "         0.00624603, 0.00459587, 0.03301759, 0.01701349, 0.        ,\n",
              "         0.        , 0.        , 0.01648452, 0.01516834, 0.        ,\n",
              "         0.        , 0.02277871, 0.01040297, 0.05154445, 0.        ,\n",
              "         0.        , 0.0311792 , 0.        , 0.        , 0.        ,\n",
              "         0.        , 0.        , 0.        , 0.03075498],\n",
              "        [0.        , 0.        , 0.        , 0.02120372, 0.01731283,\n",
              "         0.        , 0.00057506, 0.02084148, 0.04023737, 0.02124514,\n",
              "         0.04212532, 0.        , 0.        , 0.        , 0.        ,\n",
              "         0.00617737, 0.03184402, 0.        , 0.        , 0.02651973,\n",
              "         0.        , 0.        , 0.        , 0.        , 0.02413417,\n",
              "         0.02724013, 0.00151647, 0.        , 0.01408184, 0.0257537 ,\n",
              "         0.00894611, 0.02492426, 0.01237466, 0.        , 0.0193451 ,\n",
              "         0.01112483, 0.03764668, 0.0069792 , 0.01925616, 0.00353044,\n",
              "         0.00624603, 0.00459587, 0.0330176 , 0.01701349, 0.        ,\n",
              "         0.        , 0.        , 0.01648452, 0.01516835, 0.        ,\n",
              "         0.        , 0.02277871, 0.01040297, 0.05154445, 0.        ,\n",
              "         0.        , 0.0311792 , 0.        , 0.        , 0.        ,\n",
              "         0.        , 0.        , 0.        , 0.03075499],\n",
              "        [0.        , 0.        , 0.        , 0.02120372, 0.01731283,\n",
              "         0.        , 0.00057506, 0.02084148, 0.04023737, 0.02124513,\n",
              "         0.04212532, 0.        , 0.        , 0.        , 0.        ,\n",
              "         0.00617737, 0.03184403, 0.        , 0.        , 0.02651973,\n",
              "         0.        , 0.        , 0.        , 0.        , 0.02413416,\n",
              "         0.02724013, 0.00151647, 0.        , 0.01408185, 0.02575371,\n",
              "         0.00894611, 0.02492426, 0.01237466, 0.        , 0.0193451 ,\n",
              "         0.01112484, 0.03764668, 0.0069792 , 0.01925616, 0.00353044,\n",
              "         0.00624603, 0.00459587, 0.03301759, 0.01701349, 0.        ,\n",
              "         0.        , 0.        , 0.01648452, 0.01516835, 0.        ,\n",
              "         0.        , 0.02277871, 0.01040296, 0.05154446, 0.        ,\n",
              "         0.        , 0.03117919, 0.        , 0.        , 0.        ,\n",
              "         0.        , 0.        , 0.        , 0.03075499],\n",
              "        [0.        , 0.        , 0.        , 0.02120372, 0.01731283,\n",
              "         0.        , 0.00057506, 0.02084148, 0.04023737, 0.02124513,\n",
              "         0.04212533, 0.        , 0.        , 0.        , 0.        ,\n",
              "         0.00617737, 0.03184403, 0.        , 0.        , 0.02651973,\n",
              "         0.        , 0.        , 0.        , 0.        , 0.02413417,\n",
              "         0.02724013, 0.00151646, 0.        , 0.01408185, 0.0257537 ,\n",
              "         0.00894611, 0.02492426, 0.01237466, 0.        , 0.0193451 ,\n",
              "         0.01112484, 0.03764667, 0.00697919, 0.01925616, 0.00353044,\n",
              "         0.00624603, 0.00459586, 0.03301759, 0.01701349, 0.        ,\n",
              "         0.        , 0.        , 0.01648453, 0.01516835, 0.        ,\n",
              "         0.        , 0.02277872, 0.01040297, 0.05154445, 0.        ,\n",
              "         0.        , 0.03117919, 0.        , 0.        , 0.        ,\n",
              "         0.        , 0.        , 0.        , 0.03075499],\n",
              "        [0.        , 0.        , 0.        , 0.01504379, 0.0027584 ,\n",
              "         0.        , 0.        , 0.00743806, 0.02190443, 0.0126855 ,\n",
              "         0.03971477, 0.        , 0.        , 0.        , 0.        ,\n",
              "         0.00460904, 0.03172056, 0.        , 0.        , 0.03225027,\n",
              "         0.        , 0.        , 0.        , 0.        , 0.        ,\n",
              "         0.0167574 , 0.00354541, 0.        , 0.02475918, 0.01674007,\n",
              "         0.00765225, 0.01348812, 0.01027813, 0.        , 0.02043769,\n",
              "         0.00620454, 0.02827309, 0.01188484, 0.02352039, 0.00979288,\n",
              "         0.        , 0.00070544, 0.01377665, 0.01910501, 0.        ,\n",
              "         0.        , 0.00208453, 0.00825097, 0.00724764, 0.        ,\n",
              "         0.        , 0.01456353, 0.00627796, 0.05832229, 0.        ,\n",
              "         0.        , 0.03319348, 0.        , 0.        , 0.        ,\n",
              "         0.        , 0.        , 0.        , 0.01531445],\n",
              "        [0.        , 0.        , 0.01873325, 0.0079697 , 0.00138072,\n",
              "         0.0034373 , 0.        , 0.01660699, 0.00189764, 0.00979893,\n",
              "         0.02305049, 0.        , 0.        , 0.        , 0.        ,\n",
              "         0.00330681, 0.02412099, 0.        , 0.00658507, 0.01807544,\n",
              "         0.        , 0.        , 0.        , 0.        , 0.        ,\n",
              "         0.00863642, 0.        , 0.        , 0.00205727, 0.02507352,\n",
              "         0.01808774, 0.        , 0.        , 0.        , 0.0267233 ,\n",
              "         0.00151316, 0.02864287, 0.01633133, 0.02628593, 0.00528979,\n",
              "         0.00134974, 0.00473882, 0.01638335, 0.00167513, 0.        ,\n",
              "         0.        , 0.0066083 , 0.01694306, 0.0081414 , 0.        ,\n",
              "         0.00882096, 0.02036787, 0.        , 0.05574093, 0.        ,\n",
              "         0.        , 0.02921451, 0.        , 0.00137053, 0.        ,\n",
              "         0.        , 0.        , 0.        , 0.00289189]]], dtype=float32)>"
            ]
          },
          "metadata": {},
          "execution_count": 82
        }
      ]
    },
    {
      "cell_type": "code",
      "metadata": {
        "colab": {
          "base_uri": "https://localhost:8080/"
        },
        "id": "LIeoIyDcjKPJ",
        "outputId": "a926a797-3bb1-4e26-eca3-058b194fc190"
      },
      "source": [
        "inputs=layers.Input(shape=(1,) , dtype=tf.string)\n",
        "x=text_vectorizer(inputs)\n",
        "x=embedding(x)\n",
        "x=layers.Conv1D(filters=128, kernel_size=5, strides=1,activation=\"relu\", padding=\"valid\")(x)\n",
        "x=layers.Dense(10, activation=\"sigmoid\")(x)\n",
        "x=layers.GlobalMaxPool1D()(x)\n",
        "outputs=layers.Dense(1,activation=\"sigmoid\")(x)\n",
        "model_5=tf.keras.Model(inputs, outputs, name=\"model_5_Conv1D\")\n",
        "\n",
        "#Compile\n",
        "model_5.compile(loss=\"binary_crossentropy\",\n",
        "                optimizer=tf.keras.optimizers.Adam(),\n",
        "                metrics=[\"accuracy\"])\n",
        "model_5.summary()"
      ],
      "execution_count": 83,
      "outputs": [
        {
          "output_type": "stream",
          "name": "stdout",
          "text": [
            "Model: \"model_5_Conv1D\"\n",
            "_________________________________________________________________\n",
            "Layer (type)                 Output Shape              Param #   \n",
            "=================================================================\n",
            "input_7 (InputLayer)         [(None, 1)]               0         \n",
            "_________________________________________________________________\n",
            "text_vectorization_1 (TextVe (None, 15)                0         \n",
            "_________________________________________________________________\n",
            "embedding (Embedding)        (None, 15, 128)           1280000   \n",
            "_________________________________________________________________\n",
            "conv1d_1 (Conv1D)            (None, 11, 128)           82048     \n",
            "_________________________________________________________________\n",
            "dense_6 (Dense)              (None, 11, 10)            1290      \n",
            "_________________________________________________________________\n",
            "global_max_pooling1d_2 (Glob (None, 10)                0         \n",
            "_________________________________________________________________\n",
            "dense_7 (Dense)              (None, 1)                 11        \n",
            "=================================================================\n",
            "Total params: 1,363,349\n",
            "Trainable params: 1,363,349\n",
            "Non-trainable params: 0\n",
            "_________________________________________________________________\n"
          ]
        }
      ]
    },
    {
      "cell_type": "code",
      "metadata": {
        "colab": {
          "base_uri": "https://localhost:8080/"
        },
        "id": "TxZFNV5xlGHO",
        "outputId": "a734bc00-52e6-4213-e968-30ebd882b782"
      },
      "source": [
        "#Fit the model\n",
        "model_5_history=model_5.fit(train_sentences,\n",
        "                            train_labels,\n",
        "                            epochs=5,\n",
        "                            validation_data=(val_sentences, val_labels),\n",
        "                            callbacks=[create_tensorboard_callback(SAVE_DIR,\"Conv1D\")])"
      ],
      "execution_count": 84,
      "outputs": [
        {
          "output_type": "stream",
          "name": "stdout",
          "text": [
            "Saving TensorBoard log files to: model_logs/Conv1D/20211021-031608\n",
            "Epoch 1/5\n",
            "215/215 [==============================] - 5s 11ms/step - loss: 0.4640 - accuracy: 0.7990 - val_loss: 0.6002 - val_accuracy: 0.7178\n",
            "Epoch 2/5\n",
            "215/215 [==============================] - 2s 8ms/step - loss: 0.3133 - accuracy: 0.9226 - val_loss: 0.6098 - val_accuracy: 0.7244\n",
            "Epoch 3/5\n",
            "215/215 [==============================] - 2s 8ms/step - loss: 0.2431 - accuracy: 0.9428 - val_loss: 0.6169 - val_accuracy: 0.7283\n",
            "Epoch 4/5\n",
            "215/215 [==============================] - 2s 8ms/step - loss: 0.1912 - accuracy: 0.9540 - val_loss: 0.6430 - val_accuracy: 0.7283\n",
            "Epoch 5/5\n",
            "215/215 [==============================] - 2s 8ms/step - loss: 0.1573 - accuracy: 0.9599 - val_loss: 0.6893 - val_accuracy: 0.7323\n"
          ]
        }
      ]
    },
    {
      "cell_type": "code",
      "metadata": {
        "colab": {
          "base_uri": "https://localhost:8080/"
        },
        "id": "OXiopIMjl8L1",
        "outputId": "c201eefb-a22b-4216-ab89-69829a48ebc0"
      },
      "source": [
        "model_5_pred_probs=model_5.predict(val_sentences)\n",
        "\n",
        "model_5_preds=tf.squeeze(tf.round(model_5_pred_probs))\n",
        "model_5_preds[:10]\n",
        "model_5_results=calculate_results(y_true=val_labels,\n",
        "                                  y_pred=model_5_preds)\n",
        "model_5_results"
      ],
      "execution_count": 85,
      "outputs": [
        {
          "output_type": "execute_result",
          "data": {
            "text/plain": [
              "{'accuracy': 73.22834645669292,\n",
              " 'f1': 0.7321532667187167,\n",
              " 'precision': 0.732063549361326,\n",
              " 'recall': 0.7322834645669292}"
            ]
          },
          "metadata": {},
          "execution_count": 85
        }
      ]
    },
    {
      "cell_type": "markdown",
      "metadata": {
        "id": "7398KxYwom7D"
      },
      "source": [
        "# Model6 NLP feature extractor"
      ]
    },
    {
      "cell_type": "code",
      "metadata": {
        "colab": {
          "base_uri": "https://localhost:8080/"
        },
        "id": "wZHfBSoyop9I",
        "outputId": "71afb093-65eb-47ff-d299-d8d2f8eaf0a2"
      },
      "source": [
        "import tensorflow_hub as hub\n",
        "embed=hub.load(\"https://tfhub.dev/google/universal-sentence-encoder/4\")\n",
        "embed_samples=embed([sample_sentence, \"When you can the universal\"])\n",
        "print(embed_samples)"
      ],
      "execution_count": 86,
      "outputs": [
        {
          "output_type": "stream",
          "name": "stdout",
          "text": [
            "tf.Tensor(\n",
            "[[-0.01157024  0.0248591   0.0287805  ... -0.00186124  0.02315823\n",
            "  -0.01485021]\n",
            " [ 0.04234138 -0.02893714 -0.03400723 ...  0.01936416  0.08538696\n",
            "  -0.05124618]], shape=(2, 512), dtype=float32)\n"
          ]
        }
      ]
    },
    {
      "cell_type": "code",
      "metadata": {
        "id": "x_NOvHTN20Oe"
      },
      "source": [
        "#Create a Keras Layaer using the USE pretrained layer\n",
        "sentence_encoder_layer=hub.KerasLayer(\"https://tfhub.dev/google/universal-sentence-encoder/4\",\n",
        "                                      input_shape=[],\n",
        "                                      dtype=tf.string,\n",
        "                                      trainable=False,\n",
        "                                      name=\"USE\")"
      ],
      "execution_count": 87,
      "outputs": []
    },
    {
      "cell_type": "code",
      "metadata": {
        "colab": {
          "base_uri": "https://localhost:8080/"
        },
        "id": "_00gEcDP3aEa",
        "outputId": "ea19b15b-aad0-433c-eeae-5c31beb198cc"
      },
      "source": [
        "#Create model using Sequential API\n",
        "model_6_1=tf.keras.Sequential([sentence_encoder_layer,\n",
        "                             layers.Dense(64,activation=\"relu\"),\n",
        "                             layers.Dense(1, activation=\"sigmoid\", name=\"output_layer\")], name=\"model_6_64dense_USE\")\n",
        "\n",
        "model_6_1.compile(loss=\"binary_crossentropy\",\n",
        "                optimizer=tf.keras.optimizers.Adam(),\n",
        "                metrics=[\"accuracy\"])\n",
        "model_6_1.summary()"
      ],
      "execution_count": 88,
      "outputs": [
        {
          "output_type": "stream",
          "name": "stdout",
          "text": [
            "Model: \"model_6_64dense_USE\"\n",
            "_________________________________________________________________\n",
            "Layer (type)                 Output Shape              Param #   \n",
            "=================================================================\n",
            "USE (KerasLayer)             (None, 512)               256797824 \n",
            "_________________________________________________________________\n",
            "dense_8 (Dense)              (None, 64)                32832     \n",
            "_________________________________________________________________\n",
            "output_layer (Dense)         (None, 1)                 65        \n",
            "=================================================================\n",
            "Total params: 256,830,721\n",
            "Trainable params: 32,897\n",
            "Non-trainable params: 256,797,824\n",
            "_________________________________________________________________\n"
          ]
        }
      ]
    },
    {
      "cell_type": "code",
      "metadata": {
        "colab": {
          "base_uri": "https://localhost:8080/"
        },
        "id": "XV7iRFNi4CMU",
        "outputId": "c05c9894-df97-4dc0-de6b-7c5746c7d340"
      },
      "source": [
        "#Train a classifier on top of USE pretrained layer\n",
        "model_6_1_history=model_6_1.fit(train_sentences,\n",
        "                            train_labels,\n",
        "                            epochs=5,\n",
        "                            validation_data=(val_sentences, val_labels),\n",
        "                            callbacks=[create_tensorboard_callback(SAVE_DIR,\"tf_hub_sentences_encoder\")])\n"
      ],
      "execution_count": 89,
      "outputs": [
        {
          "output_type": "stream",
          "name": "stdout",
          "text": [
            "Saving TensorBoard log files to: model_logs/tf_hub_sentences_encoder/20211021-031652\n",
            "Epoch 1/5\n",
            "215/215 [==============================] - 9s 31ms/step - loss: 0.5062 - accuracy: 0.7827 - val_loss: 0.4492 - val_accuracy: 0.7979\n",
            "Epoch 2/5\n",
            "215/215 [==============================] - 4s 19ms/step - loss: 0.4157 - accuracy: 0.8139 - val_loss: 0.4375 - val_accuracy: 0.8071\n",
            "Epoch 3/5\n",
            "215/215 [==============================] - 4s 18ms/step - loss: 0.4013 - accuracy: 0.8218 - val_loss: 0.4332 - val_accuracy: 0.8136\n",
            "Epoch 4/5\n",
            "215/215 [==============================] - 4s 18ms/step - loss: 0.3944 - accuracy: 0.8253 - val_loss: 0.4287 - val_accuracy: 0.8110\n",
            "Epoch 5/5\n",
            "215/215 [==============================] - 4s 18ms/step - loss: 0.3885 - accuracy: 0.8276 - val_loss: 0.4303 - val_accuracy: 0.8136\n"
          ]
        }
      ]
    },
    {
      "cell_type": "code",
      "metadata": {
        "colab": {
          "base_uri": "https://localhost:8080/"
        },
        "id": "Ly8ZxiGo4cnB",
        "outputId": "2f9e7acb-93c0-4e84-eacf-53999bf2a04e"
      },
      "source": [
        "model_6_1_pred_probs=model_6_1.predict(val_sentences)\n",
        "\n",
        "model_6_1_preds=tf.squeeze(tf.round(model_6_1_pred_probs))\n",
        "model_6_1_results=calculate_results(y_true=val_labels,\n",
        "                                  y_pred=model_6_1_preds)\n",
        "model_6_1_results"
      ],
      "execution_count": 90,
      "outputs": [
        {
          "output_type": "execute_result",
          "data": {
            "text/plain": [
              "{'accuracy': 81.36482939632546,\n",
              " 'f1': 0.8121626682144012,\n",
              " 'precision': 0.8157623872867286,\n",
              " 'recall': 0.8136482939632546}"
            ]
          },
          "metadata": {},
          "execution_count": 90
        }
      ]
    },
    {
      "cell_type": "code",
      "metadata": {
        "colab": {
          "base_uri": "https://localhost:8080/"
        },
        "id": "IKJhEh6u6Nl0",
        "outputId": "f9aec3b4-416b-4e8e-cd06-b58abf82a568"
      },
      "source": [
        "len(train_df_shuffled)"
      ],
      "execution_count": 91,
      "outputs": [
        {
          "output_type": "execute_result",
          "data": {
            "text/plain": [
              "7613"
            ]
          },
          "metadata": {},
          "execution_count": 91
        }
      ]
    },
    {
      "cell_type": "markdown",
      "metadata": {
        "id": "WUrDZTfn7Hg8"
      },
      "source": [
        "# Model 7: TF hub Pretrained USE but with 10% "
      ]
    },
    {
      "cell_type": "code",
      "metadata": {
        "id": "cP9SC2407Ld3"
      },
      "source": [
        "#Create subset of 10% of the training data\n"
      ],
      "execution_count": 92,
      "outputs": []
    },
    {
      "cell_type": "code",
      "metadata": {
        "id": "5zQPr3hz7Uyk"
      },
      "source": [
        "## Making data split like below leads to data leakage!!!!!! \n",
        "\n",
        "train_10_percent=train_df_shuffled[[\"text\",\"target\"]].sample(frac=0.1, random_state=42)\n",
        "train_sentences_10_percent=train_10_percent[\"text\"].to_list()\n",
        "train_labels_10_percent=train_10_percent[\"target\"].to_list()"
      ],
      "execution_count": 93,
      "outputs": []
    },
    {
      "cell_type": "code",
      "metadata": {
        "id": "oRD2Yzl5C5sI"
      },
      "source": [
        "#Making a better dataset split (no data leakage)\n",
        "train_10_percent_split=int(0.1*len(train_sentences))\n",
        "train_sentences_10_percent=train_sentences[:train_10_percent_split]\n",
        "train_labels_10_percent=train_labels[:train_10_percent_split]"
      ],
      "execution_count": 94,
      "outputs": []
    },
    {
      "cell_type": "code",
      "metadata": {
        "colab": {
          "base_uri": "https://localhost:8080/"
        },
        "id": "aPuYNbKYE-Bd",
        "outputId": "6673c90b-368f-435f-85fd-16b764c158a2"
      },
      "source": [
        "#Check the number of labels in the 10% training data subsets\n",
        "pd.Series(train_labels_10_percent).value_counts()"
      ],
      "execution_count": 95,
      "outputs": [
        {
          "output_type": "execute_result",
          "data": {
            "text/plain": [
              "0    406\n",
              "1    279\n",
              "dtype: int64"
            ]
          },
          "metadata": {},
          "execution_count": 95
        }
      ]
    },
    {
      "cell_type": "code",
      "metadata": {
        "colab": {
          "base_uri": "https://localhost:8080/"
        },
        "id": "-AP4pum87_92",
        "outputId": "3c256f81-4369-41f3-fbe9-073efcc0c211"
      },
      "source": [
        "len(train_10_percent)"
      ],
      "execution_count": 96,
      "outputs": [
        {
          "output_type": "execute_result",
          "data": {
            "text/plain": [
              "761"
            ]
          },
          "metadata": {},
          "execution_count": 96
        }
      ]
    },
    {
      "cell_type": "code",
      "metadata": {
        "colab": {
          "base_uri": "https://localhost:8080/"
        },
        "id": "USAcEZHZ8hgv",
        "outputId": "83671f71-9249-4f76-b958-9448621f757b"
      },
      "source": [
        "#Check distribution \n",
        "train_10_percent[\"target\"].value_counts()\n"
      ],
      "execution_count": 97,
      "outputs": [
        {
          "output_type": "execute_result",
          "data": {
            "text/plain": [
              "0    413\n",
              "1    348\n",
              "Name: target, dtype: int64"
            ]
          },
          "metadata": {},
          "execution_count": 97
        }
      ]
    },
    {
      "cell_type": "code",
      "metadata": {
        "colab": {
          "base_uri": "https://localhost:8080/"
        },
        "id": "zg1E9x9Z9gQL",
        "outputId": "8f0f2ba3-c367-40c4-80ed-4226c4e428f7"
      },
      "source": [
        "train_df_shuffled[\"target\"].value_counts()"
      ],
      "execution_count": 98,
      "outputs": [
        {
          "output_type": "execute_result",
          "data": {
            "text/plain": [
              "0    4342\n",
              "1    3271\n",
              "Name: target, dtype: int64"
            ]
          },
          "metadata": {},
          "execution_count": 98
        }
      ]
    },
    {
      "cell_type": "code",
      "metadata": {
        "colab": {
          "base_uri": "https://localhost:8080/"
        },
        "id": "_sXHjWDB9n2R",
        "outputId": "8d59c349-695f-4ac3-c7b7-bde1f1fcaf0c"
      },
      "source": [
        "#Create model using Sequential API\n",
        "model_7=tf.keras.Sequential([sentence_encoder_layer,\n",
        "                             layers.Dense(64,activation=\"relu\"),\n",
        "                             layers.Dense(1, activation=\"sigmoid\", name=\"output_layer\")], name=\"model_7\")\n",
        "\n",
        "model_7.compile(loss=\"binary_crossentropy\",\n",
        "                optimizer=tf.keras.optimizers.Adam(),\n",
        "                metrics=[\"accuracy\"])\n",
        "model_7.summary()"
      ],
      "execution_count": 99,
      "outputs": [
        {
          "output_type": "stream",
          "name": "stdout",
          "text": [
            "Model: \"model_7\"\n",
            "_________________________________________________________________\n",
            "Layer (type)                 Output Shape              Param #   \n",
            "=================================================================\n",
            "USE (KerasLayer)             (None, 512)               256797824 \n",
            "_________________________________________________________________\n",
            "dense_9 (Dense)              (None, 64)                32832     \n",
            "_________________________________________________________________\n",
            "output_layer (Dense)         (None, 1)                 65        \n",
            "=================================================================\n",
            "Total params: 256,830,721\n",
            "Trainable params: 32,897\n",
            "Non-trainable params: 256,797,824\n",
            "_________________________________________________________________\n"
          ]
        }
      ]
    },
    {
      "cell_type": "code",
      "metadata": {
        "colab": {
          "base_uri": "https://localhost:8080/"
        },
        "id": "HmgZvabh8DSa",
        "outputId": "000737c8-c66b-4328-a91d-14d4c3da2903"
      },
      "source": [
        "#Train a classifier on top of USE pretrained layer\n",
        "model_7_history=model_7.fit(train_sentences_10_percent,\n",
        "                            train_labels_10_percent,\n",
        "                            epochs=5,\n",
        "                            validation_data=(val_sentences, val_labels),\n",
        "                            callbacks=[create_tensorboard_callback(SAVE_DIR,\"tf_hub_sentences_encoder_10_percent_correct_split\")])\n"
      ],
      "execution_count": 100,
      "outputs": [
        {
          "output_type": "stream",
          "name": "stdout",
          "text": [
            "Saving TensorBoard log files to: model_logs/tf_hub_sentences_encoder_10_percent_correct_split/20211021-031737\n",
            "Epoch 1/5\n",
            "22/22 [==============================] - 3s 107ms/step - loss: 0.6766 - accuracy: 0.6453 - val_loss: 0.6558 - val_accuracy: 0.7270\n",
            "Epoch 2/5\n",
            "22/22 [==============================] - 1s 46ms/step - loss: 0.6133 - accuracy: 0.8000 - val_loss: 0.6017 - val_accuracy: 0.7559\n",
            "Epoch 3/5\n",
            "22/22 [==============================] - 1s 31ms/step - loss: 0.5377 - accuracy: 0.8190 - val_loss: 0.5419 - val_accuracy: 0.7730\n",
            "Epoch 4/5\n",
            "22/22 [==============================] - 1s 46ms/step - loss: 0.4720 - accuracy: 0.8190 - val_loss: 0.5067 - val_accuracy: 0.7782\n",
            "Epoch 5/5\n",
            "22/22 [==============================] - 1s 46ms/step - loss: 0.4272 - accuracy: 0.8277 - val_loss: 0.4884 - val_accuracy: 0.7874\n"
          ]
        }
      ]
    },
    {
      "cell_type": "code",
      "metadata": {
        "colab": {
          "base_uri": "https://localhost:8080/"
        },
        "id": "baDGtjLv_Ztq",
        "outputId": "95b90534-e63c-4b84-fc10-1c2dadeee15d"
      },
      "source": [
        "model_7_pred_probs=model_7.predict(val_sentences)\n",
        "\n",
        "model_7_preds=tf.squeeze(tf.round(model_7_pred_probs))\n",
        "model_7_results=calculate_results(y_true=val_labels,\n",
        "                                  y_pred=model_7_preds)\n",
        "model_7_results"
      ],
      "execution_count": 101,
      "outputs": [
        {
          "output_type": "execute_result",
          "data": {
            "text/plain": [
              "{'accuracy': 78.74015748031496,\n",
              " 'f1': 0.7852275674790494,\n",
              " 'precision': 0.7900609457201325,\n",
              " 'recall': 0.7874015748031497}"
            ]
          },
          "metadata": {},
          "execution_count": 101
        }
      ]
    },
    {
      "cell_type": "markdown",
      "metadata": {
        "id": "2Mo3XHCtHVhR"
      },
      "source": [
        "# Comparing the performance of each of our models"
      ]
    },
    {
      "cell_type": "code",
      "metadata": {
        "id": "77_lgrAeHUJ3"
      },
      "source": [
        "all_model_results=pd.DataFrame({\"0_baseline\": baseline_results,\n",
        "                               \"1_simple_dense\":model_1_results,\n",
        "                               \"2_lstm\":model_2_results,\n",
        "                               \"3_gru\": model_3_results,\n",
        "                               \"4_bidirectional\":model_4_results,\n",
        "                               \"5_conv1d\":model_5_results,\n",
        "                               \"6_tf_hub_use_encoder\":model_6_1_results,\n",
        "                               \"tf_hub_use_encoder_10_percent\": model_7_results})\n",
        "all_model_results=all_model_results.transpose()"
      ],
      "execution_count": 102,
      "outputs": []
    },
    {
      "cell_type": "code",
      "metadata": {
        "id": "cZwxyeCGKSK9"
      },
      "source": [
        "all_model_results[\"accuracy\"]=all_model_results[\"accuracy\"]/100"
      ],
      "execution_count": 103,
      "outputs": []
    },
    {
      "cell_type": "code",
      "metadata": {
        "colab": {
          "base_uri": "https://localhost:8080/",
          "height": 297
        },
        "id": "fyb6t8TtKnO-",
        "outputId": "1dc7cf96-ce1d-43cd-86fa-a339b2f9ef5e"
      },
      "source": [
        "all_model_results"
      ],
      "execution_count": 104,
      "outputs": [
        {
          "output_type": "execute_result",
          "data": {
            "text/html": [
              "<div>\n",
              "<style scoped>\n",
              "    .dataframe tbody tr th:only-of-type {\n",
              "        vertical-align: middle;\n",
              "    }\n",
              "\n",
              "    .dataframe tbody tr th {\n",
              "        vertical-align: top;\n",
              "    }\n",
              "\n",
              "    .dataframe thead th {\n",
              "        text-align: right;\n",
              "    }\n",
              "</style>\n",
              "<table border=\"1\" class=\"dataframe\">\n",
              "  <thead>\n",
              "    <tr style=\"text-align: right;\">\n",
              "      <th></th>\n",
              "      <th>accuracy</th>\n",
              "      <th>precision</th>\n",
              "      <th>recall</th>\n",
              "      <th>f1</th>\n",
              "    </tr>\n",
              "  </thead>\n",
              "  <tbody>\n",
              "    <tr>\n",
              "      <th>0_baseline</th>\n",
              "      <td>0.792651</td>\n",
              "      <td>0.811139</td>\n",
              "      <td>0.792651</td>\n",
              "      <td>0.786219</td>\n",
              "    </tr>\n",
              "    <tr>\n",
              "      <th>1_simple_dense</th>\n",
              "      <td>0.776903</td>\n",
              "      <td>0.778956</td>\n",
              "      <td>0.776903</td>\n",
              "      <td>0.774752</td>\n",
              "    </tr>\n",
              "    <tr>\n",
              "      <th>2_lstm</th>\n",
              "      <td>0.750656</td>\n",
              "      <td>0.751008</td>\n",
              "      <td>0.750656</td>\n",
              "      <td>0.748927</td>\n",
              "    </tr>\n",
              "    <tr>\n",
              "      <th>3_gru</th>\n",
              "      <td>0.778215</td>\n",
              "      <td>0.779199</td>\n",
              "      <td>0.778215</td>\n",
              "      <td>0.776621</td>\n",
              "    </tr>\n",
              "    <tr>\n",
              "      <th>4_bidirectional</th>\n",
              "      <td>0.746719</td>\n",
              "      <td>0.746223</td>\n",
              "      <td>0.746719</td>\n",
              "      <td>0.746096</td>\n",
              "    </tr>\n",
              "    <tr>\n",
              "      <th>5_conv1d</th>\n",
              "      <td>0.732283</td>\n",
              "      <td>0.732064</td>\n",
              "      <td>0.732283</td>\n",
              "      <td>0.732153</td>\n",
              "    </tr>\n",
              "    <tr>\n",
              "      <th>6_tf_hub_use_encoder</th>\n",
              "      <td>0.813648</td>\n",
              "      <td>0.815762</td>\n",
              "      <td>0.813648</td>\n",
              "      <td>0.812163</td>\n",
              "    </tr>\n",
              "    <tr>\n",
              "      <th>tf_hub_use_encoder_10_percent</th>\n",
              "      <td>0.787402</td>\n",
              "      <td>0.790061</td>\n",
              "      <td>0.787402</td>\n",
              "      <td>0.785228</td>\n",
              "    </tr>\n",
              "  </tbody>\n",
              "</table>\n",
              "</div>"
            ],
            "text/plain": [
              "                               accuracy  precision    recall        f1\n",
              "0_baseline                     0.792651   0.811139  0.792651  0.786219\n",
              "1_simple_dense                 0.776903   0.778956  0.776903  0.774752\n",
              "2_lstm                         0.750656   0.751008  0.750656  0.748927\n",
              "3_gru                          0.778215   0.779199  0.778215  0.776621\n",
              "4_bidirectional                0.746719   0.746223  0.746719  0.746096\n",
              "5_conv1d                       0.732283   0.732064  0.732283  0.732153\n",
              "6_tf_hub_use_encoder           0.813648   0.815762  0.813648  0.812163\n",
              "tf_hub_use_encoder_10_percent  0.787402   0.790061  0.787402  0.785228"
            ]
          },
          "metadata": {},
          "execution_count": 104
        }
      ]
    },
    {
      "cell_type": "code",
      "metadata": {
        "colab": {
          "base_uri": "https://localhost:8080/",
          "height": 579
        },
        "id": "PgPpjTSwKo99",
        "outputId": "9a06a020-eae8-4188-a4d3-813a2692a461"
      },
      "source": [
        "all_model_results.plot(kind=\"bar\", figsize=(10,7)).legend(bbox_to_anchor=(0.0,1.0));"
      ],
      "execution_count": 105,
      "outputs": [
        {
          "output_type": "display_data",
          "data": {
            "image/png": "[encoded data removed]",
            "text/plain": [
              "<Figure size 720x504 with 1 Axes>"
            ]
          },
          "metadata": {
            "needs_background": "light"
          }
        }
      ]
    },
    {
      "cell_type": "code",
      "metadata": {
        "colab": {
          "base_uri": "https://localhost:8080/",
          "height": 596
        },
        "id": "gAtqXvqjLa4g",
        "outputId": "09a42ceb-0a94-4376-ab77-bc00cab034ba"
      },
      "source": [
        "#Sort model results by f1-score\n",
        "all_model_results.sort_values(\"f1\", ascending=False).plot(kind=\"bar\", figsize=(10,7))"
      ],
      "execution_count": 106,
      "outputs": [
        {
          "output_type": "execute_result",
          "data": {
            "text/plain": [
              "<matplotlib.axes._subplots.AxesSubplot at 0x7fe02f7f5490>"
            ]
          },
          "metadata": {},
          "execution_count": 106
        },
        {
          "output_type": "display_data",
          "data": {
            "image/png": "[encoded data removed]",
            "text/plain": [
              "<Figure size 720x504 with 1 Axes>"
            ]
          },
          "metadata": {
            "needs_background": "light"
          }
        }
      ]
    },
    {
      "cell_type": "code",
      "metadata": {
        "colab": {
          "base_uri": "https://localhost:8080/"
        },
        "id": "jBuHfykj0R0G",
        "outputId": "d5e5e101-49e3-47f1-af18-abd8d78084bd"
      },
      "source": [
        "!tensorboard dev upload --logdir ./model_logs/ \\\n",
        " --name \"NLP Modelling Experiment ZTM TF Course Video\" \\\n",
        " --description \"Comparing differet architecture on Kaggle Text Classification\" \\\n",
        " --one_shot # exit the uploadr"
      ],
      "execution_count": 107,
      "outputs": [
        {
          "output_type": "stream",
          "name": "stdout",
          "text": [
            "2021-10-21 03:17:53.038438: I tensorflow/stream_executor/cuda/cuda_gpu_executor.cc:937] successful NUMA node read from SysFS had negative value (-1), but there must be at least one NUMA node, so returning NUMA node zero\n",
            "2021-10-21 03:17:53.063256: I tensorflow/stream_executor/cuda/cuda_gpu_executor.cc:937] successful NUMA node read from SysFS had negative value (-1), but there must be at least one NUMA node, so returning NUMA node zero\n",
            "2021-10-21 03:17:53.063891: I tensorflow/stream_executor/cuda/cuda_gpu_executor.cc:937] successful NUMA node read from SysFS had negative value (-1), but there must be at least one NUMA node, so returning NUMA node zero\n",
            "\n",
            "***** TensorBoard Uploader *****\n",
            "\n",
            "This will upload your TensorBoard logs to https://tensorboard.dev/ from\n",
            "the following directory:\n",
            "\n",
            "./model_logs/\n",
            "\n",
            "This TensorBoard will be visible to everyone. Do not upload sensitive\n",
            "data.\n",
            "\n",
            "Your use of this service is subject to Google's Terms of Service\n",
            "<https://policies.google.com/terms> and Privacy Policy\n",
            "<https://policies.google.com/privacy>, and TensorBoard.dev's Terms of Service\n",
            "<https://tensorboard.dev/policy/terms/>.\n",
            "\n",
            "This notice will not be shown again while you are logged into the uploader.\n",
            "To log out, run `tensorboard dev auth revoke`.\n",
            "\n",
            "Continue? (yes/NO) NO\n"
          ]
        }
      ]
    },
    {
      "cell_type": "code",
      "metadata": {
        "colab": {
          "base_uri": "https://localhost:8080/"
        },
        "id": "vw5HiA7s2Q6s",
        "outputId": "fd979083-b9b3-40e4-bccf-5da281cb7d77"
      },
      "source": [
        "!tensorboard dev list"
      ],
      "execution_count": 108,
      "outputs": [
        {
          "output_type": "stream",
          "name": "stdout",
          "text": [
            "2021-10-21 03:19:30.273578: I tensorflow/stream_executor/cuda/cuda_gpu_executor.cc:937] successful NUMA node read from SysFS had negative value (-1), but there must be at least one NUMA node, so returning NUMA node zero\n",
            "2021-10-21 03:19:30.283001: I tensorflow/stream_executor/cuda/cuda_gpu_executor.cc:937] successful NUMA node read from SysFS had negative value (-1), but there must be at least one NUMA node, so returning NUMA node zero\n",
            "2021-10-21 03:19:30.283679: I tensorflow/stream_executor/cuda/cuda_gpu_executor.cc:937] successful NUMA node read from SysFS had negative value (-1), but there must be at least one NUMA node, so returning NUMA node zero\n",
            "\n",
            "***** TensorBoard Uploader *****\n",
            "\n",
            "This will list all experiments that you've uploaded to\n",
            "https://tensorboard.dev. TensorBoard.dev experiments are visible\n",
            "to everyone. Do not upload sensitive data.\n",
            "\n",
            "Your use of this service is subject to Google's Terms of Service\n",
            "<https://policies.google.com/terms> and Privacy Policy\n",
            "<https://policies.google.com/privacy>, and TensorBoard.dev's Terms of Service\n",
            "<https://tensorboard.dev/policy/terms/>.\n",
            "\n",
            "This notice will not be shown again while you are logged into the uploader.\n",
            "To log out, run `tensorboard dev auth revoke`.\n",
            "\n",
            "Continue? (yes/NO) NO\n"
          ]
        }
      ]
    },
    {
      "cell_type": "code",
      "metadata": {
        "id": "Uu75EGJZ2gw_"
      },
      "source": [
        "#!tensorboard dev delet --experiment_id   ***put id here*** "
      ],
      "execution_count": 109,
      "outputs": []
    },
    {
      "cell_type": "markdown",
      "metadata": {
        "id": "ymP6zzgs33ed"
      },
      "source": [
        "# Saving and loading a model "
      ]
    },
    {
      "cell_type": "code",
      "metadata": {
        "id": "1oA3JI2837BK"
      },
      "source": [
        "#Save TF Hub Sentence Encoder model to HDF5 format\n",
        "model_6_1.save(\"model_6_1.h5\")"
      ],
      "execution_count": 110,
      "outputs": []
    },
    {
      "cell_type": "code",
      "metadata": {
        "id": "7mEDVb1J4VOb"
      },
      "source": [
        "loaded_model_6=tf.keras.models.load_model(\"model_6_1.h5\", \n",
        "                                    custom_objects={\"KerasLayer\": hub.KerasLayer})\n"
      ],
      "execution_count": 111,
      "outputs": []
    },
    {
      "cell_type": "code",
      "metadata": {
        "colab": {
          "base_uri": "https://localhost:8080/"
        },
        "id": "HD9hMB2z5ATC",
        "outputId": "a93c16f0-f915-465d-a899-eacf10fdc72b"
      },
      "source": [
        "loaded_model_6.evaluate(val_sentences, val_labels)"
      ],
      "execution_count": 112,
      "outputs": [
        {
          "output_type": "stream",
          "name": "stdout",
          "text": [
            "24/24 [==============================] - 1s 14ms/step - loss: 0.4303 - accuracy: 0.8136\n"
          ]
        },
        {
          "output_type": "execute_result",
          "data": {
            "text/plain": [
              "[0.43033987283706665, 0.8136482834815979]"
            ]
          },
          "metadata": {},
          "execution_count": 112
        }
      ]
    },
    {
      "cell_type": "code",
      "metadata": {
        "colab": {
          "base_uri": "https://localhost:8080/"
        },
        "id": "Hf59aazo5KCk",
        "outputId": "92dbc5f1-3fb8-40fb-9814-bedb5d273768"
      },
      "source": [
        "model_6_1_results"
      ],
      "execution_count": 113,
      "outputs": [
        {
          "output_type": "execute_result",
          "data": {
            "text/plain": [
              "{'accuracy': 81.36482939632546,\n",
              " 'f1': 0.8121626682144012,\n",
              " 'precision': 0.8157623872867286,\n",
              " 'recall': 0.8136482939632546}"
            ]
          },
          "metadata": {},
          "execution_count": 113
        }
      ]
    },
    {
      "cell_type": "code",
      "metadata": {
        "colab": {
          "base_uri": "https://localhost:8080/"
        },
        "id": "1bgT20Cr48tC",
        "outputId": "ec88c29a-dc2a-4c24-f027-4f4b2d72c0ef"
      },
      "source": [
        "model_6_1.save(\"model_6_1_Saved_Model_format\")"
      ],
      "execution_count": 114,
      "outputs": [
        {
          "output_type": "stream",
          "name": "stderr",
          "text": [
            "WARNING:absl:Function `_wrapped_model` contains input name(s) USE_input with unsupported characters which will be renamed to use_input in the SavedModel.\n"
          ]
        },
        {
          "output_type": "stream",
          "name": "stdout",
          "text": [
            "INFO:tensorflow:Assets written to: model_6_1_Saved_Model_format/assets\n"
          ]
        },
        {
          "output_type": "stream",
          "name": "stderr",
          "text": [
            "INFO:tensorflow:Assets written to: model_6_1_Saved_Model_format/assets\n"
          ]
        }
      ]
    },
    {
      "cell_type": "code",
      "metadata": {
        "id": "XFn_LHywPu_x"
      },
      "source": [
        ""
      ],
      "execution_count": 114,
      "outputs": []
    },
    {
      "cell_type": "markdown",
      "metadata": {
        "id": "D4_XV95iRMGM"
      },
      "source": [
        "# Most Wrong Examples"
      ]
    },
    {
      "cell_type": "code",
      "metadata": {
        "id": "AwJajclDRLLy"
      },
      "source": [
        "import pandas as pd\n",
        "\n",
        "pred_df=pd.DataFrame({\"text\": val_sentences,\n",
        "                      \"y_true\": val_labels,\n",
        "                      \"y_pred\":model_7_preds,\n",
        "                      \"y_pred_probs\":tf.squeeze(model_7_pred_probs)\n",
        "                      }).sort_values(\"y_pred_probs\", ascending=False)\n",
        "\n",
        "                     "
      ],
      "execution_count": 115,
      "outputs": []
    },
    {
      "cell_type": "code",
      "metadata": {
        "id": "q8tlNktsS1u5"
      },
      "source": [
        "#Change the dtype of the y_pred \n",
        "pred_df[\"y_pred\"]=pred_df[\"y_pred\"].astype(\"int64\")\n"
      ],
      "execution_count": 116,
      "outputs": []
    },
    {
      "cell_type": "code",
      "metadata": {
        "colab": {
          "base_uri": "https://localhost:8080/",
          "height": 419
        },
        "id": "0GemHhXkUjd6",
        "outputId": "548f65c2-cea2-4a49-f543-739d6fcb3880"
      },
      "source": [
        "pred_df\n",
        "\n"
      ],
      "execution_count": 117,
      "outputs": [
        {
          "output_type": "execute_result",
          "data": {
            "text/html": [
              "<div>\n",
              "<style scoped>\n",
              "    .dataframe tbody tr th:only-of-type {\n",
              "        vertical-align: middle;\n",
              "    }\n",
              "\n",
              "    .dataframe tbody tr th {\n",
              "        vertical-align: top;\n",
              "    }\n",
              "\n",
              "    .dataframe thead th {\n",
              "        text-align: right;\n",
              "    }\n",
              "</style>\n",
              "<table border=\"1\" class=\"dataframe\">\n",
              "  <thead>\n",
              "    <tr style=\"text-align: right;\">\n",
              "      <th></th>\n",
              "      <th>text</th>\n",
              "      <th>y_true</th>\n",
              "      <th>y_pred</th>\n",
              "      <th>y_pred_probs</th>\n",
              "    </tr>\n",
              "  </thead>\n",
              "  <tbody>\n",
              "    <tr>\n",
              "      <th>734</th>\n",
              "      <td>The Latest: More homes razed by Northern Calif...</td>\n",
              "      <td>1</td>\n",
              "      <td>1</td>\n",
              "      <td>0.938807</td>\n",
              "    </tr>\n",
              "    <tr>\n",
              "      <th>166</th>\n",
              "      <td>BBC News - India rail crash: Trains derail in ...</td>\n",
              "      <td>1</td>\n",
              "      <td>1</td>\n",
              "      <td>0.938064</td>\n",
              "    </tr>\n",
              "    <tr>\n",
              "      <th>90</th>\n",
              "      <td>Dramatic Video Shows Plane Landing During Viol...</td>\n",
              "      <td>1</td>\n",
              "      <td>1</td>\n",
              "      <td>0.934211</td>\n",
              "    </tr>\n",
              "    <tr>\n",
              "      <th>464</th>\n",
              "      <td>Suicide Bomber Kills 13 At Saudi Mosque http:/...</td>\n",
              "      <td>1</td>\n",
              "      <td>1</td>\n",
              "      <td>0.930290</td>\n",
              "    </tr>\n",
              "    <tr>\n",
              "      <th>179</th>\n",
              "      <td>beforeitsnews : Hundreds feared dead after Lib...</td>\n",
              "      <td>1</td>\n",
              "      <td>1</td>\n",
              "      <td>0.927232</td>\n",
              "    </tr>\n",
              "    <tr>\n",
              "      <th>...</th>\n",
              "      <td>...</td>\n",
              "      <td>...</td>\n",
              "      <td>...</td>\n",
              "      <td>...</td>\n",
              "    </tr>\n",
              "    <tr>\n",
              "      <th>484</th>\n",
              "      <td>Holy fuck QVC bitch just got burned so hard.</td>\n",
              "      <td>0</td>\n",
              "      <td>0</td>\n",
              "      <td>0.074045</td>\n",
              "    </tr>\n",
              "    <tr>\n",
              "      <th>55</th>\n",
              "      <td>@bentossell @ProductHunt Thanks! I know you al...</td>\n",
              "      <td>0</td>\n",
              "      <td>0</td>\n",
              "      <td>0.070763</td>\n",
              "    </tr>\n",
              "    <tr>\n",
              "      <th>309</th>\n",
              "      <td>Damn Wale knows how to ruin a song??</td>\n",
              "      <td>0</td>\n",
              "      <td>0</td>\n",
              "      <td>0.069389</td>\n",
              "    </tr>\n",
              "    <tr>\n",
              "      <th>74</th>\n",
              "      <td>@TheBuffShow @TheTwisterOkc My boyfriend wants...</td>\n",
              "      <td>0</td>\n",
              "      <td>0</td>\n",
              "      <td>0.059890</td>\n",
              "    </tr>\n",
              "    <tr>\n",
              "      <th>673</th>\n",
              "      <td>Mind blown by @GlassAnimals slithering viscous...</td>\n",
              "      <td>0</td>\n",
              "      <td>0</td>\n",
              "      <td>0.058657</td>\n",
              "    </tr>\n",
              "  </tbody>\n",
              "</table>\n",
              "<p>762 rows × 4 columns</p>\n",
              "</div>"
            ],
            "text/plain": [
              "                                                  text  ...  y_pred_probs\n",
              "734  The Latest: More homes razed by Northern Calif...  ...      0.938807\n",
              "166  BBC News - India rail crash: Trains derail in ...  ...      0.938064\n",
              "90   Dramatic Video Shows Plane Landing During Viol...  ...      0.934211\n",
              "464  Suicide Bomber Kills 13 At Saudi Mosque http:/...  ...      0.930290\n",
              "179  beforeitsnews : Hundreds feared dead after Lib...  ...      0.927232\n",
              "..                                                 ...  ...           ...\n",
              "484       Holy fuck QVC bitch just got burned so hard.  ...      0.074045\n",
              "55   @bentossell @ProductHunt Thanks! I know you al...  ...      0.070763\n",
              "309               Damn Wale knows how to ruin a song??  ...      0.069389\n",
              "74   @TheBuffShow @TheTwisterOkc My boyfriend wants...  ...      0.059890\n",
              "673  Mind blown by @GlassAnimals slithering viscous...  ...      0.058657\n",
              "\n",
              "[762 rows x 4 columns]"
            ]
          },
          "metadata": {},
          "execution_count": 117
        }
      ]
    },
    {
      "cell_type": "code",
      "metadata": {
        "colab": {
          "base_uri": "https://localhost:8080/",
          "height": 419
        },
        "id": "79JOFYLpU7dM",
        "outputId": "85394453-6eb1-43cf-8587-fde505374ccc"
      },
      "source": [
        "#Show only when y_true != y_pred\n",
        "mask=pred_df[\"y_true\"]!=pred_df[\"y_pred\"]\n",
        "pred_df[mask]"
      ],
      "execution_count": 118,
      "outputs": [
        {
          "output_type": "execute_result",
          "data": {
            "text/html": [
              "<div>\n",
              "<style scoped>\n",
              "    .dataframe tbody tr th:only-of-type {\n",
              "        vertical-align: middle;\n",
              "    }\n",
              "\n",
              "    .dataframe tbody tr th {\n",
              "        vertical-align: top;\n",
              "    }\n",
              "\n",
              "    .dataframe thead th {\n",
              "        text-align: right;\n",
              "    }\n",
              "</style>\n",
              "<table border=\"1\" class=\"dataframe\">\n",
              "  <thead>\n",
              "    <tr style=\"text-align: right;\">\n",
              "      <th></th>\n",
              "      <th>text</th>\n",
              "      <th>y_true</th>\n",
              "      <th>y_pred</th>\n",
              "      <th>y_pred_probs</th>\n",
              "    </tr>\n",
              "  </thead>\n",
              "  <tbody>\n",
              "    <tr>\n",
              "      <th>49</th>\n",
              "      <td>@madonnamking RSPCA site multiple 7 story high...</td>\n",
              "      <td>0</td>\n",
              "      <td>1</td>\n",
              "      <td>0.870234</td>\n",
              "    </tr>\n",
              "    <tr>\n",
              "      <th>31</th>\n",
              "      <td>? High Skies - Burning Buildings ? http://t.co...</td>\n",
              "      <td>0</td>\n",
              "      <td>1</td>\n",
              "      <td>0.822194</td>\n",
              "    </tr>\n",
              "    <tr>\n",
              "      <th>630</th>\n",
              "      <td>Hollywood movie about trapped miners released ...</td>\n",
              "      <td>0</td>\n",
              "      <td>1</td>\n",
              "      <td>0.784420</td>\n",
              "    </tr>\n",
              "    <tr>\n",
              "      <th>80</th>\n",
              "      <td>GENERAL AUDIENCE: On Wounded Families | ZENIT ...</td>\n",
              "      <td>0</td>\n",
              "      <td>1</td>\n",
              "      <td>0.783919</td>\n",
              "    </tr>\n",
              "    <tr>\n",
              "      <th>209</th>\n",
              "      <td>Ashes 2015: AustraliaÛªs collapse at Trent Br...</td>\n",
              "      <td>0</td>\n",
              "      <td>1</td>\n",
              "      <td>0.782420</td>\n",
              "    </tr>\n",
              "    <tr>\n",
              "      <th>...</th>\n",
              "      <td>...</td>\n",
              "      <td>...</td>\n",
              "      <td>...</td>\n",
              "      <td>...</td>\n",
              "    </tr>\n",
              "    <tr>\n",
              "      <th>244</th>\n",
              "      <td>Reddit Will Now QuarantineÛ_ http://t.co/pkUA...</td>\n",
              "      <td>1</td>\n",
              "      <td>0</td>\n",
              "      <td>0.121988</td>\n",
              "    </tr>\n",
              "    <tr>\n",
              "      <th>681</th>\n",
              "      <td>'The way you move is like a full on rainstorm ...</td>\n",
              "      <td>1</td>\n",
              "      <td>0</td>\n",
              "      <td>0.115097</td>\n",
              "    </tr>\n",
              "    <tr>\n",
              "      <th>408</th>\n",
              "      <td>@willienelson We need help! Horses will die!Pl...</td>\n",
              "      <td>1</td>\n",
              "      <td>0</td>\n",
              "      <td>0.114703</td>\n",
              "    </tr>\n",
              "    <tr>\n",
              "      <th>382</th>\n",
              "      <td>I wanna set some shit on fire.</td>\n",
              "      <td>1</td>\n",
              "      <td>0</td>\n",
              "      <td>0.098670</td>\n",
              "    </tr>\n",
              "    <tr>\n",
              "      <th>411</th>\n",
              "      <td>@SoonerMagic_ I mean I'm a fan but I don't nee...</td>\n",
              "      <td>1</td>\n",
              "      <td>0</td>\n",
              "      <td>0.074545</td>\n",
              "    </tr>\n",
              "  </tbody>\n",
              "</table>\n",
              "<p>162 rows × 4 columns</p>\n",
              "</div>"
            ],
            "text/plain": [
              "                                                  text  ...  y_pred_probs\n",
              "49   @madonnamking RSPCA site multiple 7 story high...  ...      0.870234\n",
              "31   ? High Skies - Burning Buildings ? http://t.co...  ...      0.822194\n",
              "630  Hollywood movie about trapped miners released ...  ...      0.784420\n",
              "80   GENERAL AUDIENCE: On Wounded Families | ZENIT ...  ...      0.783919\n",
              "209  Ashes 2015: AustraliaÛªs collapse at Trent Br...  ...      0.782420\n",
              "..                                                 ...  ...           ...\n",
              "244  Reddit Will Now QuarantineÛ_ http://t.co/pkUA...  ...      0.121988\n",
              "681  'The way you move is like a full on rainstorm ...  ...      0.115097\n",
              "408  @willienelson We need help! Horses will die!Pl...  ...      0.114703\n",
              "382                     I wanna set some shit on fire.  ...      0.098670\n",
              "411  @SoonerMagic_ I mean I'm a fan but I don't nee...  ...      0.074545\n",
              "\n",
              "[162 rows x 4 columns]"
            ]
          },
          "metadata": {},
          "execution_count": 118
        }
      ]
    },
    {
      "cell_type": "code",
      "metadata": {
        "colab": {
          "base_uri": "https://localhost:8080/",
          "height": 35
        },
        "id": "NvAtEbteVThZ",
        "outputId": "c324e852-bb0b-4cbd-e866-f12246af1061"
      },
      "source": [
        "val_sentences[49]"
      ],
      "execution_count": 119,
      "outputs": [
        {
          "output_type": "execute_result",
          "data": {
            "application/vnd.google.colaboratory.intrinsic+json": {
              "type": "string"
            },
            "text/plain": [
              "'@madonnamking RSPCA site multiple 7 story high rise buildings next to low density character residential in an area that floods'"
            ]
          },
          "metadata": {},
          "execution_count": 119
        }
      ]
    },
    {
      "cell_type": "code",
      "metadata": {
        "colab": {
          "base_uri": "https://localhost:8080/"
        },
        "id": "7d4hlfjjXNAO",
        "outputId": "258cf95d-441e-4865-dd70-41a27926a669"
      },
      "source": [
        "#Download the same model for the video\n",
        "!wget https://storage.googleapis.com/ztm_tf_course/08_model_6_USE_feature_extractor.zip"
      ],
      "execution_count": 120,
      "outputs": [
        {
          "output_type": "stream",
          "name": "stdout",
          "text": [
            "--2021-10-21 03:19:57--  https://storage.googleapis.com/ztm_tf_course/08_model_6_USE_feature_extractor.zip\n",
            "Resolving storage.googleapis.com (storage.googleapis.com)... 74.125.203.128, 74.125.204.128, 64.233.188.128, ...\n",
            "Connecting to storage.googleapis.com (storage.googleapis.com)|74.125.203.128|:443... connected.\n",
            "HTTP request sent, awaiting response... 200 OK\n",
            "Length: 960779165 (916M) [application/zip]\n",
            "Saving to: ‘08_model_6_USE_feature_extractor.zip’\n",
            "\n",
            "08_model_6_USE_feat 100%[===================>] 916.27M  39.7MB/s    in 18s     \n",
            "\n",
            "2021-10-21 03:20:16 (51.2 MB/s) - ‘08_model_6_USE_feature_extractor.zip’ saved [960779165/960779165]\n",
            "\n"
          ]
        }
      ]
    },
    {
      "cell_type": "code",
      "metadata": {
        "id": "Ohjm608gXYMc"
      },
      "source": [
        "unzip_data(\"/content/08_model_6_USE_feature_extractor.zip\")\n"
      ],
      "execution_count": 121,
      "outputs": []
    },
    {
      "cell_type": "code",
      "metadata": {
        "colab": {
          "base_uri": "https://localhost:8080/"
        },
        "id": "xvVCVtFSX9E5",
        "outputId": "13835855-0fae-4d62-c090-bdde42c9227e"
      },
      "source": [
        "model_6_pretrained=tf.keras.models.load_model(\"08_model_6_USE_feature_extractor\")"
      ],
      "execution_count": 122,
      "outputs": [
        {
          "output_type": "stream",
          "name": "stdout",
          "text": [
            "WARNING:tensorflow:SavedModel saved prior to TF 2.5 detected when loading Keras model. Please ensure that you are saving the model with model.save() or tf.keras.models.save_model(), *NOT* tf.saved_model.save(). To confirm, there should be a file named \"keras_metadata.pb\" in the SavedModel directory.\n"
          ]
        },
        {
          "output_type": "stream",
          "name": "stderr",
          "text": [
            "WARNING:tensorflow:SavedModel saved prior to TF 2.5 detected when loading Keras model. Please ensure that you are saving the model with model.save() or tf.keras.models.save_model(), *NOT* tf.saved_model.save(). To confirm, there should be a file named \"keras_metadata.pb\" in the SavedModel directory.\n"
          ]
        }
      ]
    },
    {
      "cell_type": "code",
      "metadata": {
        "id": "Xx5RVD_1fAe2"
      },
      "source": [
        "model_6_pre_pred_probs=model_6_pretrained.predict(val_sentences)"
      ],
      "execution_count": 123,
      "outputs": []
    },
    {
      "cell_type": "code",
      "metadata": {
        "colab": {
          "base_uri": "https://localhost:8080/"
        },
        "id": "ZIyqsQdMfHfU",
        "outputId": "373d2200-044a-4202-f168-e77df7ffc265"
      },
      "source": [
        "model_6_pretrained_preds=tf.squeeze(tf.round(model_6_pre_pred_probs))\n",
        "model_6_pretrained_preds[:10]"
      ],
      "execution_count": 124,
      "outputs": [
        {
          "output_type": "execute_result",
          "data": {
            "text/plain": [
              "<tf.Tensor: shape=(10,), dtype=float32, numpy=array([0., 1., 1., 0., 1., 1., 1., 1., 1., 0.], dtype=float32)>"
            ]
          },
          "metadata": {},
          "execution_count": 124
        }
      ]
    },
    {
      "cell_type": "code",
      "metadata": {
        "id": "ni0KnA8ufb7k"
      },
      "source": [
        "val_df=pd.DataFrame({\"text\": val_sentences,\n",
        "                      \"target\": val_labels,\n",
        "                      \"pred\":model_6_pretrained_preds,\n",
        "                      \"y_pred_probs\":tf.squeeze(model_6_pre_pred_probs)\n",
        "                      }).sort_values(\"y_pred_probs\", ascending=False)"
      ],
      "execution_count": 125,
      "outputs": []
    },
    {
      "cell_type": "code",
      "metadata": {
        "colab": {
          "base_uri": "https://localhost:8080/",
          "height": 419
        },
        "id": "2of3KlIefx-5",
        "outputId": "687902d7-7cab-4654-cda8-021f42b4e2a6"
      },
      "source": [
        "val_df"
      ],
      "execution_count": 126,
      "outputs": [
        {
          "output_type": "execute_result",
          "data": {
            "text/html": [
              "<div>\n",
              "<style scoped>\n",
              "    .dataframe tbody tr th:only-of-type {\n",
              "        vertical-align: middle;\n",
              "    }\n",
              "\n",
              "    .dataframe tbody tr th {\n",
              "        vertical-align: top;\n",
              "    }\n",
              "\n",
              "    .dataframe thead th {\n",
              "        text-align: right;\n",
              "    }\n",
              "</style>\n",
              "<table border=\"1\" class=\"dataframe\">\n",
              "  <thead>\n",
              "    <tr style=\"text-align: right;\">\n",
              "      <th></th>\n",
              "      <th>text</th>\n",
              "      <th>target</th>\n",
              "      <th>pred</th>\n",
              "      <th>y_pred_probs</th>\n",
              "    </tr>\n",
              "  </thead>\n",
              "  <tbody>\n",
              "    <tr>\n",
              "      <th>90</th>\n",
              "      <td>Dramatic Video Shows Plane Landing During Viol...</td>\n",
              "      <td>1</td>\n",
              "      <td>1.0</td>\n",
              "      <td>0.995807</td>\n",
              "    </tr>\n",
              "    <tr>\n",
              "      <th>179</th>\n",
              "      <td>beforeitsnews : Hundreds feared dead after Lib...</td>\n",
              "      <td>1</td>\n",
              "      <td>1.0</td>\n",
              "      <td>0.994646</td>\n",
              "    </tr>\n",
              "    <tr>\n",
              "      <th>166</th>\n",
              "      <td>BBC News - India rail crash: Trains derail in ...</td>\n",
              "      <td>1</td>\n",
              "      <td>1.0</td>\n",
              "      <td>0.993717</td>\n",
              "    </tr>\n",
              "    <tr>\n",
              "      <th>257</th>\n",
              "      <td>USGS reports a M1.94 #earthquake 5km S of Volc...</td>\n",
              "      <td>1</td>\n",
              "      <td>1.0</td>\n",
              "      <td>0.992790</td>\n",
              "    </tr>\n",
              "    <tr>\n",
              "      <th>395</th>\n",
              "      <td>The Catastrophic Effects of Hiroshima and Naga...</td>\n",
              "      <td>1</td>\n",
              "      <td>1.0</td>\n",
              "      <td>0.991882</td>\n",
              "    </tr>\n",
              "    <tr>\n",
              "      <th>...</th>\n",
              "      <td>...</td>\n",
              "      <td>...</td>\n",
              "      <td>...</td>\n",
              "      <td>...</td>\n",
              "    </tr>\n",
              "    <tr>\n",
              "      <th>369</th>\n",
              "      <td>If you fill your mind with encouragement and p...</td>\n",
              "      <td>0</td>\n",
              "      <td>0.0</td>\n",
              "      <td>0.025258</td>\n",
              "    </tr>\n",
              "    <tr>\n",
              "      <th>589</th>\n",
              "      <td>my vibrator shaped vape done busted</td>\n",
              "      <td>0</td>\n",
              "      <td>0.0</td>\n",
              "      <td>0.023994</td>\n",
              "    </tr>\n",
              "    <tr>\n",
              "      <th>717</th>\n",
              "      <td>Some days I drown in my tears but I don't let ...</td>\n",
              "      <td>0</td>\n",
              "      <td>0.0</td>\n",
              "      <td>0.022529</td>\n",
              "    </tr>\n",
              "    <tr>\n",
              "      <th>713</th>\n",
              "      <td>I hate that Im so awkward and I ruin things</td>\n",
              "      <td>0</td>\n",
              "      <td>0.0</td>\n",
              "      <td>0.020455</td>\n",
              "    </tr>\n",
              "    <tr>\n",
              "      <th>593</th>\n",
              "      <td>Season 3 of New Girl was such a emotional trai...</td>\n",
              "      <td>0</td>\n",
              "      <td>0.0</td>\n",
              "      <td>0.012896</td>\n",
              "    </tr>\n",
              "  </tbody>\n",
              "</table>\n",
              "<p>762 rows × 4 columns</p>\n",
              "</div>"
            ],
            "text/plain": [
              "                                                  text  ...  y_pred_probs\n",
              "90   Dramatic Video Shows Plane Landing During Viol...  ...      0.995807\n",
              "179  beforeitsnews : Hundreds feared dead after Lib...  ...      0.994646\n",
              "166  BBC News - India rail crash: Trains derail in ...  ...      0.993717\n",
              "257  USGS reports a M1.94 #earthquake 5km S of Volc...  ...      0.992790\n",
              "395  The Catastrophic Effects of Hiroshima and Naga...  ...      0.991882\n",
              "..                                                 ...  ...           ...\n",
              "369  If you fill your mind with encouragement and p...  ...      0.025258\n",
              "589                my vibrator shaped vape done busted  ...      0.023994\n",
              "717  Some days I drown in my tears but I don't let ...  ...      0.022529\n",
              "713        I hate that Im so awkward and I ruin things  ...      0.020455\n",
              "593  Season 3 of New Girl was such a emotional trai...  ...      0.012896\n",
              "\n",
              "[762 rows x 4 columns]"
            ]
          },
          "metadata": {},
          "execution_count": 126
        }
      ]
    },
    {
      "cell_type": "code",
      "metadata": {
        "colab": {
          "base_uri": "https://localhost:8080/",
          "height": 359
        },
        "id": "s0yOuEIBf7UW",
        "outputId": "5c757ae0-b776-49bc-feae-079a32fa46ec"
      },
      "source": [
        "#Show only when y_true != y_pred\n",
        "#Change the dtype of the y_pred \n",
        "val_df[\"pred\"]=val_df[\"pred\"].astype(\"int64\")\n",
        "mask=val_df[\"target\"]!=val_df[\"pred\"]\n",
        "most_wrong=val_df[mask]\n",
        "most_wrong[:10]"
      ],
      "execution_count": 127,
      "outputs": [
        {
          "output_type": "execute_result",
          "data": {
            "text/html": [
              "<div>\n",
              "<style scoped>\n",
              "    .dataframe tbody tr th:only-of-type {\n",
              "        vertical-align: middle;\n",
              "    }\n",
              "\n",
              "    .dataframe tbody tr th {\n",
              "        vertical-align: top;\n",
              "    }\n",
              "\n",
              "    .dataframe thead th {\n",
              "        text-align: right;\n",
              "    }\n",
              "</style>\n",
              "<table border=\"1\" class=\"dataframe\">\n",
              "  <thead>\n",
              "    <tr style=\"text-align: right;\">\n",
              "      <th></th>\n",
              "      <th>text</th>\n",
              "      <th>target</th>\n",
              "      <th>pred</th>\n",
              "      <th>y_pred_probs</th>\n",
              "    </tr>\n",
              "  </thead>\n",
              "  <tbody>\n",
              "    <tr>\n",
              "      <th>31</th>\n",
              "      <td>? High Skies - Burning Buildings ? http://t.co...</td>\n",
              "      <td>0</td>\n",
              "      <td>1</td>\n",
              "      <td>0.910196</td>\n",
              "    </tr>\n",
              "    <tr>\n",
              "      <th>759</th>\n",
              "      <td>FedEx will no longer transport bioterror patho...</td>\n",
              "      <td>0</td>\n",
              "      <td>1</td>\n",
              "      <td>0.876982</td>\n",
              "    </tr>\n",
              "    <tr>\n",
              "      <th>628</th>\n",
              "      <td>@noah_anyname That's where the concentration c...</td>\n",
              "      <td>0</td>\n",
              "      <td>1</td>\n",
              "      <td>0.852300</td>\n",
              "    </tr>\n",
              "    <tr>\n",
              "      <th>209</th>\n",
              "      <td>Ashes 2015: AustraliaÛªs collapse at Trent Br...</td>\n",
              "      <td>0</td>\n",
              "      <td>1</td>\n",
              "      <td>0.835454</td>\n",
              "    </tr>\n",
              "    <tr>\n",
              "      <th>251</th>\n",
              "      <td>@AshGhebranious civil rights continued in the ...</td>\n",
              "      <td>0</td>\n",
              "      <td>1</td>\n",
              "      <td>0.827213</td>\n",
              "    </tr>\n",
              "    <tr>\n",
              "      <th>393</th>\n",
              "      <td>@SonofLiberty357 all illuminated by the bright...</td>\n",
              "      <td>0</td>\n",
              "      <td>1</td>\n",
              "      <td>0.814816</td>\n",
              "    </tr>\n",
              "    <tr>\n",
              "      <th>109</th>\n",
              "      <td>[55436] 1950 LIONEL TRAINS SMOKE LOCOMOTIVES W...</td>\n",
              "      <td>0</td>\n",
              "      <td>1</td>\n",
              "      <td>0.810840</td>\n",
              "    </tr>\n",
              "    <tr>\n",
              "      <th>49</th>\n",
              "      <td>@madonnamking RSPCA site multiple 7 story high...</td>\n",
              "      <td>0</td>\n",
              "      <td>1</td>\n",
              "      <td>0.803122</td>\n",
              "    </tr>\n",
              "    <tr>\n",
              "      <th>119</th>\n",
              "      <td>@freefromwolves GodsLove &amp;amp; #thankU brother...</td>\n",
              "      <td>0</td>\n",
              "      <td>1</td>\n",
              "      <td>0.766901</td>\n",
              "    </tr>\n",
              "    <tr>\n",
              "      <th>344</th>\n",
              "      <td>Air Group is here to the rescue! We have 24/7 ...</td>\n",
              "      <td>0</td>\n",
              "      <td>1</td>\n",
              "      <td>0.766625</td>\n",
              "    </tr>\n",
              "  </tbody>\n",
              "</table>\n",
              "</div>"
            ],
            "text/plain": [
              "                                                  text  ...  y_pred_probs\n",
              "31   ? High Skies - Burning Buildings ? http://t.co...  ...      0.910196\n",
              "759  FedEx will no longer transport bioterror patho...  ...      0.876982\n",
              "628  @noah_anyname That's where the concentration c...  ...      0.852300\n",
              "209  Ashes 2015: AustraliaÛªs collapse at Trent Br...  ...      0.835454\n",
              "251  @AshGhebranious civil rights continued in the ...  ...      0.827213\n",
              "393  @SonofLiberty357 all illuminated by the bright...  ...      0.814816\n",
              "109  [55436] 1950 LIONEL TRAINS SMOKE LOCOMOTIVES W...  ...      0.810840\n",
              "49   @madonnamking RSPCA site multiple 7 story high...  ...      0.803122\n",
              "119  @freefromwolves GodsLove &amp; #thankU brother...  ...      0.766901\n",
              "344  Air Group is here to the rescue! We have 24/7 ...  ...      0.766625\n",
              "\n",
              "[10 rows x 4 columns]"
            ]
          },
          "metadata": {},
          "execution_count": 127
        }
      ]
    },
    {
      "cell_type": "code",
      "metadata": {
        "colab": {
          "base_uri": "https://localhost:8080/",
          "height": 419
        },
        "id": "XO70St_QgoPq",
        "outputId": "e0cd5ff6-e6fe-4c25-cc8b-7df006fa224d"
      },
      "source": [
        "most_wrong[10:]"
      ],
      "execution_count": 128,
      "outputs": [
        {
          "output_type": "execute_result",
          "data": {
            "text/html": [
              "<div>\n",
              "<style scoped>\n",
              "    .dataframe tbody tr th:only-of-type {\n",
              "        vertical-align: middle;\n",
              "    }\n",
              "\n",
              "    .dataframe tbody tr th {\n",
              "        vertical-align: top;\n",
              "    }\n",
              "\n",
              "    .dataframe thead th {\n",
              "        text-align: right;\n",
              "    }\n",
              "</style>\n",
              "<table border=\"1\" class=\"dataframe\">\n",
              "  <thead>\n",
              "    <tr style=\"text-align: right;\">\n",
              "      <th></th>\n",
              "      <th>text</th>\n",
              "      <th>target</th>\n",
              "      <th>pred</th>\n",
              "      <th>y_pred_probs</th>\n",
              "    </tr>\n",
              "  </thead>\n",
              "  <tbody>\n",
              "    <tr>\n",
              "      <th>144</th>\n",
              "      <td>The Sound of Arson</td>\n",
              "      <td>0</td>\n",
              "      <td>1</td>\n",
              "      <td>0.762662</td>\n",
              "    </tr>\n",
              "    <tr>\n",
              "      <th>381</th>\n",
              "      <td>Deaths 3 http://t.co/nApviyGKYK</td>\n",
              "      <td>0</td>\n",
              "      <td>1</td>\n",
              "      <td>0.747223</td>\n",
              "    </tr>\n",
              "    <tr>\n",
              "      <th>1</th>\n",
              "      <td>FedEx no longer to transport bioterror germs i...</td>\n",
              "      <td>0</td>\n",
              "      <td>1</td>\n",
              "      <td>0.747162</td>\n",
              "    </tr>\n",
              "    <tr>\n",
              "      <th>698</th>\n",
              "      <td>åÈMGN-AFRICAå¨ pin:263789F4 åÈ Correction: Ten...</td>\n",
              "      <td>0</td>\n",
              "      <td>1</td>\n",
              "      <td>0.742410</td>\n",
              "    </tr>\n",
              "    <tr>\n",
              "      <th>695</th>\n",
              "      <td>A look at state actions a year after Ferguson'...</td>\n",
              "      <td>0</td>\n",
              "      <td>1</td>\n",
              "      <td>0.739997</td>\n",
              "    </tr>\n",
              "    <tr>\n",
              "      <th>...</th>\n",
              "      <td>...</td>\n",
              "      <td>...</td>\n",
              "      <td>...</td>\n",
              "      <td>...</td>\n",
              "    </tr>\n",
              "    <tr>\n",
              "      <th>411</th>\n",
              "      <td>@SoonerMagic_ I mean I'm a fan but I don't nee...</td>\n",
              "      <td>1</td>\n",
              "      <td>0</td>\n",
              "      <td>0.043918</td>\n",
              "    </tr>\n",
              "    <tr>\n",
              "      <th>233</th>\n",
              "      <td>I get to smoke my shit in peace</td>\n",
              "      <td>1</td>\n",
              "      <td>0</td>\n",
              "      <td>0.042087</td>\n",
              "    </tr>\n",
              "    <tr>\n",
              "      <th>38</th>\n",
              "      <td>Why are you deluged with low self-image? Take ...</td>\n",
              "      <td>1</td>\n",
              "      <td>0</td>\n",
              "      <td>0.038998</td>\n",
              "    </tr>\n",
              "    <tr>\n",
              "      <th>244</th>\n",
              "      <td>Reddit Will Now QuarantineÛ_ http://t.co/pkUA...</td>\n",
              "      <td>1</td>\n",
              "      <td>0</td>\n",
              "      <td>0.038949</td>\n",
              "    </tr>\n",
              "    <tr>\n",
              "      <th>23</th>\n",
              "      <td>Ron &amp;amp; Fez - Dave's High School Crush https...</td>\n",
              "      <td>1</td>\n",
              "      <td>0</td>\n",
              "      <td>0.037186</td>\n",
              "    </tr>\n",
              "  </tbody>\n",
              "</table>\n",
              "<p>130 rows × 4 columns</p>\n",
              "</div>"
            ],
            "text/plain": [
              "                                                  text  ...  y_pred_probs\n",
              "144                                 The Sound of Arson  ...      0.762662\n",
              "381                    Deaths 3 http://t.co/nApviyGKYK  ...      0.747223\n",
              "1    FedEx no longer to transport bioterror germs i...  ...      0.747162\n",
              "698  åÈMGN-AFRICAå¨ pin:263789F4 åÈ Correction: Ten...  ...      0.742410\n",
              "695  A look at state actions a year after Ferguson'...  ...      0.739997\n",
              "..                                                 ...  ...           ...\n",
              "411  @SoonerMagic_ I mean I'm a fan but I don't nee...  ...      0.043918\n",
              "233                    I get to smoke my shit in peace  ...      0.042087\n",
              "38   Why are you deluged with low self-image? Take ...  ...      0.038998\n",
              "244  Reddit Will Now QuarantineÛ_ http://t.co/pkUA...  ...      0.038949\n",
              "23   Ron &amp; Fez - Dave's High School Crush https...  ...      0.037186\n",
              "\n",
              "[130 rows x 4 columns]"
            ]
          },
          "metadata": {},
          "execution_count": 128
        }
      ]
    },
    {
      "cell_type": "code",
      "metadata": {
        "colab": {
          "base_uri": "https://localhost:8080/",
          "height": 35
        },
        "id": "ybCVkaMTgyOb",
        "outputId": "63d8ef85-121b-4911-d340-62859d5e0fe1"
      },
      "source": [
        "val_sentences[759]"
      ],
      "execution_count": 129,
      "outputs": [
        {
          "output_type": "execute_result",
          "data": {
            "application/vnd.google.colaboratory.intrinsic+json": {
              "type": "string"
            },
            "text/plain": [
              "'FedEx will no longer transport bioterror pathogens in wake of anthrax lab mishaps http://t.co/lHpgxc4b8J'"
            ]
          },
          "metadata": {},
          "execution_count": 129
        }
      ]
    },
    {
      "cell_type": "code",
      "metadata": {
        "colab": {
          "base_uri": "https://localhost:8080/"
        },
        "id": "cY0fHxyxhLH2",
        "outputId": "a1775637-9f80-467b-a5ed-38829a2c73b3"
      },
      "source": [
        "for row in most_wrong[-10:].itertuples():\n",
        "\n",
        "  _, text, target, pred, y_pred_probs=row\n",
        "  print(f\"Target: {target}, Pred: {pred}, Prob: {y_pred_probs}\")\n",
        "  print(f\"Text:\\n{text}\\n\")\n",
        "  print(\"-----------\\n\")"
      ],
      "execution_count": 130,
      "outputs": [
        {
          "output_type": "stream",
          "name": "stdout",
          "text": [
            "Target: 1, Pred: 0, Prob: 0.06730346381664276\n",
            "Text:\n",
            "@DavidVonderhaar At least you were sincere ??\n",
            "\n",
            "-----------\n",
            "\n",
            "Target: 1, Pred: 0, Prob: 0.05507582053542137\n",
            "Text:\n",
            "@willienelson We need help! Horses will die!Please RT &amp; sign petition!Take a stand &amp; be a voice for them! #gilbert23 https://t.co/e8dl1lNCVu\n",
            "\n",
            "-----------\n",
            "\n",
            "Target: 1, Pred: 0, Prob: 0.05460337549448013\n",
            "Text:\n",
            "Lucas Duda is Ghost Rider. Not the Nic Cage version but an actual 'engulfed in flames' badass. #Mets\n",
            "\n",
            "-----------\n",
            "\n",
            "Target: 1, Pred: 0, Prob: 0.054596975445747375\n",
            "Text:\n",
            "going to redo my nails and watch behind the scenes of desolation of smaug ayyy\n",
            "\n",
            "-----------\n",
            "\n",
            "Target: 1, Pred: 0, Prob: 0.04963727295398712\n",
            "Text:\n",
            "You can never escape me. Bullets don't harm me. Nothing harms me. But I know pain. I know pain. Sometimes I share it. With someone like you.\n",
            "\n",
            "-----------\n",
            "\n",
            "Target: 1, Pred: 0, Prob: 0.043918490409851074\n",
            "Text:\n",
            "@SoonerMagic_ I mean I'm a fan but I don't need a girl sounding off like a damn siren\n",
            "\n",
            "-----------\n",
            "\n",
            "Target: 1, Pred: 0, Prob: 0.04208683222532272\n",
            "Text:\n",
            "I get to smoke my shit in peace\n",
            "\n",
            "-----------\n",
            "\n",
            "Target: 1, Pred: 0, Prob: 0.03899792954325676\n",
            "Text:\n",
            "Why are you deluged with low self-image? Take the quiz: http://t.co/XsPqdOrIqj http://t.co/CQYvFR4UCy\n",
            "\n",
            "-----------\n",
            "\n",
            "Target: 1, Pred: 0, Prob: 0.03894944116473198\n",
            "Text:\n",
            "Reddit Will Now QuarantineÛ_ http://t.co/pkUAMXw6pm #onlinecommunities #reddit #amageddon #freespeech #Business http://t.co/PAWvNJ4sAP\n",
            "\n",
            "-----------\n",
            "\n",
            "Target: 1, Pred: 0, Prob: 0.03718578442931175\n",
            "Text:\n",
            "Ron &amp; Fez - Dave's High School Crush https://t.co/aN3W16c8F6 via @YouTube\n",
            "\n",
            "-----------\n",
            "\n"
          ]
        }
      ]
    },
    {
      "cell_type": "code",
      "metadata": {
        "colab": {
          "base_uri": "https://localhost:8080/",
          "height": 419
        },
        "id": "yIYSHyDbjWLc",
        "outputId": "bc4b641b-c254-4073-d022-cb30f94c91ad"
      },
      "source": [
        "test_df"
      ],
      "execution_count": 131,
      "outputs": [
        {
          "output_type": "execute_result",
          "data": {
            "text/html": [
              "<div>\n",
              "<style scoped>\n",
              "    .dataframe tbody tr th:only-of-type {\n",
              "        vertical-align: middle;\n",
              "    }\n",
              "\n",
              "    .dataframe tbody tr th {\n",
              "        vertical-align: top;\n",
              "    }\n",
              "\n",
              "    .dataframe thead th {\n",
              "        text-align: right;\n",
              "    }\n",
              "</style>\n",
              "<table border=\"1\" class=\"dataframe\">\n",
              "  <thead>\n",
              "    <tr style=\"text-align: right;\">\n",
              "      <th></th>\n",
              "      <th>id</th>\n",
              "      <th>keyword</th>\n",
              "      <th>location</th>\n",
              "      <th>text</th>\n",
              "    </tr>\n",
              "  </thead>\n",
              "  <tbody>\n",
              "    <tr>\n",
              "      <th>0</th>\n",
              "      <td>0</td>\n",
              "      <td>NaN</td>\n",
              "      <td>NaN</td>\n",
              "      <td>Just happened a terrible car crash</td>\n",
              "    </tr>\n",
              "    <tr>\n",
              "      <th>1</th>\n",
              "      <td>2</td>\n",
              "      <td>NaN</td>\n",
              "      <td>NaN</td>\n",
              "      <td>Heard about #earthquake is different cities, s...</td>\n",
              "    </tr>\n",
              "    <tr>\n",
              "      <th>2</th>\n",
              "      <td>3</td>\n",
              "      <td>NaN</td>\n",
              "      <td>NaN</td>\n",
              "      <td>there is a forest fire at spot pond, geese are...</td>\n",
              "    </tr>\n",
              "    <tr>\n",
              "      <th>3</th>\n",
              "      <td>9</td>\n",
              "      <td>NaN</td>\n",
              "      <td>NaN</td>\n",
              "      <td>Apocalypse lighting. #Spokane #wildfires</td>\n",
              "    </tr>\n",
              "    <tr>\n",
              "      <th>4</th>\n",
              "      <td>11</td>\n",
              "      <td>NaN</td>\n",
              "      <td>NaN</td>\n",
              "      <td>Typhoon Soudelor kills 28 in China and Taiwan</td>\n",
              "    </tr>\n",
              "    <tr>\n",
              "      <th>...</th>\n",
              "      <td>...</td>\n",
              "      <td>...</td>\n",
              "      <td>...</td>\n",
              "      <td>...</td>\n",
              "    </tr>\n",
              "    <tr>\n",
              "      <th>3258</th>\n",
              "      <td>10861</td>\n",
              "      <td>NaN</td>\n",
              "      <td>NaN</td>\n",
              "      <td>EARTHQUAKE SAFETY LOS ANGELES ÛÒ SAFETY FASTE...</td>\n",
              "    </tr>\n",
              "    <tr>\n",
              "      <th>3259</th>\n",
              "      <td>10865</td>\n",
              "      <td>NaN</td>\n",
              "      <td>NaN</td>\n",
              "      <td>Storm in RI worse than last hurricane. My city...</td>\n",
              "    </tr>\n",
              "    <tr>\n",
              "      <th>3260</th>\n",
              "      <td>10868</td>\n",
              "      <td>NaN</td>\n",
              "      <td>NaN</td>\n",
              "      <td>Green Line derailment in Chicago http://t.co/U...</td>\n",
              "    </tr>\n",
              "    <tr>\n",
              "      <th>3261</th>\n",
              "      <td>10874</td>\n",
              "      <td>NaN</td>\n",
              "      <td>NaN</td>\n",
              "      <td>MEG issues Hazardous Weather Outlook (HWO) htt...</td>\n",
              "    </tr>\n",
              "    <tr>\n",
              "      <th>3262</th>\n",
              "      <td>10875</td>\n",
              "      <td>NaN</td>\n",
              "      <td>NaN</td>\n",
              "      <td>#CityofCalgary has activated its Municipal Eme...</td>\n",
              "    </tr>\n",
              "  </tbody>\n",
              "</table>\n",
              "<p>3263 rows × 4 columns</p>\n",
              "</div>"
            ],
            "text/plain": [
              "         id keyword location                                               text\n",
              "0         0     NaN      NaN                 Just happened a terrible car crash\n",
              "1         2     NaN      NaN  Heard about #earthquake is different cities, s...\n",
              "2         3     NaN      NaN  there is a forest fire at spot pond, geese are...\n",
              "3         9     NaN      NaN           Apocalypse lighting. #Spokane #wildfires\n",
              "4        11     NaN      NaN      Typhoon Soudelor kills 28 in China and Taiwan\n",
              "...     ...     ...      ...                                                ...\n",
              "3258  10861     NaN      NaN  EARTHQUAKE SAFETY LOS ANGELES ÛÒ SAFETY FASTE...\n",
              "3259  10865     NaN      NaN  Storm in RI worse than last hurricane. My city...\n",
              "3260  10868     NaN      NaN  Green Line derailment in Chicago http://t.co/U...\n",
              "3261  10874     NaN      NaN  MEG issues Hazardous Weather Outlook (HWO) htt...\n",
              "3262  10875     NaN      NaN  #CityofCalgary has activated its Municipal Eme...\n",
              "\n",
              "[3263 rows x 4 columns]"
            ]
          },
          "metadata": {},
          "execution_count": 131
        }
      ]
    },
    {
      "cell_type": "code",
      "metadata": {
        "id": "G7L0D3AHjk4r"
      },
      "source": [
        "model_6_pre_test_pred_probs=model_6_pretrained.predict(test_df[\"text\"])"
      ],
      "execution_count": 132,
      "outputs": []
    },
    {
      "cell_type": "code",
      "metadata": {
        "colab": {
          "base_uri": "https://localhost:8080/"
        },
        "id": "0pyPs9Qajybp",
        "outputId": "767b076e-8fb5-4458-d457-e4cf2673f63f"
      },
      "source": [
        "model_6_pretrained_test_preds=tf.squeeze(tf.round(model_6_pre_test_pred_probs))\n",
        "model_6_pretrained_preds[:10]"
      ],
      "execution_count": 133,
      "outputs": [
        {
          "output_type": "execute_result",
          "data": {
            "text/plain": [
              "<tf.Tensor: shape=(10,), dtype=float32, numpy=array([0., 1., 1., 0., 1., 1., 1., 1., 1., 0.], dtype=float32)>"
            ]
          },
          "metadata": {},
          "execution_count": 133
        }
      ]
    },
    {
      "cell_type": "code",
      "metadata": {
        "id": "co8OSxnTj3NM"
      },
      "source": [
        "test_dataframe=pd.DataFrame({\"text\": test_df[\"text\"],\n",
        "                      \"target\": \"N.A.\",\n",
        "                      \"pred\":model_6_pretrained_test_preds,\n",
        "                      \"probs\":tf.squeeze(model_6_pre_test_pred_probs)\n",
        "                      }).sort_values(\"probs\", ascending=False)"
      ],
      "execution_count": 134,
      "outputs": []
    },
    {
      "cell_type": "code",
      "metadata": {
        "colab": {
          "base_uri": "https://localhost:8080/",
          "height": 419
        },
        "id": "1K16k0ZBkdfQ",
        "outputId": "52948cd0-5919-45e1-c085-1980f2c86656"
      },
      "source": [
        "test_dataframe"
      ],
      "execution_count": 135,
      "outputs": [
        {
          "output_type": "execute_result",
          "data": {
            "text/html": [
              "<div>\n",
              "<style scoped>\n",
              "    .dataframe tbody tr th:only-of-type {\n",
              "        vertical-align: middle;\n",
              "    }\n",
              "\n",
              "    .dataframe tbody tr th {\n",
              "        vertical-align: top;\n",
              "    }\n",
              "\n",
              "    .dataframe thead th {\n",
              "        text-align: right;\n",
              "    }\n",
              "</style>\n",
              "<table border=\"1\" class=\"dataframe\">\n",
              "  <thead>\n",
              "    <tr style=\"text-align: right;\">\n",
              "      <th></th>\n",
              "      <th>text</th>\n",
              "      <th>target</th>\n",
              "      <th>pred</th>\n",
              "      <th>probs</th>\n",
              "    </tr>\n",
              "  </thead>\n",
              "  <tbody>\n",
              "    <tr>\n",
              "      <th>548</th>\n",
              "      <td>#DNR\\nRes. buildings shelled &amp;amp; on fire in ...</td>\n",
              "      <td>N.A.</td>\n",
              "      <td>1.0</td>\n",
              "      <td>0.996371</td>\n",
              "    </tr>\n",
              "    <tr>\n",
              "      <th>2820</th>\n",
              "      <td>The 390-Year-Old Tree That Survived the Bombin...</td>\n",
              "      <td>N.A.</td>\n",
              "      <td>1.0</td>\n",
              "      <td>0.994800</td>\n",
              "    </tr>\n",
              "    <tr>\n",
              "      <th>1684</th>\n",
              "      <td>Typhoon Soudelor approaches after 7 killed 2 m...</td>\n",
              "      <td>N.A.</td>\n",
              "      <td>1.0</td>\n",
              "      <td>0.994593</td>\n",
              "    </tr>\n",
              "    <tr>\n",
              "      <th>3066</th>\n",
              "      <td>Dramatic Video Shows Plane Landing During Viol...</td>\n",
              "      <td>N.A.</td>\n",
              "      <td>1.0</td>\n",
              "      <td>0.994542</td>\n",
              "    </tr>\n",
              "    <tr>\n",
              "      <th>2045</th>\n",
              "      <td>Plane debris is from #MH370 - it was a control...</td>\n",
              "      <td>N.A.</td>\n",
              "      <td>1.0</td>\n",
              "      <td>0.993667</td>\n",
              "    </tr>\n",
              "    <tr>\n",
              "      <th>...</th>\n",
              "      <td>...</td>\n",
              "      <td>...</td>\n",
              "      <td>...</td>\n",
              "      <td>...</td>\n",
              "    </tr>\n",
              "    <tr>\n",
              "      <th>2662</th>\n",
              "      <td>Just want someone to smoke a blunt &amp;amp; talk ...</td>\n",
              "      <td>N.A.</td>\n",
              "      <td>0.0</td>\n",
              "      <td>0.017012</td>\n",
              "    </tr>\n",
              "    <tr>\n",
              "      <th>1808</th>\n",
              "      <td>Would you consider yourself good at giving adv...</td>\n",
              "      <td>N.A.</td>\n",
              "      <td>0.0</td>\n",
              "      <td>0.016693</td>\n",
              "    </tr>\n",
              "    <tr>\n",
              "      <th>1199</th>\n",
              "      <td>@_Gags_ My Mommy will be devastated lol #NoMor...</td>\n",
              "      <td>N.A.</td>\n",
              "      <td>0.0</td>\n",
              "      <td>0.016457</td>\n",
              "    </tr>\n",
              "    <tr>\n",
              "      <th>438</th>\n",
              "      <td>I would love to #win Suze's amazing filled #be...</td>\n",
              "      <td>N.A.</td>\n",
              "      <td>0.0</td>\n",
              "      <td>0.015200</td>\n",
              "    </tr>\n",
              "    <tr>\n",
              "      <th>832</th>\n",
              "      <td>#GoT season 5 - funniest season ever. Hilariou...</td>\n",
              "      <td>N.A.</td>\n",
              "      <td>0.0</td>\n",
              "      <td>0.013748</td>\n",
              "    </tr>\n",
              "  </tbody>\n",
              "</table>\n",
              "<p>3263 rows × 4 columns</p>\n",
              "</div>"
            ],
            "text/plain": [
              "                                                   text target  pred     probs\n",
              "548   #DNR\\nRes. buildings shelled &amp; on fire in ...   N.A.   1.0  0.996371\n",
              "2820  The 390-Year-Old Tree That Survived the Bombin...   N.A.   1.0  0.994800\n",
              "1684  Typhoon Soudelor approaches after 7 killed 2 m...   N.A.   1.0  0.994593\n",
              "3066  Dramatic Video Shows Plane Landing During Viol...   N.A.   1.0  0.994542\n",
              "2045  Plane debris is from #MH370 - it was a control...   N.A.   1.0  0.993667\n",
              "...                                                 ...    ...   ...       ...\n",
              "2662  Just want someone to smoke a blunt &amp; talk ...   N.A.   0.0  0.017012\n",
              "1808  Would you consider yourself good at giving adv...   N.A.   0.0  0.016693\n",
              "1199  @_Gags_ My Mommy will be devastated lol #NoMor...   N.A.   0.0  0.016457\n",
              "438   I would love to #win Suze's amazing filled #be...   N.A.   0.0  0.015200\n",
              "832   #GoT season 5 - funniest season ever. Hilariou...   N.A.   0.0  0.013748\n",
              "\n",
              "[3263 rows x 4 columns]"
            ]
          },
          "metadata": {},
          "execution_count": 135
        }
      ]
    },
    {
      "cell_type": "code",
      "metadata": {
        "colab": {
          "base_uri": "https://localhost:8080/"
        },
        "id": "88G42rZ6k80C",
        "outputId": "4440e049-5943-4367-fbef-1c8c00900b6c"
      },
      "source": [
        "#Dave visualizing\n",
        "test_sentences=test_df[\"text\"].to_list()\n",
        "test_samples=random.sample(test_sentences,10)\n",
        "for test_sample in test_samples:\n",
        "  pred_prob=tf.squeeze(model_6_pretrained.predict([test_sample]))\n",
        "  pred=tf.round(pred_prob)\n",
        "  print(f\"Pred: {int(pred)}, Prob: {pred_prob}\")\n",
        "  print(f\"Text :\\n {test_sample}\\n---------\\n\")"
      ],
      "execution_count": 136,
      "outputs": [
        {
          "output_type": "stream",
          "name": "stdout",
          "text": [
            "Pred: 1, Prob: 0.9401143193244934\n",
            "Text :\n",
            " Watch This Airport Get Swallowed Up By A Sandstorm In Under A Minute http://t.co/YSrSKuyaSw\n",
            "---------\n",
            "\n",
            "Pred: 0, Prob: 0.16330260038375854\n",
            "Text :\n",
            " Spot Flood Combo 53inch 300W Curved Cree LED Work Light Bar 4X4 Offroad Fog Lamp - Full reÛ_ http://t.co/E6BnWxFtkb http://t.co/Ww2uVHRy89\n",
            "---------\n",
            "\n",
            "Pred: 0, Prob: 0.02533932402729988\n",
            "Text :\n",
            " Happy birthday bro ?? @Hurricane_Dolce\n",
            "---------\n",
            "\n",
            "Pred: 0, Prob: 0.05450071021914482\n",
            "Text :\n",
            " Musician Kalle Mattson Recreates 34 Classic Album Covers in Clever Music Video for 'Avalanche' http://t.co/97eWeUWybf\n",
            "---------\n",
            "\n",
            "Pred: 0, Prob: 0.050255730748176575\n",
            "Text :\n",
            " [Brutally Honest Technology ]\n",
            "\n",
            "Day after day we are inundated with messages issued via machine. Phones.... http://t.co/pB4Vbv01ax\n",
            "---------\n",
            "\n",
            "Pred: 0, Prob: 0.4981449246406555\n",
            "Text :\n",
            " The fire brigade should play this guys music at burning buildings to put the flames out\n",
            "---------\n",
            "\n",
            "Pred: 1, Prob: 0.8500266671180725\n",
            "Text :\n",
            " Go home California you're drunk. Natural selection has taken affect. Debt extreme wild fires water supply problems. You fail as a state.\n",
            "---------\n",
            "\n",
            "Pred: 1, Prob: 0.9450300931930542\n",
            "Text :\n",
            " #Amtrak Rail #Disaster http://t.co/H6Ol73KZJg http://t.co/Qfydu4PVGK\n",
            "---------\n",
            "\n",
            "Pred: 0, Prob: 0.38305777311325073\n",
            "Text :\n",
            " It was finally demolished in the spring of 2013 and the property has sat vacant since. The justÛ_: saddlebrooke... http://t.co/MDKV7c3el4\n",
            "---------\n",
            "\n",
            "Pred: 1, Prob: 0.8972377777099609\n",
            "Text :\n",
            " This machine really captured my attention. #helicopter #firefighting #wildfire #oregon #easternoregonÛ_ https://t.co/eKt456jY1s\n",
            "---------\n",
            "\n"
          ]
        }
      ]
    },
    {
      "cell_type": "code",
      "metadata": {
        "id": "POCPp9QqmMmX"
      },
      "source": [
        "#"
      ],
      "execution_count": 137,
      "outputs": []
    },
    {
      "cell_type": "markdown",
      "metadata": {
        "id": "8YmT9ywlmViO"
      },
      "source": [
        "# The speed / score tradeoff"
      ]
    },
    {
      "cell_type": "code",
      "metadata": {
        "id": "Yk77S5PdnT92"
      },
      "source": [
        "import time \n",
        "def pred_timer(model, samples):\n",
        "  \"\"\"\n",
        "  Times how long a model takes to make predictions on sample\n",
        "  \"\"\"\n",
        "  start_time=time.perf_counter()#get start time\n",
        "  model.predict(samples)\n",
        "  end_time=time.perf_counter()\n",
        "  total_time=end_time -start_time \n",
        "  time_per_pred=total_time/len(samples)\n",
        "  return total_time, time_per_pred\n",
        "\n"
      ],
      "execution_count": 138,
      "outputs": []
    },
    {
      "cell_type": "code",
      "metadata": {
        "id": "FbMBpfapn3T5"
      },
      "source": [
        "model_6_total_pred_time, model_6_time_per_pred=pred_timer(model=model_6_pretrained,\n",
        "                                                          samples=val_sentences)"
      ],
      "execution_count": 139,
      "outputs": []
    },
    {
      "cell_type": "code",
      "metadata": {
        "colab": {
          "base_uri": "https://localhost:8080/"
        },
        "id": "tmdiT4X9oKu9",
        "outputId": "4f8dc2d1-5528-415e-dc7b-f8306dee7854"
      },
      "source": [
        "model_6_total_pred_time, model_6_time_per_pred"
      ],
      "execution_count": 140,
      "outputs": [
        {
          "output_type": "execute_result",
          "data": {
            "text/plain": [
              "(0.36279662200001894, 0.00047611105249346317)"
            ]
          },
          "metadata": {},
          "execution_count": 140
        }
      ]
    },
    {
      "cell_type": "code",
      "metadata": {
        "colab": {
          "base_uri": "https://localhost:8080/"
        },
        "id": "_MidaXvHoUad",
        "outputId": "fdbd54eb-82c7-4d6b-dd33-eb7e0dd10d60"
      },
      "source": [
        "base,base_per_pred=pred_timer(model_0,val_sentences)\n",
        "base, base_per_pred"
      ],
      "execution_count": 141,
      "outputs": [
        {
          "output_type": "execute_result",
          "data": {
            "text/plain": [
              "(0.03068641699996988, 4.027088845140404e-05)"
            ]
          },
          "metadata": {},
          "execution_count": 141
        }
      ]
    },
    {
      "cell_type": "code",
      "metadata": {
        "colab": {
          "base_uri": "https://localhost:8080/"
        },
        "id": "gu5-QFUFosB9",
        "outputId": "7ce855d8-37a7-4f90-9755-66be703fb483"
      },
      "source": [
        "#Get results for pretrained GS model \n",
        "model_6_pretrained_results=calculate_results(y_true=val_labels,\n",
        "                                             y_pred=model_6_pretrained_preds)\n",
        "model_6_pretrained_results\n"
      ],
      "execution_count": 142,
      "outputs": [
        {
          "output_type": "execute_result",
          "data": {
            "text/plain": [
              "{'accuracy': 81.62729658792651,\n",
              " 'f1': 0.8148082644367335,\n",
              " 'precision': 0.818446310697231,\n",
              " 'recall': 0.8162729658792651}"
            ]
          },
          "metadata": {},
          "execution_count": 142
        }
      ]
    },
    {
      "cell_type": "code",
      "metadata": {
        "colab": {
          "base_uri": "https://localhost:8080/"
        },
        "id": "Udv3sn5Fq-Ew",
        "outputId": "86837d17-4265-4ce4-f434-591b7d2c5d36"
      },
      "source": [
        "model_6_pretrained_results[\"f1\"]"
      ],
      "execution_count": 143,
      "outputs": [
        {
          "output_type": "execute_result",
          "data": {
            "text/plain": [
              "0.8148082644367335"
            ]
          },
          "metadata": {},
          "execution_count": 143
        }
      ]
    },
    {
      "cell_type": "code",
      "metadata": {
        "colab": {
          "base_uri": "https://localhost:8080/"
        },
        "id": "PE818Oubp1Oo",
        "outputId": "8d3edc25-69a1-4e2c-af98-b83057493038"
      },
      "source": [
        "baseline_results[\"f1\"]"
      ],
      "execution_count": 144,
      "outputs": [
        {
          "output_type": "execute_result",
          "data": {
            "text/plain": [
              "0.7862189758049549"
            ]
          },
          "metadata": {},
          "execution_count": 144
        }
      ]
    },
    {
      "cell_type": "code",
      "metadata": {
        "colab": {
          "base_uri": "https://localhost:8080/",
          "height": 458
        },
        "id": "L1mGKkuCo8iR",
        "outputId": "a8e1df5e-780d-4c75-d58d-b85508f01c3b"
      },
      "source": [
        "import matplotlib.pyplot as plt\n",
        "plt.figure(figsize=(10,7))\n",
        "plt.scatter(base_per_pred, baseline_results[\"f1\"]/100, label=\"baseline\")\n",
        "plt.scatter(model_6_time_per_pred, model_6_pretrained_results[\"f1\"], label=\"tf_hub_USE\")\n",
        "plt.legend()\n",
        "plt.title(\"F1-score vs time per predictions\")\n",
        "plt.xlabel(\"Time per prediction\")\n",
        "plt.ylabel(\"F1-score\");"
      ],
      "execution_count": 145,
      "outputs": [
        {
          "output_type": "display_data",
          "data": {
            "image/png": "[encoded data removed]",
            "text/plain": [
              "<Figure size 720x504 with 1 Axes>"
            ]
          },
          "metadata": {
            "needs_background": "light"
          }
        }
      ]
    },
    {
      "cell_type": "markdown",
      "metadata": {
        "id": "GHtq-6UBpkS1"
      },
      "source": [
        "# Submission to Kaggle"
      ]
    },
    {
      "cell_type": "code",
      "metadata": {
        "colab": {
          "base_uri": "https://localhost:8080/"
        },
        "id": "lTT5cd76wLXS",
        "outputId": "5745f3fe-e12b-48ce-faed-3e643eb2e42a"
      },
      "source": [
        "test_sentences=test_df[\"text\"]\n",
        "test_sentences[:10]\n"
      ],
      "execution_count": 146,
      "outputs": [
        {
          "output_type": "execute_result",
          "data": {
            "text/plain": [
              "0                   Just happened a terrible car crash\n",
              "1    Heard about #earthquake is different cities, s...\n",
              "2    there is a forest fire at spot pond, geese are...\n",
              "3             Apocalypse lighting. #Spokane #wildfires\n",
              "4        Typhoon Soudelor kills 28 in China and Taiwan\n",
              "5                   We're shaking...It's an earthquake\n",
              "6    They'd probably still show more life than Arse...\n",
              "7                                    Hey! How are you?\n",
              "8                                     What a nice hat?\n",
              "9                                            Fuck off!\n",
              "Name: text, dtype: object"
            ]
          },
          "metadata": {},
          "execution_count": 146
        }
      ]
    },
    {
      "cell_type": "code",
      "metadata": {
        "id": "iWebARBMwtE_"
      },
      "source": [
        "# The best model used up to far is model 6\n",
        "model_6_1_test=model_6_1.predict(test_sentences)\n",
        "\n",
        "model_6_1_test=tf.cast(tf.squeeze(tf.round(model_6_1_test)), tf.int32)"
      ],
      "execution_count": 147,
      "outputs": []
    },
    {
      "cell_type": "code",
      "metadata": {
        "colab": {
          "base_uri": "https://localhost:8080/"
        },
        "id": "2_xIzImSw6Uy",
        "outputId": "5cb840f4-4f77-4825-fea5-44d031fd35d6"
      },
      "source": [
        "model_6_1_test.shape"
      ],
      "execution_count": 148,
      "outputs": [
        {
          "output_type": "execute_result",
          "data": {
            "text/plain": [
              "TensorShape([3263])"
            ]
          },
          "metadata": {},
          "execution_count": 148
        }
      ]
    },
    {
      "cell_type": "code",
      "metadata": {
        "id": "wGpIBeJ7xOrC"
      },
      "source": [
        "Submission=pd.DataFrame(test_df['id'], index=None)"
      ],
      "execution_count": 149,
      "outputs": []
    },
    {
      "cell_type": "code",
      "metadata": {
        "id": "DF8yczASyeJN"
      },
      "source": [
        "Submission[\"target\"]=model_6_1_test"
      ],
      "execution_count": 150,
      "outputs": []
    },
    {
      "cell_type": "code",
      "metadata": {
        "id": "WoenkaFExn68",
        "colab": {
          "base_uri": "https://localhost:8080/",
          "height": 17
        },
        "outputId": "9f64a6be-ed0f-4c90-990e-9a3cca3e2448"
      },
      "source": [
        "Submission.to_csv(\"submission.csv\", index=False)\n",
        "#Download files\n",
        "try:\n",
        "  from google.colab import files\n",
        "  files.download('submission.csv')\n",
        "except Exception:\n",
        "  pass"
      ],
      "execution_count": 151,
      "outputs": [
        {
          "output_type": "display_data",
          "data": {
            "application/javascript": [
              "\n",
              "    async function download(id, filename, size) {\n",
              "      if (!google.colab.kernel.accessAllowed) {\n",
              "        return;\n",
              "      }\n",
              "      const div = document.createElement('div');\n",
              "      const label = document.createElement('label');\n",
              "      label.textContent = `Downloading \"${filename}\": `;\n",
              "      div.appendChild(label);\n",
              "      const progress = document.createElement('progress');\n",
              "      progress.max = size;\n",
              "      div.appendChild(progress);\n",
              "      document.body.appendChild(div);\n",
              "\n",
              "      const buffers = [];\n",
              "      let downloaded = 0;\n",
              "\n",
              "      const channel = await google.colab.kernel.comms.open(id);\n",
              "      // Send a message to notify the kernel that we're ready.\n",
              "      channel.send({})\n",
              "\n",
              "      for await (const message of channel.messages) {\n",
              "        // Send a message to notify the kernel that we're ready.\n",
              "        channel.send({})\n",
              "        if (message.buffers) {\n",
              "          for (const buffer of message.buffers) {\n",
              "            buffers.push(buffer);\n",
              "            downloaded += buffer.byteLength;\n",
              "            progress.value = downloaded;\n",
              "          }\n",
              "        }\n",
              "      }\n",
              "      const blob = new Blob(buffers, {type: 'application/binary'});\n",
              "      const a = document.createElement('a');\n",
              "      a.href = window.URL.createObjectURL(blob);\n",
              "      a.download = filename;\n",
              "      div.appendChild(a);\n",
              "      a.click();\n",
              "      div.remove();\n",
              "    }\n",
              "  "
            ],
            "text/plain": [
              "<IPython.core.display.Javascript object>"
            ]
          },
          "metadata": {}
        },
        {
          "output_type": "display_data",
          "data": {
            "application/javascript": [
              "download(\"download_11405060-fe99-4d03-bf57-dbe5a39016a7\", \"submission.csv\", 22746)"
            ],
            "text/plain": [
              "<IPython.core.display.Javascript object>"
            ]
          },
          "metadata": {}
        }
      ]
    },
    {
      "cell_type": "code",
      "metadata": {
        "id": "q8-YuzfBzYJM"
      },
      "source": [
        ""
      ],
      "execution_count": 151,
      "outputs": []
    },
    {
      "cell_type": "markdown",
      "metadata": {
        "id": "UvA3lBiV71to"
      },
      "source": [
        "# Voting Classifier"
      ]
    },
    {
      "cell_type": "code",
      "metadata": {
        "id": "PN-Dq3GpyOH2"
      },
      "source": [
        "import numpy as np\n",
        "from statistics import mode\n",
        "\n",
        "# make predictions\n",
        "models=[model_0,model_1,model_2,model_3,model_4,model_5,model_6_1]\n",
        "yhats = [tf.cast(tf.squeeze(tf.round(model.predict(test_sentences))), dtype=tf.int32)  for model in models]\n",
        "yhats = np.array(yhats)\n"
      ],
      "execution_count": 152,
      "outputs": []
    },
    {
      "cell_type": "code",
      "metadata": {
        "colab": {
          "base_uri": "https://localhost:8080/",
          "height": 419
        },
        "id": "huwgfPQGIHpS",
        "outputId": "620e7a28-de12-423c-cae7-e892c68f3d69"
      },
      "source": [
        "A=pd.DataFrame(yhats).T\n",
        "A"
      ],
      "execution_count": 153,
      "outputs": [
        {
          "output_type": "execute_result",
          "data": {
            "text/html": [
              "<div>\n",
              "<style scoped>\n",
              "    .dataframe tbody tr th:only-of-type {\n",
              "        vertical-align: middle;\n",
              "    }\n",
              "\n",
              "    .dataframe tbody tr th {\n",
              "        vertical-align: top;\n",
              "    }\n",
              "\n",
              "    .dataframe thead th {\n",
              "        text-align: right;\n",
              "    }\n",
              "</style>\n",
              "<table border=\"1\" class=\"dataframe\">\n",
              "  <thead>\n",
              "    <tr style=\"text-align: right;\">\n",
              "      <th></th>\n",
              "      <th>0</th>\n",
              "      <th>1</th>\n",
              "      <th>2</th>\n",
              "      <th>3</th>\n",
              "      <th>4</th>\n",
              "      <th>5</th>\n",
              "      <th>6</th>\n",
              "    </tr>\n",
              "  </thead>\n",
              "  <tbody>\n",
              "    <tr>\n",
              "      <th>0</th>\n",
              "      <td>1</td>\n",
              "      <td>1</td>\n",
              "      <td>1</td>\n",
              "      <td>1</td>\n",
              "      <td>1</td>\n",
              "      <td>1</td>\n",
              "      <td>1</td>\n",
              "    </tr>\n",
              "    <tr>\n",
              "      <th>1</th>\n",
              "      <td>0</td>\n",
              "      <td>0</td>\n",
              "      <td>0</td>\n",
              "      <td>0</td>\n",
              "      <td>0</td>\n",
              "      <td>0</td>\n",
              "      <td>1</td>\n",
              "    </tr>\n",
              "    <tr>\n",
              "      <th>2</th>\n",
              "      <td>1</td>\n",
              "      <td>1</td>\n",
              "      <td>1</td>\n",
              "      <td>1</td>\n",
              "      <td>1</td>\n",
              "      <td>1</td>\n",
              "      <td>1</td>\n",
              "    </tr>\n",
              "    <tr>\n",
              "      <th>3</th>\n",
              "      <td>1</td>\n",
              "      <td>0</td>\n",
              "      <td>0</td>\n",
              "      <td>0</td>\n",
              "      <td>0</td>\n",
              "      <td>1</td>\n",
              "      <td>1</td>\n",
              "    </tr>\n",
              "    <tr>\n",
              "      <th>4</th>\n",
              "      <td>1</td>\n",
              "      <td>1</td>\n",
              "      <td>1</td>\n",
              "      <td>1</td>\n",
              "      <td>1</td>\n",
              "      <td>1</td>\n",
              "      <td>1</td>\n",
              "    </tr>\n",
              "    <tr>\n",
              "      <th>...</th>\n",
              "      <td>...</td>\n",
              "      <td>...</td>\n",
              "      <td>...</td>\n",
              "      <td>...</td>\n",
              "      <td>...</td>\n",
              "      <td>...</td>\n",
              "      <td>...</td>\n",
              "    </tr>\n",
              "    <tr>\n",
              "      <th>3258</th>\n",
              "      <td>1</td>\n",
              "      <td>1</td>\n",
              "      <td>1</td>\n",
              "      <td>1</td>\n",
              "      <td>1</td>\n",
              "      <td>1</td>\n",
              "      <td>1</td>\n",
              "    </tr>\n",
              "    <tr>\n",
              "      <th>3259</th>\n",
              "      <td>0</td>\n",
              "      <td>1</td>\n",
              "      <td>1</td>\n",
              "      <td>1</td>\n",
              "      <td>1</td>\n",
              "      <td>1</td>\n",
              "      <td>1</td>\n",
              "    </tr>\n",
              "    <tr>\n",
              "      <th>3260</th>\n",
              "      <td>1</td>\n",
              "      <td>1</td>\n",
              "      <td>1</td>\n",
              "      <td>1</td>\n",
              "      <td>1</td>\n",
              "      <td>1</td>\n",
              "      <td>1</td>\n",
              "    </tr>\n",
              "    <tr>\n",
              "      <th>3261</th>\n",
              "      <td>1</td>\n",
              "      <td>1</td>\n",
              "      <td>1</td>\n",
              "      <td>1</td>\n",
              "      <td>1</td>\n",
              "      <td>1</td>\n",
              "      <td>1</td>\n",
              "    </tr>\n",
              "    <tr>\n",
              "      <th>3262</th>\n",
              "      <td>1</td>\n",
              "      <td>1</td>\n",
              "      <td>1</td>\n",
              "      <td>1</td>\n",
              "      <td>1</td>\n",
              "      <td>1</td>\n",
              "      <td>1</td>\n",
              "    </tr>\n",
              "  </tbody>\n",
              "</table>\n",
              "<p>3263 rows × 7 columns</p>\n",
              "</div>"
            ],
            "text/plain": [
              "      0  1  2  3  4  5  6\n",
              "0     1  1  1  1  1  1  1\n",
              "1     0  0  0  0  0  0  1\n",
              "2     1  1  1  1  1  1  1\n",
              "3     1  0  0  0  0  1  1\n",
              "4     1  1  1  1  1  1  1\n",
              "...  .. .. .. .. .. .. ..\n",
              "3258  1  1  1  1  1  1  1\n",
              "3259  0  1  1  1  1  1  1\n",
              "3260  1  1  1  1  1  1  1\n",
              "3261  1  1  1  1  1  1  1\n",
              "3262  1  1  1  1  1  1  1\n",
              "\n",
              "[3263 rows x 7 columns]"
            ]
          },
          "metadata": {},
          "execution_count": 153
        }
      ]
    },
    {
      "cell_type": "code",
      "metadata": {
        "id": "_JYkYwTcIA3J"
      },
      "source": [
        "B=A.apply(mode, axis=1)"
      ],
      "execution_count": 154,
      "outputs": []
    },
    {
      "cell_type": "code",
      "metadata": {
        "colab": {
          "base_uri": "https://localhost:8080/"
        },
        "id": "L1cRZtunLLZG",
        "outputId": "6da36fb0-e705-4af9-da65-e12a7c4eed9f"
      },
      "source": [
        "B.values[:]"
      ],
      "execution_count": 155,
      "outputs": [
        {
          "output_type": "execute_result",
          "data": {
            "text/plain": [
              "array([1, 0, 1, ..., 1, 1, 1])"
            ]
          },
          "metadata": {},
          "execution_count": 155
        }
      ]
    },
    {
      "cell_type": "code",
      "metadata": {
        "id": "gSB_dngNKyC0"
      },
      "source": [
        "Submission1=pd.DataFrame(test_df['id'], index=None, dtype=str)"
      ],
      "execution_count": 207,
      "outputs": []
    },
    {
      "cell_type": "code",
      "metadata": {
        "id": "pKkDauLGK-RR"
      },
      "source": [
        "Submission1[\"target\"]=B.values[:].astype(str)"
      ],
      "execution_count": 208,
      "outputs": []
    },
    {
      "cell_type": "code",
      "metadata": {
        "id": "SVbW7kdALWlY"
      },
      "source": [
        ""
      ],
      "execution_count": 209,
      "outputs": []
    },
    {
      "cell_type": "code",
      "metadata": {
        "colab": {
          "base_uri": "https://localhost:8080/",
          "height": 17
        },
        "id": "cy_XUs9tLdt0",
        "outputId": "528eefa7-7b54-40b1-b7cc-92318a061369"
      },
      "source": [
        "Submission1.to_csv(\"submission1.csv\", index=False)\n",
        "#Download files\n",
        "try:\n",
        "  from google.colab import files\n",
        "  files.download('submission1.csv')\n",
        "except Exception:\n",
        "  pass"
      ],
      "execution_count": 209,
      "outputs": [
        {
          "output_type": "display_data",
          "data": {
            "application/javascript": [
              "\n",
              "    async function download(id, filename, size) {\n",
              "      if (!google.colab.kernel.accessAllowed) {\n",
              "        return;\n",
              "      }\n",
              "      const div = document.createElement('div');\n",
              "      const label = document.createElement('label');\n",
              "      label.textContent = `Downloading \"${filename}\": `;\n",
              "      div.appendChild(label);\n",
              "      const progress = document.createElement('progress');\n",
              "      progress.max = size;\n",
              "      div.appendChild(progress);\n",
              "      document.body.appendChild(div);\n",
              "\n",
              "      const buffers = [];\n",
              "      let downloaded = 0;\n",
              "\n",
              "      const channel = await google.colab.kernel.comms.open(id);\n",
              "      // Send a message to notify the kernel that we're ready.\n",
              "      channel.send({})\n",
              "\n",
              "      for await (const message of channel.messages) {\n",
              "        // Send a message to notify the kernel that we're ready.\n",
              "        channel.send({})\n",
              "        if (message.buffers) {\n",
              "          for (const buffer of message.buffers) {\n",
              "            buffers.push(buffer);\n",
              "            downloaded += buffer.byteLength;\n",
              "            progress.value = downloaded;\n",
              "          }\n",
              "        }\n",
              "      }\n",
              "      const blob = new Blob(buffers, {type: 'application/binary'});\n",
              "      const a = document.createElement('a');\n",
              "      a.href = window.URL.createObjectURL(blob);\n",
              "      a.download = filename;\n",
              "      div.appendChild(a);\n",
              "      a.click();\n",
              "      div.remove();\n",
              "    }\n",
              "  "
            ],
            "text/plain": [
              "<IPython.core.display.Javascript object>"
            ]
          },
          "metadata": {}
        },
        {
          "output_type": "display_data",
          "data": {
            "application/javascript": [
              "download(\"download_1068597c-0f49-49d5-8abb-7de5161c7a0a\", \"submission1.csv\", 22746)"
            ],
            "text/plain": [
              "<IPython.core.display.Javascript object>"
            ]
          },
          "metadata": {}
        }
      ]
    },
    {
      "cell_type": "markdown",
      "metadata": {
        "id": "lgvy1Yu65TWV"
      },
      "source": [
        "# Voting only with the best three models"
      ]
    },
    {
      "cell_type": "code",
      "metadata": {
        "colab": {
          "base_uri": "https://localhost:8080/",
          "height": 419
        },
        "id": "I_o4CKrk5XUh",
        "outputId": "983f368e-a989-4dff-96c4-853b8fa49a02"
      },
      "source": [
        "# make predictions\n",
        "models=[model_0, model_3,model_6_1]\n",
        "yhats = [tf.cast(tf.squeeze(tf.round(model.predict(test_sentences))), dtype=tf.int32)  for model in models]\n",
        "yhats = np.array(yhats)\n",
        "A=pd.DataFrame(yhats).T\n",
        "A"
      ],
      "execution_count": 160,
      "outputs": [
        {
          "output_type": "execute_result",
          "data": {
            "text/html": [
              "<div>\n",
              "<style scoped>\n",
              "    .dataframe tbody tr th:only-of-type {\n",
              "        vertical-align: middle;\n",
              "    }\n",
              "\n",
              "    .dataframe tbody tr th {\n",
              "        vertical-align: top;\n",
              "    }\n",
              "\n",
              "    .dataframe thead th {\n",
              "        text-align: right;\n",
              "    }\n",
              "</style>\n",
              "<table border=\"1\" class=\"dataframe\">\n",
              "  <thead>\n",
              "    <tr style=\"text-align: right;\">\n",
              "      <th></th>\n",
              "      <th>0</th>\n",
              "      <th>1</th>\n",
              "      <th>2</th>\n",
              "    </tr>\n",
              "  </thead>\n",
              "  <tbody>\n",
              "    <tr>\n",
              "      <th>0</th>\n",
              "      <td>1</td>\n",
              "      <td>1</td>\n",
              "      <td>1</td>\n",
              "    </tr>\n",
              "    <tr>\n",
              "      <th>1</th>\n",
              "      <td>0</td>\n",
              "      <td>0</td>\n",
              "      <td>1</td>\n",
              "    </tr>\n",
              "    <tr>\n",
              "      <th>2</th>\n",
              "      <td>1</td>\n",
              "      <td>1</td>\n",
              "      <td>1</td>\n",
              "    </tr>\n",
              "    <tr>\n",
              "      <th>3</th>\n",
              "      <td>1</td>\n",
              "      <td>0</td>\n",
              "      <td>1</td>\n",
              "    </tr>\n",
              "    <tr>\n",
              "      <th>4</th>\n",
              "      <td>1</td>\n",
              "      <td>1</td>\n",
              "      <td>1</td>\n",
              "    </tr>\n",
              "    <tr>\n",
              "      <th>...</th>\n",
              "      <td>...</td>\n",
              "      <td>...</td>\n",
              "      <td>...</td>\n",
              "    </tr>\n",
              "    <tr>\n",
              "      <th>3258</th>\n",
              "      <td>1</td>\n",
              "      <td>1</td>\n",
              "      <td>1</td>\n",
              "    </tr>\n",
              "    <tr>\n",
              "      <th>3259</th>\n",
              "      <td>0</td>\n",
              "      <td>1</td>\n",
              "      <td>1</td>\n",
              "    </tr>\n",
              "    <tr>\n",
              "      <th>3260</th>\n",
              "      <td>1</td>\n",
              "      <td>1</td>\n",
              "      <td>1</td>\n",
              "    </tr>\n",
              "    <tr>\n",
              "      <th>3261</th>\n",
              "      <td>1</td>\n",
              "      <td>1</td>\n",
              "      <td>1</td>\n",
              "    </tr>\n",
              "    <tr>\n",
              "      <th>3262</th>\n",
              "      <td>1</td>\n",
              "      <td>1</td>\n",
              "      <td>1</td>\n",
              "    </tr>\n",
              "  </tbody>\n",
              "</table>\n",
              "<p>3263 rows × 3 columns</p>\n",
              "</div>"
            ],
            "text/plain": [
              "      0  1  2\n",
              "0     1  1  1\n",
              "1     0  0  1\n",
              "2     1  1  1\n",
              "3     1  0  1\n",
              "4     1  1  1\n",
              "...  .. .. ..\n",
              "3258  1  1  1\n",
              "3259  0  1  1\n",
              "3260  1  1  1\n",
              "3261  1  1  1\n",
              "3262  1  1  1\n",
              "\n",
              "[3263 rows x 3 columns]"
            ]
          },
          "metadata": {},
          "execution_count": 160
        }
      ]
    },
    {
      "cell_type": "code",
      "metadata": {
        "colab": {
          "base_uri": "https://localhost:8080/",
          "height": 17
        },
        "id": "rTnqCHvd5iRH",
        "outputId": "8fdb292c-d8b5-4e01-ce4a-7b25e3c01558"
      },
      "source": [
        "B=A.apply(mode, axis=1)\n",
        "Submission2=pd.DataFrame(test_df['id'], index=None)\n",
        "Submission2[\"target\"]=B.values[:]\n",
        "Submission2.to_csv(\"submission2.csv\", index=False)\n",
        "#Download files\n",
        "try:\n",
        "  from google.colab import files\n",
        "  files.download('submission2.csv')\n",
        "except Exception:\n",
        "  pass"
      ],
      "execution_count": 211,
      "outputs": [
        {
          "output_type": "display_data",
          "data": {
            "application/javascript": [
              "\n",
              "    async function download(id, filename, size) {\n",
              "      if (!google.colab.kernel.accessAllowed) {\n",
              "        return;\n",
              "      }\n",
              "      const div = document.createElement('div');\n",
              "      const label = document.createElement('label');\n",
              "      label.textContent = `Downloading \"${filename}\": `;\n",
              "      div.appendChild(label);\n",
              "      const progress = document.createElement('progress');\n",
              "      progress.max = size;\n",
              "      div.appendChild(progress);\n",
              "      document.body.appendChild(div);\n",
              "\n",
              "      const buffers = [];\n",
              "      let downloaded = 0;\n",
              "\n",
              "      const channel = await google.colab.kernel.comms.open(id);\n",
              "      // Send a message to notify the kernel that we're ready.\n",
              "      channel.send({})\n",
              "\n",
              "      for await (const message of channel.messages) {\n",
              "        // Send a message to notify the kernel that we're ready.\n",
              "        channel.send({})\n",
              "        if (message.buffers) {\n",
              "          for (const buffer of message.buffers) {\n",
              "            buffers.push(buffer);\n",
              "            downloaded += buffer.byteLength;\n",
              "            progress.value = downloaded;\n",
              "          }\n",
              "        }\n",
              "      }\n",
              "      const blob = new Blob(buffers, {type: 'application/binary'});\n",
              "      const a = document.createElement('a');\n",
              "      a.href = window.URL.createObjectURL(blob);\n",
              "      a.download = filename;\n",
              "      div.appendChild(a);\n",
              "      a.click();\n",
              "      div.remove();\n",
              "    }\n",
              "  "
            ],
            "text/plain": [
              "<IPython.core.display.Javascript object>"
            ]
          },
          "metadata": {}
        },
        {
          "output_type": "display_data",
          "data": {
            "application/javascript": [
              "download(\"download_043b2488-f149-458c-b6f3-af2277bd7e59\", \"submission2.csv\", 22746)"
            ],
            "text/plain": [
              "<IPython.core.display.Javascript object>"
            ]
          },
          "metadata": {}
        }
      ]
    },
    {
      "cell_type": "markdown",
      "metadata": {
        "id": "nbUyT27K66Xv"
      },
      "source": [
        "# Ensemble with average of probabilities"
      ]
    },
    {
      "cell_type": "code",
      "metadata": {
        "id": "Xj3BrpYR6Ejo"
      },
      "source": [
        "\n",
        "model_6_1.predict(test_sentences)\n",
        "models=[model_1,model_2,model_3,model_4,model_5,model_6_1]\n",
        "yhats = [tf.squeeze(model.predict(test_sentences))  for model in models]\n"
      ],
      "execution_count": 168,
      "outputs": []
    },
    {
      "cell_type": "code",
      "metadata": {
        "colab": {
          "base_uri": "https://localhost:8080/"
        },
        "id": "NA4Kxan07yNp",
        "outputId": "e6048e75-d90d-4516-f7d7-eddf796a5744"
      },
      "source": [
        "yhats"
      ],
      "execution_count": 169,
      "outputs": [
        {
          "output_type": "execute_result",
          "data": {
            "text/plain": [
              "[<tf.Tensor: shape=(3263,), dtype=float32, numpy=\n",
              " array([0.64612085, 0.01900848, 0.99993193, ..., 0.9714372 , 0.59994495,\n",
              "        0.9843679 ], dtype=float32)>,\n",
              " <tf.Tensor: shape=(3263,), dtype=float32, numpy=\n",
              " array([0.99930584, 0.06948837, 0.9996152 , ..., 0.9994918 , 0.6475359 ,\n",
              "        0.9995598 ], dtype=float32)>,\n",
              " <tf.Tensor: shape=(3263,), dtype=float32, numpy=\n",
              " array([9.9531168e-01, 1.0920304e-04, 9.9992025e-01, ..., 9.9982256e-01,\n",
              "        9.9544770e-01, 9.9979025e-01], dtype=float32)>,\n",
              " <tf.Tensor: shape=(3263,), dtype=float32, numpy=\n",
              " array([9.9901831e-01, 8.6286687e-05, 9.9997759e-01, ..., 9.9987864e-01,\n",
              "        9.9920952e-01, 9.9993253e-01], dtype=float32)>,\n",
              " <tf.Tensor: shape=(3263,), dtype=float32, numpy=\n",
              " array([0.8343158 , 0.01393337, 0.84798115, ..., 0.8468329 , 0.82987803,\n",
              "        0.8468329 ], dtype=float32)>,\n",
              " <tf.Tensor: shape=(3263,), dtype=float32, numpy=\n",
              " array([0.5803417 , 0.88242394, 0.833266  , ..., 0.92625844, 0.5051442 ,\n",
              "        0.70362616], dtype=float32)>]"
            ]
          },
          "metadata": {},
          "execution_count": 169
        }
      ]
    },
    {
      "cell_type": "code",
      "metadata": {
        "id": "TwzN-Nbg8IPH"
      },
      "source": [
        "average=np.mean(yhats, axis=0)\n",
        "D=tf.cast(tf.round(average), dtype=tf.int32)"
      ],
      "execution_count": 184,
      "outputs": []
    },
    {
      "cell_type": "code",
      "metadata": {
        "colab": {
          "base_uri": "https://localhost:8080/"
        },
        "id": "T-EHDipE8k7E",
        "outputId": "b71a3f70-171d-4852-bd66-9119c9ba4d89"
      },
      "source": [
        "print(D)"
      ],
      "execution_count": 185,
      "outputs": [
        {
          "output_type": "stream",
          "name": "stdout",
          "text": [
            "tf.Tensor([1 0 1 ... 1 1 1], shape=(3263,), dtype=int32)\n"
          ]
        }
      ]
    },
    {
      "cell_type": "code",
      "metadata": {
        "colab": {
          "base_uri": "https://localhost:8080/",
          "height": 17
        },
        "id": "uUdFn94t9S8j",
        "outputId": "e4e0c76e-9f77-4c71-c9ad-894d42a3db1c"
      },
      "source": [
        "\n",
        "Submission3=pd.DataFrame(test_df['id'], index=None)\n",
        "Submission3[\"target\"]=pd.Series(D)\n",
        "Submission3.to_csv(\"submission3.csv\", index=False)\n",
        "#Download files\n",
        "try:\n",
        "  from google.colab import files\n",
        "  files.download('submission3.csv')\n",
        "except Exception:\n",
        "  pass"
      ],
      "execution_count": 210,
      "outputs": [
        {
          "output_type": "display_data",
          "data": {
            "application/javascript": [
              "\n",
              "    async function download(id, filename, size) {\n",
              "      if (!google.colab.kernel.accessAllowed) {\n",
              "        return;\n",
              "      }\n",
              "      const div = document.createElement('div');\n",
              "      const label = document.createElement('label');\n",
              "      label.textContent = `Downloading \"${filename}\": `;\n",
              "      div.appendChild(label);\n",
              "      const progress = document.createElement('progress');\n",
              "      progress.max = size;\n",
              "      div.appendChild(progress);\n",
              "      document.body.appendChild(div);\n",
              "\n",
              "      const buffers = [];\n",
              "      let downloaded = 0;\n",
              "\n",
              "      const channel = await google.colab.kernel.comms.open(id);\n",
              "      // Send a message to notify the kernel that we're ready.\n",
              "      channel.send({})\n",
              "\n",
              "      for await (const message of channel.messages) {\n",
              "        // Send a message to notify the kernel that we're ready.\n",
              "        channel.send({})\n",
              "        if (message.buffers) {\n",
              "          for (const buffer of message.buffers) {\n",
              "            buffers.push(buffer);\n",
              "            downloaded += buffer.byteLength;\n",
              "            progress.value = downloaded;\n",
              "          }\n",
              "        }\n",
              "      }\n",
              "      const blob = new Blob(buffers, {type: 'application/binary'});\n",
              "      const a = document.createElement('a');\n",
              "      a.href = window.URL.createObjectURL(blob);\n",
              "      a.download = filename;\n",
              "      div.appendChild(a);\n",
              "      a.click();\n",
              "      div.remove();\n",
              "    }\n",
              "  "
            ],
            "text/plain": [
              "<IPython.core.display.Javascript object>"
            ]
          },
          "metadata": {}
        },
        {
          "output_type": "display_data",
          "data": {
            "application/javascript": [
              "download(\"download_b345245e-0d68-442f-8df8-bf57e51a9a15\", \"submission3.csv\", 22746)"
            ],
            "text/plain": [
              "<IPython.core.display.Javascript object>"
            ]
          },
          "metadata": {}
        }
      ]
    },
    {
      "cell_type": "code",
      "metadata": {
        "colab": {
          "base_uri": "https://localhost:8080/",
          "height": 419
        },
        "id": "_wrgSZ_q-AuG",
        "outputId": "795e7f86-3196-4ad7-a461-7964ef7743b9"
      },
      "source": [
        "Submission3"
      ],
      "execution_count": 193,
      "outputs": [
        {
          "output_type": "execute_result",
          "data": {
            "text/html": [
              "<div>\n",
              "<style scoped>\n",
              "    .dataframe tbody tr th:only-of-type {\n",
              "        vertical-align: middle;\n",
              "    }\n",
              "\n",
              "    .dataframe tbody tr th {\n",
              "        vertical-align: top;\n",
              "    }\n",
              "\n",
              "    .dataframe thead th {\n",
              "        text-align: right;\n",
              "    }\n",
              "</style>\n",
              "<table border=\"1\" class=\"dataframe\">\n",
              "  <thead>\n",
              "    <tr style=\"text-align: right;\">\n",
              "      <th></th>\n",
              "      <th>id</th>\n",
              "      <th>target</th>\n",
              "    </tr>\n",
              "  </thead>\n",
              "  <tbody>\n",
              "    <tr>\n",
              "      <th>0</th>\n",
              "      <td>0</td>\n",
              "      <td>1</td>\n",
              "    </tr>\n",
              "    <tr>\n",
              "      <th>1</th>\n",
              "      <td>2</td>\n",
              "      <td>0</td>\n",
              "    </tr>\n",
              "    <tr>\n",
              "      <th>2</th>\n",
              "      <td>3</td>\n",
              "      <td>1</td>\n",
              "    </tr>\n",
              "    <tr>\n",
              "      <th>3</th>\n",
              "      <td>9</td>\n",
              "      <td>0</td>\n",
              "    </tr>\n",
              "    <tr>\n",
              "      <th>4</th>\n",
              "      <td>11</td>\n",
              "      <td>1</td>\n",
              "    </tr>\n",
              "    <tr>\n",
              "      <th>...</th>\n",
              "      <td>...</td>\n",
              "      <td>...</td>\n",
              "    </tr>\n",
              "    <tr>\n",
              "      <th>3258</th>\n",
              "      <td>10861</td>\n",
              "      <td>1</td>\n",
              "    </tr>\n",
              "    <tr>\n",
              "      <th>3259</th>\n",
              "      <td>10865</td>\n",
              "      <td>1</td>\n",
              "    </tr>\n",
              "    <tr>\n",
              "      <th>3260</th>\n",
              "      <td>10868</td>\n",
              "      <td>1</td>\n",
              "    </tr>\n",
              "    <tr>\n",
              "      <th>3261</th>\n",
              "      <td>10874</td>\n",
              "      <td>1</td>\n",
              "    </tr>\n",
              "    <tr>\n",
              "      <th>3262</th>\n",
              "      <td>10875</td>\n",
              "      <td>1</td>\n",
              "    </tr>\n",
              "  </tbody>\n",
              "</table>\n",
              "<p>3263 rows × 2 columns</p>\n",
              "</div>"
            ],
            "text/plain": [
              "         id  target\n",
              "0         0       1\n",
              "1         2       0\n",
              "2         3       1\n",
              "3         9       0\n",
              "4        11       1\n",
              "...     ...     ...\n",
              "3258  10861       1\n",
              "3259  10865       1\n",
              "3260  10868       1\n",
              "3261  10874       1\n",
              "3262  10875       1\n",
              "\n",
              "[3263 rows x 2 columns]"
            ]
          },
          "metadata": {},
          "execution_count": 193
        }
      ]
    },
    {
      "cell_type": "code",
      "metadata": {
        "id": "mYoaScWoCiyF"
      },
      "source": [
        "#The result is still not an improvement "
      ],
      "execution_count": null,
      "outputs": []
    }
  ]
}
