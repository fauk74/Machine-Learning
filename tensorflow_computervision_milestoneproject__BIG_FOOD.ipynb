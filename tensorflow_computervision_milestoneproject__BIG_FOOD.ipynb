{
  "nbformat": 4,
  "nbformat_minor": 0,
  "metadata": {
    "accelerator": "GPU",
    "colab": {
      "name": "07-milestone-TensorFlow_BIG_FOOD.ipynb",
      "provenance": [],
      "collapsed_sections": [],
      "mount_file_id": "1slnywo4Y3WFkn7pedP_v4YN4ue-NLuiO",
      "authorship_tag": "ABX9TyMcSbOxt/NCrWiByBAeQX3G",
      "include_colab_link": true
    },
    "kernelspec": {
      "display_name": "Python 3",
      "name": "python3"
    },
    "language_info": {
      "name": "python"
    },
    "widgets": {
      "application/vnd.jupyter.widget-state+json": {
        "1894f46864b544e38b5b3a6da1728b41": {
          "model_module": "@jupyter-widgets/controls",
          "model_name": "HBoxModel",
          "model_module_version": "1.5.0",
          "state": {
            "_dom_classes": [],
            "_model_module": "@jupyter-widgets/controls",
            "_model_module_version": "1.5.0",
            "_model_name": "HBoxModel",
            "_view_count": null,
            "_view_module": "@jupyter-widgets/controls",
            "_view_module_version": "1.5.0",
            "_view_name": "HBoxView",
            "box_style": "",
            "children": [
              "IPY_MODEL_d2962d446f874eb1849678c4b39dc48b",
              "IPY_MODEL_ee30765fbf2b4f88827bc9d1b19f46f8",
              "IPY_MODEL_307379fbf12349bab2d4ef902dcd8bb8"
            ],
            "layout": "IPY_MODEL_301b2a89b81644c690600535c1abc648"
          }
        },
        "d2962d446f874eb1849678c4b39dc48b": {
          "model_module": "@jupyter-widgets/controls",
          "model_name": "HTMLModel",
          "model_module_version": "1.5.0",
          "state": {
            "_dom_classes": [],
            "_model_module": "@jupyter-widgets/controls",
            "_model_module_version": "1.5.0",
            "_model_name": "HTMLModel",
            "_view_count": null,
            "_view_module": "@jupyter-widgets/controls",
            "_view_module_version": "1.5.0",
            "_view_name": "HTMLView",
            "description": "",
            "description_tooltip": null,
            "layout": "IPY_MODEL_ec3bf90831d349b8bcb1a896ca2ea669",
            "placeholder": "​",
            "style": "IPY_MODEL_3a4973110b4a4605ad0bc9a9c27650e5",
            "value": "Dl Completed...: 100%"
          }
        },
        "ee30765fbf2b4f88827bc9d1b19f46f8": {
          "model_module": "@jupyter-widgets/controls",
          "model_name": "FloatProgressModel",
          "model_module_version": "1.5.0",
          "state": {
            "_dom_classes": [],
            "_model_module": "@jupyter-widgets/controls",
            "_model_module_version": "1.5.0",
            "_model_name": "FloatProgressModel",
            "_view_count": null,
            "_view_module": "@jupyter-widgets/controls",
            "_view_module_version": "1.5.0",
            "_view_name": "ProgressView",
            "bar_style": "success",
            "description": "",
            "description_tooltip": null,
            "layout": "IPY_MODEL_7caca2681de94e98bf1355caf1e313f7",
            "max": 1,
            "min": 0,
            "orientation": "horizontal",
            "style": "IPY_MODEL_8ba9e0b658c54448a1403df79c4389cf",
            "value": 1
          }
        },
        "307379fbf12349bab2d4ef902dcd8bb8": {
          "model_module": "@jupyter-widgets/controls",
          "model_name": "HTMLModel",
          "model_module_version": "1.5.0",
          "state": {
            "_dom_classes": [],
            "_model_module": "@jupyter-widgets/controls",
            "_model_module_version": "1.5.0",
            "_model_name": "HTMLModel",
            "_view_count": null,
            "_view_module": "@jupyter-widgets/controls",
            "_view_module_version": "1.5.0",
            "_view_name": "HTMLView",
            "description": "",
            "description_tooltip": null,
            "layout": "IPY_MODEL_adb3927f52f24ee68a5175030c195f91",
            "placeholder": "​",
            "style": "IPY_MODEL_77728a301869404f883c7786cfd5fde1",
            "value": " 1/1 [10:07&lt;00:00, 472.51s/ url]"
          }
        },
        "301b2a89b81644c690600535c1abc648": {
          "model_module": "@jupyter-widgets/base",
          "model_name": "LayoutModel",
          "model_module_version": "1.2.0",
          "state": {
            "_model_module": "@jupyter-widgets/base",
            "_model_module_version": "1.2.0",
            "_model_name": "LayoutModel",
            "_view_count": null,
            "_view_module": "@jupyter-widgets/base",
            "_view_module_version": "1.2.0",
            "_view_name": "LayoutView",
            "align_content": null,
            "align_items": null,
            "align_self": null,
            "border": null,
            "bottom": null,
            "display": null,
            "flex": null,
            "flex_flow": null,
            "grid_area": null,
            "grid_auto_columns": null,
            "grid_auto_flow": null,
            "grid_auto_rows": null,
            "grid_column": null,
            "grid_gap": null,
            "grid_row": null,
            "grid_template_areas": null,
            "grid_template_columns": null,
            "grid_template_rows": null,
            "height": null,
            "justify_content": null,
            "justify_items": null,
            "left": null,
            "margin": null,
            "max_height": null,
            "max_width": null,
            "min_height": null,
            "min_width": null,
            "object_fit": null,
            "object_position": null,
            "order": null,
            "overflow": null,
            "overflow_x": null,
            "overflow_y": null,
            "padding": null,
            "right": null,
            "top": null,
            "visibility": null,
            "width": null
          }
        },
        "ec3bf90831d349b8bcb1a896ca2ea669": {
          "model_module": "@jupyter-widgets/base",
          "model_name": "LayoutModel",
          "model_module_version": "1.2.0",
          "state": {
            "_model_module": "@jupyter-widgets/base",
            "_model_module_version": "1.2.0",
            "_model_name": "LayoutModel",
            "_view_count": null,
            "_view_module": "@jupyter-widgets/base",
            "_view_module_version": "1.2.0",
            "_view_name": "LayoutView",
            "align_content": null,
            "align_items": null,
            "align_self": null,
            "border": null,
            "bottom": null,
            "display": null,
            "flex": null,
            "flex_flow": null,
            "grid_area": null,
            "grid_auto_columns": null,
            "grid_auto_flow": null,
            "grid_auto_rows": null,
            "grid_column": null,
            "grid_gap": null,
            "grid_row": null,
            "grid_template_areas": null,
            "grid_template_columns": null,
            "grid_template_rows": null,
            "height": null,
            "justify_content": null,
            "justify_items": null,
            "left": null,
            "margin": null,
            "max_height": null,
            "max_width": null,
            "min_height": null,
            "min_width": null,
            "object_fit": null,
            "object_position": null,
            "order": null,
            "overflow": null,
            "overflow_x": null,
            "overflow_y": null,
            "padding": null,
            "right": null,
            "top": null,
            "visibility": null,
            "width": null
          }
        },
        "3a4973110b4a4605ad0bc9a9c27650e5": {
          "model_module": "@jupyter-widgets/controls",
          "model_name": "DescriptionStyleModel",
          "model_module_version": "1.5.0",
          "state": {
            "_model_module": "@jupyter-widgets/controls",
            "_model_module_version": "1.5.0",
            "_model_name": "DescriptionStyleModel",
            "_view_count": null,
            "_view_module": "@jupyter-widgets/base",
            "_view_module_version": "1.2.0",
            "_view_name": "StyleView",
            "description_width": ""
          }
        },
        "7caca2681de94e98bf1355caf1e313f7": {
          "model_module": "@jupyter-widgets/base",
          "model_name": "LayoutModel",
          "model_module_version": "1.2.0",
          "state": {
            "_model_module": "@jupyter-widgets/base",
            "_model_module_version": "1.2.0",
            "_model_name": "LayoutModel",
            "_view_count": null,
            "_view_module": "@jupyter-widgets/base",
            "_view_module_version": "1.2.0",
            "_view_name": "LayoutView",
            "align_content": null,
            "align_items": null,
            "align_self": null,
            "border": null,
            "bottom": null,
            "display": null,
            "flex": null,
            "flex_flow": null,
            "grid_area": null,
            "grid_auto_columns": null,
            "grid_auto_flow": null,
            "grid_auto_rows": null,
            "grid_column": null,
            "grid_gap": null,
            "grid_row": null,
            "grid_template_areas": null,
            "grid_template_columns": null,
            "grid_template_rows": null,
            "height": null,
            "justify_content": null,
            "justify_items": null,
            "left": null,
            "margin": null,
            "max_height": null,
            "max_width": null,
            "min_height": null,
            "min_width": null,
            "object_fit": null,
            "object_position": null,
            "order": null,
            "overflow": null,
            "overflow_x": null,
            "overflow_y": null,
            "padding": null,
            "right": null,
            "top": null,
            "visibility": null,
            "width": "20px"
          }
        },
        "8ba9e0b658c54448a1403df79c4389cf": {
          "model_module": "@jupyter-widgets/controls",
          "model_name": "ProgressStyleModel",
          "model_module_version": "1.5.0",
          "state": {
            "_model_module": "@jupyter-widgets/controls",
            "_model_module_version": "1.5.0",
            "_model_name": "ProgressStyleModel",
            "_view_count": null,
            "_view_module": "@jupyter-widgets/base",
            "_view_module_version": "1.2.0",
            "_view_name": "StyleView",
            "bar_color": null,
            "description_width": ""
          }
        },
        "adb3927f52f24ee68a5175030c195f91": {
          "model_module": "@jupyter-widgets/base",
          "model_name": "LayoutModel",
          "model_module_version": "1.2.0",
          "state": {
            "_model_module": "@jupyter-widgets/base",
            "_model_module_version": "1.2.0",
            "_model_name": "LayoutModel",
            "_view_count": null,
            "_view_module": "@jupyter-widgets/base",
            "_view_module_version": "1.2.0",
            "_view_name": "LayoutView",
            "align_content": null,
            "align_items": null,
            "align_self": null,
            "border": null,
            "bottom": null,
            "display": null,
            "flex": null,
            "flex_flow": null,
            "grid_area": null,
            "grid_auto_columns": null,
            "grid_auto_flow": null,
            "grid_auto_rows": null,
            "grid_column": null,
            "grid_gap": null,
            "grid_row": null,
            "grid_template_areas": null,
            "grid_template_columns": null,
            "grid_template_rows": null,
            "height": null,
            "justify_content": null,
            "justify_items": null,
            "left": null,
            "margin": null,
            "max_height": null,
            "max_width": null,
            "min_height": null,
            "min_width": null,
            "object_fit": null,
            "object_position": null,
            "order": null,
            "overflow": null,
            "overflow_x": null,
            "overflow_y": null,
            "padding": null,
            "right": null,
            "top": null,
            "visibility": null,
            "width": null
          }
        },
        "77728a301869404f883c7786cfd5fde1": {
          "model_module": "@jupyter-widgets/controls",
          "model_name": "DescriptionStyleModel",
          "model_module_version": "1.5.0",
          "state": {
            "_model_module": "@jupyter-widgets/controls",
            "_model_module_version": "1.5.0",
            "_model_name": "DescriptionStyleModel",
            "_view_count": null,
            "_view_module": "@jupyter-widgets/base",
            "_view_module_version": "1.2.0",
            "_view_name": "StyleView",
            "description_width": ""
          }
        },
        "f655ce8adfa4496e98a74c5c4f056741": {
          "model_module": "@jupyter-widgets/controls",
          "model_name": "HBoxModel",
          "model_module_version": "1.5.0",
          "state": {
            "_dom_classes": [],
            "_model_module": "@jupyter-widgets/controls",
            "_model_module_version": "1.5.0",
            "_model_name": "HBoxModel",
            "_view_count": null,
            "_view_module": "@jupyter-widgets/controls",
            "_view_module_version": "1.5.0",
            "_view_name": "HBoxView",
            "box_style": "",
            "children": [
              "IPY_MODEL_d9dd800891024213a5c40672dba8f575",
              "IPY_MODEL_eceec30c2bd54bd1833709319e1460d8",
              "IPY_MODEL_d1220cf6c90b429fb6ec728ad4fd1e14"
            ],
            "layout": "IPY_MODEL_21a3bc92e84d4541aa0009db39281c5f"
          }
        },
        "d9dd800891024213a5c40672dba8f575": {
          "model_module": "@jupyter-widgets/controls",
          "model_name": "HTMLModel",
          "model_module_version": "1.5.0",
          "state": {
            "_dom_classes": [],
            "_model_module": "@jupyter-widgets/controls",
            "_model_module_version": "1.5.0",
            "_model_name": "HTMLModel",
            "_view_count": null,
            "_view_module": "@jupyter-widgets/controls",
            "_view_module_version": "1.5.0",
            "_view_name": "HTMLView",
            "description": "",
            "description_tooltip": null,
            "layout": "IPY_MODEL_81b48cc3be154cea8fb0552b1f3cf50b",
            "placeholder": "​",
            "style": "IPY_MODEL_917e3ecb783043ac8b8267417e242bff",
            "value": "Dl Size...: 100%"
          }
        },
        "eceec30c2bd54bd1833709319e1460d8": {
          "model_module": "@jupyter-widgets/controls",
          "model_name": "FloatProgressModel",
          "model_module_version": "1.5.0",
          "state": {
            "_dom_classes": [],
            "_model_module": "@jupyter-widgets/controls",
            "_model_module_version": "1.5.0",
            "_model_name": "FloatProgressModel",
            "_view_count": null,
            "_view_module": "@jupyter-widgets/controls",
            "_view_module_version": "1.5.0",
            "_view_name": "ProgressView",
            "bar_style": "success",
            "description": "",
            "description_tooltip": null,
            "layout": "IPY_MODEL_db7991e854a34cd59fa5ab4444139187",
            "max": 1,
            "min": 0,
            "orientation": "horizontal",
            "style": "IPY_MODEL_06a1f5e780e544dc948f833f400fc3ba",
            "value": 1
          }
        },
        "d1220cf6c90b429fb6ec728ad4fd1e14": {
          "model_module": "@jupyter-widgets/controls",
          "model_name": "HTMLModel",
          "model_module_version": "1.5.0",
          "state": {
            "_dom_classes": [],
            "_model_module": "@jupyter-widgets/controls",
            "_model_module_version": "1.5.0",
            "_model_name": "HTMLModel",
            "_view_count": null,
            "_view_module": "@jupyter-widgets/controls",
            "_view_module_version": "1.5.0",
            "_view_name": "HTMLView",
            "description": "",
            "description_tooltip": null,
            "layout": "IPY_MODEL_b4fbf76bb4cd45d793cbc6f684a49f21",
            "placeholder": "​",
            "style": "IPY_MODEL_bcb9ee37c2dd438cb252e105e3fbe381",
            "value": " 4764/4764 [10:07&lt;00:00, 11.31 MiB/s]"
          }
        },
        "21a3bc92e84d4541aa0009db39281c5f": {
          "model_module": "@jupyter-widgets/base",
          "model_name": "LayoutModel",
          "model_module_version": "1.2.0",
          "state": {
            "_model_module": "@jupyter-widgets/base",
            "_model_module_version": "1.2.0",
            "_model_name": "LayoutModel",
            "_view_count": null,
            "_view_module": "@jupyter-widgets/base",
            "_view_module_version": "1.2.0",
            "_view_name": "LayoutView",
            "align_content": null,
            "align_items": null,
            "align_self": null,
            "border": null,
            "bottom": null,
            "display": null,
            "flex": null,
            "flex_flow": null,
            "grid_area": null,
            "grid_auto_columns": null,
            "grid_auto_flow": null,
            "grid_auto_rows": null,
            "grid_column": null,
            "grid_gap": null,
            "grid_row": null,
            "grid_template_areas": null,
            "grid_template_columns": null,
            "grid_template_rows": null,
            "height": null,
            "justify_content": null,
            "justify_items": null,
            "left": null,
            "margin": null,
            "max_height": null,
            "max_width": null,
            "min_height": null,
            "min_width": null,
            "object_fit": null,
            "object_position": null,
            "order": null,
            "overflow": null,
            "overflow_x": null,
            "overflow_y": null,
            "padding": null,
            "right": null,
            "top": null,
            "visibility": null,
            "width": null
          }
        },
        "81b48cc3be154cea8fb0552b1f3cf50b": {
          "model_module": "@jupyter-widgets/base",
          "model_name": "LayoutModel",
          "model_module_version": "1.2.0",
          "state": {
            "_model_module": "@jupyter-widgets/base",
            "_model_module_version": "1.2.0",
            "_model_name": "LayoutModel",
            "_view_count": null,
            "_view_module": "@jupyter-widgets/base",
            "_view_module_version": "1.2.0",
            "_view_name": "LayoutView",
            "align_content": null,
            "align_items": null,
            "align_self": null,
            "border": null,
            "bottom": null,
            "display": null,
            "flex": null,
            "flex_flow": null,
            "grid_area": null,
            "grid_auto_columns": null,
            "grid_auto_flow": null,
            "grid_auto_rows": null,
            "grid_column": null,
            "grid_gap": null,
            "grid_row": null,
            "grid_template_areas": null,
            "grid_template_columns": null,
            "grid_template_rows": null,
            "height": null,
            "justify_content": null,
            "justify_items": null,
            "left": null,
            "margin": null,
            "max_height": null,
            "max_width": null,
            "min_height": null,
            "min_width": null,
            "object_fit": null,
            "object_position": null,
            "order": null,
            "overflow": null,
            "overflow_x": null,
            "overflow_y": null,
            "padding": null,
            "right": null,
            "top": null,
            "visibility": null,
            "width": null
          }
        },
        "917e3ecb783043ac8b8267417e242bff": {
          "model_module": "@jupyter-widgets/controls",
          "model_name": "DescriptionStyleModel",
          "model_module_version": "1.5.0",
          "state": {
            "_model_module": "@jupyter-widgets/controls",
            "_model_module_version": "1.5.0",
            "_model_name": "DescriptionStyleModel",
            "_view_count": null,
            "_view_module": "@jupyter-widgets/base",
            "_view_module_version": "1.2.0",
            "_view_name": "StyleView",
            "description_width": ""
          }
        },
        "db7991e854a34cd59fa5ab4444139187": {
          "model_module": "@jupyter-widgets/base",
          "model_name": "LayoutModel",
          "model_module_version": "1.2.0",
          "state": {
            "_model_module": "@jupyter-widgets/base",
            "_model_module_version": "1.2.0",
            "_model_name": "LayoutModel",
            "_view_count": null,
            "_view_module": "@jupyter-widgets/base",
            "_view_module_version": "1.2.0",
            "_view_name": "LayoutView",
            "align_content": null,
            "align_items": null,
            "align_self": null,
            "border": null,
            "bottom": null,
            "display": null,
            "flex": null,
            "flex_flow": null,
            "grid_area": null,
            "grid_auto_columns": null,
            "grid_auto_flow": null,
            "grid_auto_rows": null,
            "grid_column": null,
            "grid_gap": null,
            "grid_row": null,
            "grid_template_areas": null,
            "grid_template_columns": null,
            "grid_template_rows": null,
            "height": null,
            "justify_content": null,
            "justify_items": null,
            "left": null,
            "margin": null,
            "max_height": null,
            "max_width": null,
            "min_height": null,
            "min_width": null,
            "object_fit": null,
            "object_position": null,
            "order": null,
            "overflow": null,
            "overflow_x": null,
            "overflow_y": null,
            "padding": null,
            "right": null,
            "top": null,
            "visibility": null,
            "width": "20px"
          }
        },
        "06a1f5e780e544dc948f833f400fc3ba": {
          "model_module": "@jupyter-widgets/controls",
          "model_name": "ProgressStyleModel",
          "model_module_version": "1.5.0",
          "state": {
            "_model_module": "@jupyter-widgets/controls",
            "_model_module_version": "1.5.0",
            "_model_name": "ProgressStyleModel",
            "_view_count": null,
            "_view_module": "@jupyter-widgets/base",
            "_view_module_version": "1.2.0",
            "_view_name": "StyleView",
            "bar_color": null,
            "description_width": ""
          }
        },
        "b4fbf76bb4cd45d793cbc6f684a49f21": {
          "model_module": "@jupyter-widgets/base",
          "model_name": "LayoutModel",
          "model_module_version": "1.2.0",
          "state": {
            "_model_module": "@jupyter-widgets/base",
            "_model_module_version": "1.2.0",
            "_model_name": "LayoutModel",
            "_view_count": null,
            "_view_module": "@jupyter-widgets/base",
            "_view_module_version": "1.2.0",
            "_view_name": "LayoutView",
            "align_content": null,
            "align_items": null,
            "align_self": null,
            "border": null,
            "bottom": null,
            "display": null,
            "flex": null,
            "flex_flow": null,
            "grid_area": null,
            "grid_auto_columns": null,
            "grid_auto_flow": null,
            "grid_auto_rows": null,
            "grid_column": null,
            "grid_gap": null,
            "grid_row": null,
            "grid_template_areas": null,
            "grid_template_columns": null,
            "grid_template_rows": null,
            "height": null,
            "justify_content": null,
            "justify_items": null,
            "left": null,
            "margin": null,
            "max_height": null,
            "max_width": null,
            "min_height": null,
            "min_width": null,
            "object_fit": null,
            "object_position": null,
            "order": null,
            "overflow": null,
            "overflow_x": null,
            "overflow_y": null,
            "padding": null,
            "right": null,
            "top": null,
            "visibility": null,
            "width": null
          }
        },
        "bcb9ee37c2dd438cb252e105e3fbe381": {
          "model_module": "@jupyter-widgets/controls",
          "model_name": "DescriptionStyleModel",
          "model_module_version": "1.5.0",
          "state": {
            "_model_module": "@jupyter-widgets/controls",
            "_model_module_version": "1.5.0",
            "_model_name": "DescriptionStyleModel",
            "_view_count": null,
            "_view_module": "@jupyter-widgets/base",
            "_view_module_version": "1.2.0",
            "_view_name": "StyleView",
            "description_width": ""
          }
        },
        "715ba2775d434d819b1a5245d7bb77fd": {
          "model_module": "@jupyter-widgets/controls",
          "model_name": "HBoxModel",
          "model_module_version": "1.5.0",
          "state": {
            "_dom_classes": [],
            "_model_module": "@jupyter-widgets/controls",
            "_model_module_version": "1.5.0",
            "_model_name": "HBoxModel",
            "_view_count": null,
            "_view_module": "@jupyter-widgets/controls",
            "_view_module_version": "1.5.0",
            "_view_name": "HBoxView",
            "box_style": "",
            "children": [
              "IPY_MODEL_fbcecf84d3184e82bc3258423b5af957",
              "IPY_MODEL_2df59875d68b491b9798937b88e661ec",
              "IPY_MODEL_1da812e26b9b43a69d0f0fa0ec80e670"
            ],
            "layout": "IPY_MODEL_13c1961475dd45bead8530de58f20c1d"
          }
        },
        "fbcecf84d3184e82bc3258423b5af957": {
          "model_module": "@jupyter-widgets/controls",
          "model_name": "HTMLModel",
          "model_module_version": "1.5.0",
          "state": {
            "_dom_classes": [],
            "_model_module": "@jupyter-widgets/controls",
            "_model_module_version": "1.5.0",
            "_model_name": "HTMLModel",
            "_view_count": null,
            "_view_module": "@jupyter-widgets/controls",
            "_view_module_version": "1.5.0",
            "_view_name": "HTMLView",
            "description": "",
            "description_tooltip": null,
            "layout": "IPY_MODEL_97939902d11f4cf0bd715910527a1bce",
            "placeholder": "​",
            "style": "IPY_MODEL_1837a26b73f24396a4d112b93f17662e",
            "value": "Extraction completed...: 100%"
          }
        },
        "2df59875d68b491b9798937b88e661ec": {
          "model_module": "@jupyter-widgets/controls",
          "model_name": "FloatProgressModel",
          "model_module_version": "1.5.0",
          "state": {
            "_dom_classes": [],
            "_model_module": "@jupyter-widgets/controls",
            "_model_module_version": "1.5.0",
            "_model_name": "FloatProgressModel",
            "_view_count": null,
            "_view_module": "@jupyter-widgets/controls",
            "_view_module_version": "1.5.0",
            "_view_name": "ProgressView",
            "bar_style": "success",
            "description": "",
            "description_tooltip": null,
            "layout": "IPY_MODEL_9408c8e2b932487ba1887ad17611c5d3",
            "max": 1,
            "min": 0,
            "orientation": "horizontal",
            "style": "IPY_MODEL_39847c0be8834c84aebe857ff5d7ff04",
            "value": 1
          }
        },
        "1da812e26b9b43a69d0f0fa0ec80e670": {
          "model_module": "@jupyter-widgets/controls",
          "model_name": "HTMLModel",
          "model_module_version": "1.5.0",
          "state": {
            "_dom_classes": [],
            "_model_module": "@jupyter-widgets/controls",
            "_model_module_version": "1.5.0",
            "_model_name": "HTMLModel",
            "_view_count": null,
            "_view_module": "@jupyter-widgets/controls",
            "_view_module_version": "1.5.0",
            "_view_name": "HTMLView",
            "description": "",
            "description_tooltip": null,
            "layout": "IPY_MODEL_0d4c410545204d57a70e1b93e9b8b668",
            "placeholder": "​",
            "style": "IPY_MODEL_c4613c89eb0c42948d4d51eeb4c7a867",
            "value": " 1/1 [10:07&lt;00:00, 607.07s/ file]"
          }
        },
        "13c1961475dd45bead8530de58f20c1d": {
          "model_module": "@jupyter-widgets/base",
          "model_name": "LayoutModel",
          "model_module_version": "1.2.0",
          "state": {
            "_model_module": "@jupyter-widgets/base",
            "_model_module_version": "1.2.0",
            "_model_name": "LayoutModel",
            "_view_count": null,
            "_view_module": "@jupyter-widgets/base",
            "_view_module_version": "1.2.0",
            "_view_name": "LayoutView",
            "align_content": null,
            "align_items": null,
            "align_self": null,
            "border": null,
            "bottom": null,
            "display": null,
            "flex": null,
            "flex_flow": null,
            "grid_area": null,
            "grid_auto_columns": null,
            "grid_auto_flow": null,
            "grid_auto_rows": null,
            "grid_column": null,
            "grid_gap": null,
            "grid_row": null,
            "grid_template_areas": null,
            "grid_template_columns": null,
            "grid_template_rows": null,
            "height": null,
            "justify_content": null,
            "justify_items": null,
            "left": null,
            "margin": null,
            "max_height": null,
            "max_width": null,
            "min_height": null,
            "min_width": null,
            "object_fit": null,
            "object_position": null,
            "order": null,
            "overflow": null,
            "overflow_x": null,
            "overflow_y": null,
            "padding": null,
            "right": null,
            "top": null,
            "visibility": null,
            "width": null
          }
        },
        "97939902d11f4cf0bd715910527a1bce": {
          "model_module": "@jupyter-widgets/base",
          "model_name": "LayoutModel",
          "model_module_version": "1.2.0",
          "state": {
            "_model_module": "@jupyter-widgets/base",
            "_model_module_version": "1.2.0",
            "_model_name": "LayoutModel",
            "_view_count": null,
            "_view_module": "@jupyter-widgets/base",
            "_view_module_version": "1.2.0",
            "_view_name": "LayoutView",
            "align_content": null,
            "align_items": null,
            "align_self": null,
            "border": null,
            "bottom": null,
            "display": null,
            "flex": null,
            "flex_flow": null,
            "grid_area": null,
            "grid_auto_columns": null,
            "grid_auto_flow": null,
            "grid_auto_rows": null,
            "grid_column": null,
            "grid_gap": null,
            "grid_row": null,
            "grid_template_areas": null,
            "grid_template_columns": null,
            "grid_template_rows": null,
            "height": null,
            "justify_content": null,
            "justify_items": null,
            "left": null,
            "margin": null,
            "max_height": null,
            "max_width": null,
            "min_height": null,
            "min_width": null,
            "object_fit": null,
            "object_position": null,
            "order": null,
            "overflow": null,
            "overflow_x": null,
            "overflow_y": null,
            "padding": null,
            "right": null,
            "top": null,
            "visibility": null,
            "width": null
          }
        },
        "1837a26b73f24396a4d112b93f17662e": {
          "model_module": "@jupyter-widgets/controls",
          "model_name": "DescriptionStyleModel",
          "model_module_version": "1.5.0",
          "state": {
            "_model_module": "@jupyter-widgets/controls",
            "_model_module_version": "1.5.0",
            "_model_name": "DescriptionStyleModel",
            "_view_count": null,
            "_view_module": "@jupyter-widgets/base",
            "_view_module_version": "1.2.0",
            "_view_name": "StyleView",
            "description_width": ""
          }
        },
        "9408c8e2b932487ba1887ad17611c5d3": {
          "model_module": "@jupyter-widgets/base",
          "model_name": "LayoutModel",
          "model_module_version": "1.2.0",
          "state": {
            "_model_module": "@jupyter-widgets/base",
            "_model_module_version": "1.2.0",
            "_model_name": "LayoutModel",
            "_view_count": null,
            "_view_module": "@jupyter-widgets/base",
            "_view_module_version": "1.2.0",
            "_view_name": "LayoutView",
            "align_content": null,
            "align_items": null,
            "align_self": null,
            "border": null,
            "bottom": null,
            "display": null,
            "flex": null,
            "flex_flow": null,
            "grid_area": null,
            "grid_auto_columns": null,
            "grid_auto_flow": null,
            "grid_auto_rows": null,
            "grid_column": null,
            "grid_gap": null,
            "grid_row": null,
            "grid_template_areas": null,
            "grid_template_columns": null,
            "grid_template_rows": null,
            "height": null,
            "justify_content": null,
            "justify_items": null,
            "left": null,
            "margin": null,
            "max_height": null,
            "max_width": null,
            "min_height": null,
            "min_width": null,
            "object_fit": null,
            "object_position": null,
            "order": null,
            "overflow": null,
            "overflow_x": null,
            "overflow_y": null,
            "padding": null,
            "right": null,
            "top": null,
            "visibility": null,
            "width": "20px"
          }
        },
        "39847c0be8834c84aebe857ff5d7ff04": {
          "model_module": "@jupyter-widgets/controls",
          "model_name": "ProgressStyleModel",
          "model_module_version": "1.5.0",
          "state": {
            "_model_module": "@jupyter-widgets/controls",
            "_model_module_version": "1.5.0",
            "_model_name": "ProgressStyleModel",
            "_view_count": null,
            "_view_module": "@jupyter-widgets/base",
            "_view_module_version": "1.2.0",
            "_view_name": "StyleView",
            "bar_color": null,
            "description_width": ""
          }
        },
        "0d4c410545204d57a70e1b93e9b8b668": {
          "model_module": "@jupyter-widgets/base",
          "model_name": "LayoutModel",
          "model_module_version": "1.2.0",
          "state": {
            "_model_module": "@jupyter-widgets/base",
            "_model_module_version": "1.2.0",
            "_model_name": "LayoutModel",
            "_view_count": null,
            "_view_module": "@jupyter-widgets/base",
            "_view_module_version": "1.2.0",
            "_view_name": "LayoutView",
            "align_content": null,
            "align_items": null,
            "align_self": null,
            "border": null,
            "bottom": null,
            "display": null,
            "flex": null,
            "flex_flow": null,
            "grid_area": null,
            "grid_auto_columns": null,
            "grid_auto_flow": null,
            "grid_auto_rows": null,
            "grid_column": null,
            "grid_gap": null,
            "grid_row": null,
            "grid_template_areas": null,
            "grid_template_columns": null,
            "grid_template_rows": null,
            "height": null,
            "justify_content": null,
            "justify_items": null,
            "left": null,
            "margin": null,
            "max_height": null,
            "max_width": null,
            "min_height": null,
            "min_width": null,
            "object_fit": null,
            "object_position": null,
            "order": null,
            "overflow": null,
            "overflow_x": null,
            "overflow_y": null,
            "padding": null,
            "right": null,
            "top": null,
            "visibility": null,
            "width": null
          }
        },
        "c4613c89eb0c42948d4d51eeb4c7a867": {
          "model_module": "@jupyter-widgets/controls",
          "model_name": "DescriptionStyleModel",
          "model_module_version": "1.5.0",
          "state": {
            "_model_module": "@jupyter-widgets/controls",
            "_model_module_version": "1.5.0",
            "_model_name": "DescriptionStyleModel",
            "_view_count": null,
            "_view_module": "@jupyter-widgets/base",
            "_view_module_version": "1.2.0",
            "_view_name": "StyleView",
            "description_width": ""
          }
        },
        "65841a630f2940179d7fe5d7d919cc43": {
          "model_module": "@jupyter-widgets/controls",
          "model_name": "HBoxModel",
          "model_module_version": "1.5.0",
          "state": {
            "_dom_classes": [],
            "_model_module": "@jupyter-widgets/controls",
            "_model_module_version": "1.5.0",
            "_model_name": "HBoxModel",
            "_view_count": null,
            "_view_module": "@jupyter-widgets/controls",
            "_view_module_version": "1.5.0",
            "_view_name": "HBoxView",
            "box_style": "",
            "children": [
              "IPY_MODEL_684c587eba3846f482863c68654f0c6c",
              "IPY_MODEL_010deb75a3384a9b82aa74ace7a69cdf",
              "IPY_MODEL_aeb23263c92345a0a4a3c9fdcc6fd94d"
            ],
            "layout": "IPY_MODEL_087761e204a54f8db642c8a629fee29a"
          }
        },
        "684c587eba3846f482863c68654f0c6c": {
          "model_module": "@jupyter-widgets/controls",
          "model_name": "HTMLModel",
          "model_module_version": "1.5.0",
          "state": {
            "_dom_classes": [],
            "_model_module": "@jupyter-widgets/controls",
            "_model_module_version": "1.5.0",
            "_model_name": "HTMLModel",
            "_view_count": null,
            "_view_module": "@jupyter-widgets/controls",
            "_view_module_version": "1.5.0",
            "_view_name": "HTMLView",
            "description": "",
            "description_tooltip": null,
            "layout": "IPY_MODEL_10b3d9d68483446cba4c357749f7d995",
            "placeholder": "​",
            "style": "IPY_MODEL_d15cbbe42abb445a859270e06547ba97",
            "value": ""
          }
        },
        "010deb75a3384a9b82aa74ace7a69cdf": {
          "model_module": "@jupyter-widgets/controls",
          "model_name": "FloatProgressModel",
          "model_module_version": "1.5.0",
          "state": {
            "_dom_classes": [],
            "_model_module": "@jupyter-widgets/controls",
            "_model_module_version": "1.5.0",
            "_model_name": "FloatProgressModel",
            "_view_count": null,
            "_view_module": "@jupyter-widgets/controls",
            "_view_module_version": "1.5.0",
            "_view_name": "ProgressView",
            "bar_style": "info",
            "description": "",
            "description_tooltip": null,
            "layout": "IPY_MODEL_c5ff3fbf86af49df8397d05d7af09456",
            "max": 1,
            "min": 0,
            "orientation": "horizontal",
            "style": "IPY_MODEL_695cc0ccbe2e43b1aac935450a44e390",
            "value": 1
          }
        },
        "aeb23263c92345a0a4a3c9fdcc6fd94d": {
          "model_module": "@jupyter-widgets/controls",
          "model_name": "HTMLModel",
          "model_module_version": "1.5.0",
          "state": {
            "_dom_classes": [],
            "_model_module": "@jupyter-widgets/controls",
            "_model_module_version": "1.5.0",
            "_model_name": "HTMLModel",
            "_view_count": null,
            "_view_module": "@jupyter-widgets/controls",
            "_view_module_version": "1.5.0",
            "_view_name": "HTMLView",
            "description": "",
            "description_tooltip": null,
            "layout": "IPY_MODEL_97291346cead4443a54e6c243ab2d986",
            "placeholder": "​",
            "style": "IPY_MODEL_33dab732697846829206a8ad157bd62c",
            "value": " 75678/0 [02:13&lt;00:00, 630.14 examples/s]"
          }
        },
        "087761e204a54f8db642c8a629fee29a": {
          "model_module": "@jupyter-widgets/base",
          "model_name": "LayoutModel",
          "model_module_version": "1.2.0",
          "state": {
            "_model_module": "@jupyter-widgets/base",
            "_model_module_version": "1.2.0",
            "_model_name": "LayoutModel",
            "_view_count": null,
            "_view_module": "@jupyter-widgets/base",
            "_view_module_version": "1.2.0",
            "_view_name": "LayoutView",
            "align_content": null,
            "align_items": null,
            "align_self": null,
            "border": null,
            "bottom": null,
            "display": null,
            "flex": null,
            "flex_flow": null,
            "grid_area": null,
            "grid_auto_columns": null,
            "grid_auto_flow": null,
            "grid_auto_rows": null,
            "grid_column": null,
            "grid_gap": null,
            "grid_row": null,
            "grid_template_areas": null,
            "grid_template_columns": null,
            "grid_template_rows": null,
            "height": null,
            "justify_content": null,
            "justify_items": null,
            "left": null,
            "margin": null,
            "max_height": null,
            "max_width": null,
            "min_height": null,
            "min_width": null,
            "object_fit": null,
            "object_position": null,
            "order": null,
            "overflow": null,
            "overflow_x": null,
            "overflow_y": null,
            "padding": null,
            "right": null,
            "top": null,
            "visibility": null,
            "width": null
          }
        },
        "10b3d9d68483446cba4c357749f7d995": {
          "model_module": "@jupyter-widgets/base",
          "model_name": "LayoutModel",
          "model_module_version": "1.2.0",
          "state": {
            "_model_module": "@jupyter-widgets/base",
            "_model_module_version": "1.2.0",
            "_model_name": "LayoutModel",
            "_view_count": null,
            "_view_module": "@jupyter-widgets/base",
            "_view_module_version": "1.2.0",
            "_view_name": "LayoutView",
            "align_content": null,
            "align_items": null,
            "align_self": null,
            "border": null,
            "bottom": null,
            "display": null,
            "flex": null,
            "flex_flow": null,
            "grid_area": null,
            "grid_auto_columns": null,
            "grid_auto_flow": null,
            "grid_auto_rows": null,
            "grid_column": null,
            "grid_gap": null,
            "grid_row": null,
            "grid_template_areas": null,
            "grid_template_columns": null,
            "grid_template_rows": null,
            "height": null,
            "justify_content": null,
            "justify_items": null,
            "left": null,
            "margin": null,
            "max_height": null,
            "max_width": null,
            "min_height": null,
            "min_width": null,
            "object_fit": null,
            "object_position": null,
            "order": null,
            "overflow": null,
            "overflow_x": null,
            "overflow_y": null,
            "padding": null,
            "right": null,
            "top": null,
            "visibility": null,
            "width": null
          }
        },
        "d15cbbe42abb445a859270e06547ba97": {
          "model_module": "@jupyter-widgets/controls",
          "model_name": "DescriptionStyleModel",
          "model_module_version": "1.5.0",
          "state": {
            "_model_module": "@jupyter-widgets/controls",
            "_model_module_version": "1.5.0",
            "_model_name": "DescriptionStyleModel",
            "_view_count": null,
            "_view_module": "@jupyter-widgets/base",
            "_view_module_version": "1.2.0",
            "_view_name": "StyleView",
            "description_width": ""
          }
        },
        "c5ff3fbf86af49df8397d05d7af09456": {
          "model_module": "@jupyter-widgets/base",
          "model_name": "LayoutModel",
          "model_module_version": "1.2.0",
          "state": {
            "_model_module": "@jupyter-widgets/base",
            "_model_module_version": "1.2.0",
            "_model_name": "LayoutModel",
            "_view_count": null,
            "_view_module": "@jupyter-widgets/base",
            "_view_module_version": "1.2.0",
            "_view_name": "LayoutView",
            "align_content": null,
            "align_items": null,
            "align_self": null,
            "border": null,
            "bottom": null,
            "display": null,
            "flex": null,
            "flex_flow": null,
            "grid_area": null,
            "grid_auto_columns": null,
            "grid_auto_flow": null,
            "grid_auto_rows": null,
            "grid_column": null,
            "grid_gap": null,
            "grid_row": null,
            "grid_template_areas": null,
            "grid_template_columns": null,
            "grid_template_rows": null,
            "height": null,
            "justify_content": null,
            "justify_items": null,
            "left": null,
            "margin": null,
            "max_height": null,
            "max_width": null,
            "min_height": null,
            "min_width": null,
            "object_fit": null,
            "object_position": null,
            "order": null,
            "overflow": null,
            "overflow_x": null,
            "overflow_y": null,
            "padding": null,
            "right": null,
            "top": null,
            "visibility": null,
            "width": "20px"
          }
        },
        "695cc0ccbe2e43b1aac935450a44e390": {
          "model_module": "@jupyter-widgets/controls",
          "model_name": "ProgressStyleModel",
          "model_module_version": "1.5.0",
          "state": {
            "_model_module": "@jupyter-widgets/controls",
            "_model_module_version": "1.5.0",
            "_model_name": "ProgressStyleModel",
            "_view_count": null,
            "_view_module": "@jupyter-widgets/base",
            "_view_module_version": "1.2.0",
            "_view_name": "StyleView",
            "bar_color": null,
            "description_width": ""
          }
        },
        "97291346cead4443a54e6c243ab2d986": {
          "model_module": "@jupyter-widgets/base",
          "model_name": "LayoutModel",
          "model_module_version": "1.2.0",
          "state": {
            "_model_module": "@jupyter-widgets/base",
            "_model_module_version": "1.2.0",
            "_model_name": "LayoutModel",
            "_view_count": null,
            "_view_module": "@jupyter-widgets/base",
            "_view_module_version": "1.2.0",
            "_view_name": "LayoutView",
            "align_content": null,
            "align_items": null,
            "align_self": null,
            "border": null,
            "bottom": null,
            "display": null,
            "flex": null,
            "flex_flow": null,
            "grid_area": null,
            "grid_auto_columns": null,
            "grid_auto_flow": null,
            "grid_auto_rows": null,
            "grid_column": null,
            "grid_gap": null,
            "grid_row": null,
            "grid_template_areas": null,
            "grid_template_columns": null,
            "grid_template_rows": null,
            "height": null,
            "justify_content": null,
            "justify_items": null,
            "left": null,
            "margin": null,
            "max_height": null,
            "max_width": null,
            "min_height": null,
            "min_width": null,
            "object_fit": null,
            "object_position": null,
            "order": null,
            "overflow": null,
            "overflow_x": null,
            "overflow_y": null,
            "padding": null,
            "right": null,
            "top": null,
            "visibility": null,
            "width": null
          }
        },
        "33dab732697846829206a8ad157bd62c": {
          "model_module": "@jupyter-widgets/controls",
          "model_name": "DescriptionStyleModel",
          "model_module_version": "1.5.0",
          "state": {
            "_model_module": "@jupyter-widgets/controls",
            "_model_module_version": "1.5.0",
            "_model_name": "DescriptionStyleModel",
            "_view_count": null,
            "_view_module": "@jupyter-widgets/base",
            "_view_module_version": "1.2.0",
            "_view_name": "StyleView",
            "description_width": ""
          }
        },
        "dceec751ad0d4a20a4fdba097e30eda9": {
          "model_module": "@jupyter-widgets/controls",
          "model_name": "HBoxModel",
          "model_module_version": "1.5.0",
          "state": {
            "_dom_classes": [],
            "_model_module": "@jupyter-widgets/controls",
            "_model_module_version": "1.5.0",
            "_model_name": "HBoxModel",
            "_view_count": null,
            "_view_module": "@jupyter-widgets/controls",
            "_view_module_version": "1.5.0",
            "_view_name": "HBoxView",
            "box_style": "",
            "children": [
              "IPY_MODEL_a24a9f308df747d0a1cd0b5424f2d1b6",
              "IPY_MODEL_6dbd6b8216fb4b95b33b5533f207880d",
              "IPY_MODEL_ee3e4527c84c4f0da219cd09ce21430c"
            ],
            "layout": "IPY_MODEL_a282e2411dc54cb88e4f2fead2b2e462"
          }
        },
        "a24a9f308df747d0a1cd0b5424f2d1b6": {
          "model_module": "@jupyter-widgets/controls",
          "model_name": "HTMLModel",
          "model_module_version": "1.5.0",
          "state": {
            "_dom_classes": [],
            "_model_module": "@jupyter-widgets/controls",
            "_model_module_version": "1.5.0",
            "_model_name": "HTMLModel",
            "_view_count": null,
            "_view_module": "@jupyter-widgets/controls",
            "_view_module_version": "1.5.0",
            "_view_name": "HTMLView",
            "description": "",
            "description_tooltip": null,
            "layout": "IPY_MODEL_3db7e789e9ef4ee9badbff524e03647b",
            "placeholder": "​",
            "style": "IPY_MODEL_98d5f3032f9f4fe1b2826507699b6270",
            "value": "100%"
          }
        },
        "6dbd6b8216fb4b95b33b5533f207880d": {
          "model_module": "@jupyter-widgets/controls",
          "model_name": "FloatProgressModel",
          "model_module_version": "1.5.0",
          "state": {
            "_dom_classes": [],
            "_model_module": "@jupyter-widgets/controls",
            "_model_module_version": "1.5.0",
            "_model_name": "FloatProgressModel",
            "_view_count": null,
            "_view_module": "@jupyter-widgets/controls",
            "_view_module_version": "1.5.0",
            "_view_name": "ProgressView",
            "bar_style": "danger",
            "description": "",
            "description_tooltip": null,
            "layout": "IPY_MODEL_716a846128ea4a468095c40702f37e3b",
            "max": 75750,
            "min": 0,
            "orientation": "horizontal",
            "style": "IPY_MODEL_aa49309b684a41158ddd1d865dfee949",
            "value": 75749
          }
        },
        "ee3e4527c84c4f0da219cd09ce21430c": {
          "model_module": "@jupyter-widgets/controls",
          "model_name": "HTMLModel",
          "model_module_version": "1.5.0",
          "state": {
            "_dom_classes": [],
            "_model_module": "@jupyter-widgets/controls",
            "_model_module_version": "1.5.0",
            "_model_name": "HTMLModel",
            "_view_count": null,
            "_view_module": "@jupyter-widgets/controls",
            "_view_module_version": "1.5.0",
            "_view_name": "HTMLView",
            "description": "",
            "description_tooltip": null,
            "layout": "IPY_MODEL_fd6ee4a3ddfb4467b04431d0c2956cab",
            "placeholder": "​",
            "style": "IPY_MODEL_d620681546ad496caec327baa05ccb74",
            "value": " 75749/75750 [01:07&lt;00:00, 811.60 examples/s]"
          }
        },
        "a282e2411dc54cb88e4f2fead2b2e462": {
          "model_module": "@jupyter-widgets/base",
          "model_name": "LayoutModel",
          "model_module_version": "1.2.0",
          "state": {
            "_model_module": "@jupyter-widgets/base",
            "_model_module_version": "1.2.0",
            "_model_name": "LayoutModel",
            "_view_count": null,
            "_view_module": "@jupyter-widgets/base",
            "_view_module_version": "1.2.0",
            "_view_name": "LayoutView",
            "align_content": null,
            "align_items": null,
            "align_self": null,
            "border": null,
            "bottom": null,
            "display": null,
            "flex": null,
            "flex_flow": null,
            "grid_area": null,
            "grid_auto_columns": null,
            "grid_auto_flow": null,
            "grid_auto_rows": null,
            "grid_column": null,
            "grid_gap": null,
            "grid_row": null,
            "grid_template_areas": null,
            "grid_template_columns": null,
            "grid_template_rows": null,
            "height": null,
            "justify_content": null,
            "justify_items": null,
            "left": null,
            "margin": null,
            "max_height": null,
            "max_width": null,
            "min_height": null,
            "min_width": null,
            "object_fit": null,
            "object_position": null,
            "order": null,
            "overflow": null,
            "overflow_x": null,
            "overflow_y": null,
            "padding": null,
            "right": null,
            "top": null,
            "visibility": null,
            "width": null
          }
        },
        "3db7e789e9ef4ee9badbff524e03647b": {
          "model_module": "@jupyter-widgets/base",
          "model_name": "LayoutModel",
          "model_module_version": "1.2.0",
          "state": {
            "_model_module": "@jupyter-widgets/base",
            "_model_module_version": "1.2.0",
            "_model_name": "LayoutModel",
            "_view_count": null,
            "_view_module": "@jupyter-widgets/base",
            "_view_module_version": "1.2.0",
            "_view_name": "LayoutView",
            "align_content": null,
            "align_items": null,
            "align_self": null,
            "border": null,
            "bottom": null,
            "display": null,
            "flex": null,
            "flex_flow": null,
            "grid_area": null,
            "grid_auto_columns": null,
            "grid_auto_flow": null,
            "grid_auto_rows": null,
            "grid_column": null,
            "grid_gap": null,
            "grid_row": null,
            "grid_template_areas": null,
            "grid_template_columns": null,
            "grid_template_rows": null,
            "height": null,
            "justify_content": null,
            "justify_items": null,
            "left": null,
            "margin": null,
            "max_height": null,
            "max_width": null,
            "min_height": null,
            "min_width": null,
            "object_fit": null,
            "object_position": null,
            "order": null,
            "overflow": null,
            "overflow_x": null,
            "overflow_y": null,
            "padding": null,
            "right": null,
            "top": null,
            "visibility": null,
            "width": null
          }
        },
        "98d5f3032f9f4fe1b2826507699b6270": {
          "model_module": "@jupyter-widgets/controls",
          "model_name": "DescriptionStyleModel",
          "model_module_version": "1.5.0",
          "state": {
            "_model_module": "@jupyter-widgets/controls",
            "_model_module_version": "1.5.0",
            "_model_name": "DescriptionStyleModel",
            "_view_count": null,
            "_view_module": "@jupyter-widgets/base",
            "_view_module_version": "1.2.0",
            "_view_name": "StyleView",
            "description_width": ""
          }
        },
        "716a846128ea4a468095c40702f37e3b": {
          "model_module": "@jupyter-widgets/base",
          "model_name": "LayoutModel",
          "model_module_version": "1.2.0",
          "state": {
            "_model_module": "@jupyter-widgets/base",
            "_model_module_version": "1.2.0",
            "_model_name": "LayoutModel",
            "_view_count": null,
            "_view_module": "@jupyter-widgets/base",
            "_view_module_version": "1.2.0",
            "_view_name": "LayoutView",
            "align_content": null,
            "align_items": null,
            "align_self": null,
            "border": null,
            "bottom": null,
            "display": null,
            "flex": null,
            "flex_flow": null,
            "grid_area": null,
            "grid_auto_columns": null,
            "grid_auto_flow": null,
            "grid_auto_rows": null,
            "grid_column": null,
            "grid_gap": null,
            "grid_row": null,
            "grid_template_areas": null,
            "grid_template_columns": null,
            "grid_template_rows": null,
            "height": null,
            "justify_content": null,
            "justify_items": null,
            "left": null,
            "margin": null,
            "max_height": null,
            "max_width": null,
            "min_height": null,
            "min_width": null,
            "object_fit": null,
            "object_position": null,
            "order": null,
            "overflow": null,
            "overflow_x": null,
            "overflow_y": null,
            "padding": null,
            "right": null,
            "top": null,
            "visibility": null,
            "width": null
          }
        },
        "aa49309b684a41158ddd1d865dfee949": {
          "model_module": "@jupyter-widgets/controls",
          "model_name": "ProgressStyleModel",
          "model_module_version": "1.5.0",
          "state": {
            "_model_module": "@jupyter-widgets/controls",
            "_model_module_version": "1.5.0",
            "_model_name": "ProgressStyleModel",
            "_view_count": null,
            "_view_module": "@jupyter-widgets/base",
            "_view_module_version": "1.2.0",
            "_view_name": "StyleView",
            "bar_color": null,
            "description_width": ""
          }
        },
        "fd6ee4a3ddfb4467b04431d0c2956cab": {
          "model_module": "@jupyter-widgets/base",
          "model_name": "LayoutModel",
          "model_module_version": "1.2.0",
          "state": {
            "_model_module": "@jupyter-widgets/base",
            "_model_module_version": "1.2.0",
            "_model_name": "LayoutModel",
            "_view_count": null,
            "_view_module": "@jupyter-widgets/base",
            "_view_module_version": "1.2.0",
            "_view_name": "LayoutView",
            "align_content": null,
            "align_items": null,
            "align_self": null,
            "border": null,
            "bottom": null,
            "display": null,
            "flex": null,
            "flex_flow": null,
            "grid_area": null,
            "grid_auto_columns": null,
            "grid_auto_flow": null,
            "grid_auto_rows": null,
            "grid_column": null,
            "grid_gap": null,
            "grid_row": null,
            "grid_template_areas": null,
            "grid_template_columns": null,
            "grid_template_rows": null,
            "height": null,
            "justify_content": null,
            "justify_items": null,
            "left": null,
            "margin": null,
            "max_height": null,
            "max_width": null,
            "min_height": null,
            "min_width": null,
            "object_fit": null,
            "object_position": null,
            "order": null,
            "overflow": null,
            "overflow_x": null,
            "overflow_y": null,
            "padding": null,
            "right": null,
            "top": null,
            "visibility": null,
            "width": null
          }
        },
        "d620681546ad496caec327baa05ccb74": {
          "model_module": "@jupyter-widgets/controls",
          "model_name": "DescriptionStyleModel",
          "model_module_version": "1.5.0",
          "state": {
            "_model_module": "@jupyter-widgets/controls",
            "_model_module_version": "1.5.0",
            "_model_name": "DescriptionStyleModel",
            "_view_count": null,
            "_view_module": "@jupyter-widgets/base",
            "_view_module_version": "1.2.0",
            "_view_name": "StyleView",
            "description_width": ""
          }
        },
        "9e452b452ee9459793e39108f76ba5a4": {
          "model_module": "@jupyter-widgets/controls",
          "model_name": "HBoxModel",
          "model_module_version": "1.5.0",
          "state": {
            "_dom_classes": [],
            "_model_module": "@jupyter-widgets/controls",
            "_model_module_version": "1.5.0",
            "_model_name": "HBoxModel",
            "_view_count": null,
            "_view_module": "@jupyter-widgets/controls",
            "_view_module_version": "1.5.0",
            "_view_name": "HBoxView",
            "box_style": "",
            "children": [
              "IPY_MODEL_9bceb5f87d3041a0b3560da2a13b3c4b",
              "IPY_MODEL_9b71c479849643a099fed9866b8bee81",
              "IPY_MODEL_66c8c952ce3449099f7d5f3632781613"
            ],
            "layout": "IPY_MODEL_321de23561df4098a27e1312f38ba75c"
          }
        },
        "9bceb5f87d3041a0b3560da2a13b3c4b": {
          "model_module": "@jupyter-widgets/controls",
          "model_name": "HTMLModel",
          "model_module_version": "1.5.0",
          "state": {
            "_dom_classes": [],
            "_model_module": "@jupyter-widgets/controls",
            "_model_module_version": "1.5.0",
            "_model_name": "HTMLModel",
            "_view_count": null,
            "_view_module": "@jupyter-widgets/controls",
            "_view_module_version": "1.5.0",
            "_view_name": "HTMLView",
            "description": "",
            "description_tooltip": null,
            "layout": "IPY_MODEL_742d4b43c9874ca1b8f3ee3319f11658",
            "placeholder": "​",
            "style": "IPY_MODEL_5ccd2c5679364546be773434fc8d472c",
            "value": ""
          }
        },
        "9b71c479849643a099fed9866b8bee81": {
          "model_module": "@jupyter-widgets/controls",
          "model_name": "FloatProgressModel",
          "model_module_version": "1.5.0",
          "state": {
            "_dom_classes": [],
            "_model_module": "@jupyter-widgets/controls",
            "_model_module_version": "1.5.0",
            "_model_name": "FloatProgressModel",
            "_view_count": null,
            "_view_module": "@jupyter-widgets/controls",
            "_view_module_version": "1.5.0",
            "_view_name": "ProgressView",
            "bar_style": "info",
            "description": "",
            "description_tooltip": null,
            "layout": "IPY_MODEL_15ec52c32f1b4500becd6846154267bf",
            "max": 1,
            "min": 0,
            "orientation": "horizontal",
            "style": "IPY_MODEL_4ba81cf3d380462ab8d71b4ee26d0cb6",
            "value": 1
          }
        },
        "66c8c952ce3449099f7d5f3632781613": {
          "model_module": "@jupyter-widgets/controls",
          "model_name": "HTMLModel",
          "model_module_version": "1.5.0",
          "state": {
            "_dom_classes": [],
            "_model_module": "@jupyter-widgets/controls",
            "_model_module_version": "1.5.0",
            "_model_name": "HTMLModel",
            "_view_count": null,
            "_view_module": "@jupyter-widgets/controls",
            "_view_module_version": "1.5.0",
            "_view_name": "HTMLView",
            "description": "",
            "description_tooltip": null,
            "layout": "IPY_MODEL_4e1cde2612274c868881ecc01c65ca2f",
            "placeholder": "​",
            "style": "IPY_MODEL_567ca1e6a11642e79d8036bb29cc2749",
            "value": " 25232/0 [01:03&lt;00:00, 433.54 examples/s]"
          }
        },
        "321de23561df4098a27e1312f38ba75c": {
          "model_module": "@jupyter-widgets/base",
          "model_name": "LayoutModel",
          "model_module_version": "1.2.0",
          "state": {
            "_model_module": "@jupyter-widgets/base",
            "_model_module_version": "1.2.0",
            "_model_name": "LayoutModel",
            "_view_count": null,
            "_view_module": "@jupyter-widgets/base",
            "_view_module_version": "1.2.0",
            "_view_name": "LayoutView",
            "align_content": null,
            "align_items": null,
            "align_self": null,
            "border": null,
            "bottom": null,
            "display": null,
            "flex": null,
            "flex_flow": null,
            "grid_area": null,
            "grid_auto_columns": null,
            "grid_auto_flow": null,
            "grid_auto_rows": null,
            "grid_column": null,
            "grid_gap": null,
            "grid_row": null,
            "grid_template_areas": null,
            "grid_template_columns": null,
            "grid_template_rows": null,
            "height": null,
            "justify_content": null,
            "justify_items": null,
            "left": null,
            "margin": null,
            "max_height": null,
            "max_width": null,
            "min_height": null,
            "min_width": null,
            "object_fit": null,
            "object_position": null,
            "order": null,
            "overflow": null,
            "overflow_x": null,
            "overflow_y": null,
            "padding": null,
            "right": null,
            "top": null,
            "visibility": null,
            "width": null
          }
        },
        "742d4b43c9874ca1b8f3ee3319f11658": {
          "model_module": "@jupyter-widgets/base",
          "model_name": "LayoutModel",
          "model_module_version": "1.2.0",
          "state": {
            "_model_module": "@jupyter-widgets/base",
            "_model_module_version": "1.2.0",
            "_model_name": "LayoutModel",
            "_view_count": null,
            "_view_module": "@jupyter-widgets/base",
            "_view_module_version": "1.2.0",
            "_view_name": "LayoutView",
            "align_content": null,
            "align_items": null,
            "align_self": null,
            "border": null,
            "bottom": null,
            "display": null,
            "flex": null,
            "flex_flow": null,
            "grid_area": null,
            "grid_auto_columns": null,
            "grid_auto_flow": null,
            "grid_auto_rows": null,
            "grid_column": null,
            "grid_gap": null,
            "grid_row": null,
            "grid_template_areas": null,
            "grid_template_columns": null,
            "grid_template_rows": null,
            "height": null,
            "justify_content": null,
            "justify_items": null,
            "left": null,
            "margin": null,
            "max_height": null,
            "max_width": null,
            "min_height": null,
            "min_width": null,
            "object_fit": null,
            "object_position": null,
            "order": null,
            "overflow": null,
            "overflow_x": null,
            "overflow_y": null,
            "padding": null,
            "right": null,
            "top": null,
            "visibility": null,
            "width": null
          }
        },
        "5ccd2c5679364546be773434fc8d472c": {
          "model_module": "@jupyter-widgets/controls",
          "model_name": "DescriptionStyleModel",
          "model_module_version": "1.5.0",
          "state": {
            "_model_module": "@jupyter-widgets/controls",
            "_model_module_version": "1.5.0",
            "_model_name": "DescriptionStyleModel",
            "_view_count": null,
            "_view_module": "@jupyter-widgets/base",
            "_view_module_version": "1.2.0",
            "_view_name": "StyleView",
            "description_width": ""
          }
        },
        "15ec52c32f1b4500becd6846154267bf": {
          "model_module": "@jupyter-widgets/base",
          "model_name": "LayoutModel",
          "model_module_version": "1.2.0",
          "state": {
            "_model_module": "@jupyter-widgets/base",
            "_model_module_version": "1.2.0",
            "_model_name": "LayoutModel",
            "_view_count": null,
            "_view_module": "@jupyter-widgets/base",
            "_view_module_version": "1.2.0",
            "_view_name": "LayoutView",
            "align_content": null,
            "align_items": null,
            "align_self": null,
            "border": null,
            "bottom": null,
            "display": null,
            "flex": null,
            "flex_flow": null,
            "grid_area": null,
            "grid_auto_columns": null,
            "grid_auto_flow": null,
            "grid_auto_rows": null,
            "grid_column": null,
            "grid_gap": null,
            "grid_row": null,
            "grid_template_areas": null,
            "grid_template_columns": null,
            "grid_template_rows": null,
            "height": null,
            "justify_content": null,
            "justify_items": null,
            "left": null,
            "margin": null,
            "max_height": null,
            "max_width": null,
            "min_height": null,
            "min_width": null,
            "object_fit": null,
            "object_position": null,
            "order": null,
            "overflow": null,
            "overflow_x": null,
            "overflow_y": null,
            "padding": null,
            "right": null,
            "top": null,
            "visibility": null,
            "width": "20px"
          }
        },
        "4ba81cf3d380462ab8d71b4ee26d0cb6": {
          "model_module": "@jupyter-widgets/controls",
          "model_name": "ProgressStyleModel",
          "model_module_version": "1.5.0",
          "state": {
            "_model_module": "@jupyter-widgets/controls",
            "_model_module_version": "1.5.0",
            "_model_name": "ProgressStyleModel",
            "_view_count": null,
            "_view_module": "@jupyter-widgets/base",
            "_view_module_version": "1.2.0",
            "_view_name": "StyleView",
            "bar_color": null,
            "description_width": ""
          }
        },
        "4e1cde2612274c868881ecc01c65ca2f": {
          "model_module": "@jupyter-widgets/base",
          "model_name": "LayoutModel",
          "model_module_version": "1.2.0",
          "state": {
            "_model_module": "@jupyter-widgets/base",
            "_model_module_version": "1.2.0",
            "_model_name": "LayoutModel",
            "_view_count": null,
            "_view_module": "@jupyter-widgets/base",
            "_view_module_version": "1.2.0",
            "_view_name": "LayoutView",
            "align_content": null,
            "align_items": null,
            "align_self": null,
            "border": null,
            "bottom": null,
            "display": null,
            "flex": null,
            "flex_flow": null,
            "grid_area": null,
            "grid_auto_columns": null,
            "grid_auto_flow": null,
            "grid_auto_rows": null,
            "grid_column": null,
            "grid_gap": null,
            "grid_row": null,
            "grid_template_areas": null,
            "grid_template_columns": null,
            "grid_template_rows": null,
            "height": null,
            "justify_content": null,
            "justify_items": null,
            "left": null,
            "margin": null,
            "max_height": null,
            "max_width": null,
            "min_height": null,
            "min_width": null,
            "object_fit": null,
            "object_position": null,
            "order": null,
            "overflow": null,
            "overflow_x": null,
            "overflow_y": null,
            "padding": null,
            "right": null,
            "top": null,
            "visibility": null,
            "width": null
          }
        },
        "567ca1e6a11642e79d8036bb29cc2749": {
          "model_module": "@jupyter-widgets/controls",
          "model_name": "DescriptionStyleModel",
          "model_module_version": "1.5.0",
          "state": {
            "_model_module": "@jupyter-widgets/controls",
            "_model_module_version": "1.5.0",
            "_model_name": "DescriptionStyleModel",
            "_view_count": null,
            "_view_module": "@jupyter-widgets/base",
            "_view_module_version": "1.2.0",
            "_view_name": "StyleView",
            "description_width": ""
          }
        },
        "594918c3e04e48229bcda48f8aa5c3bd": {
          "model_module": "@jupyter-widgets/controls",
          "model_name": "HBoxModel",
          "model_module_version": "1.5.0",
          "state": {
            "_dom_classes": [],
            "_model_module": "@jupyter-widgets/controls",
            "_model_module_version": "1.5.0",
            "_model_name": "HBoxModel",
            "_view_count": null,
            "_view_module": "@jupyter-widgets/controls",
            "_view_module_version": "1.5.0",
            "_view_name": "HBoxView",
            "box_style": "",
            "children": [
              "IPY_MODEL_212ea3a7b59c40538e1e90c8ac4e0019",
              "IPY_MODEL_10b567b65dd142598d21559580098336",
              "IPY_MODEL_18d2270f39a2415798c28aad8fe67bcf"
            ],
            "layout": "IPY_MODEL_701cc6b815a24c70bd98b1e0920ce34d"
          }
        },
        "212ea3a7b59c40538e1e90c8ac4e0019": {
          "model_module": "@jupyter-widgets/controls",
          "model_name": "HTMLModel",
          "model_module_version": "1.5.0",
          "state": {
            "_dom_classes": [],
            "_model_module": "@jupyter-widgets/controls",
            "_model_module_version": "1.5.0",
            "_model_name": "HTMLModel",
            "_view_count": null,
            "_view_module": "@jupyter-widgets/controls",
            "_view_module_version": "1.5.0",
            "_view_name": "HTMLView",
            "description": "",
            "description_tooltip": null,
            "layout": "IPY_MODEL_3d3a36f8299542a38ce74f34bbcd6d9f",
            "placeholder": "​",
            "style": "IPY_MODEL_3078d9d38a754649b77a467bf77a24ae",
            "value": "100%"
          }
        },
        "10b567b65dd142598d21559580098336": {
          "model_module": "@jupyter-widgets/controls",
          "model_name": "FloatProgressModel",
          "model_module_version": "1.5.0",
          "state": {
            "_dom_classes": [],
            "_model_module": "@jupyter-widgets/controls",
            "_model_module_version": "1.5.0",
            "_model_name": "FloatProgressModel",
            "_view_count": null,
            "_view_module": "@jupyter-widgets/controls",
            "_view_module_version": "1.5.0",
            "_view_name": "ProgressView",
            "bar_style": "danger",
            "description": "",
            "description_tooltip": null,
            "layout": "IPY_MODEL_93630b81c2de4762b95f0d3dbf2a37bc",
            "max": 25250,
            "min": 0,
            "orientation": "horizontal",
            "style": "IPY_MODEL_9dfc2c5545b0422f80a35fd5c4e61cd3",
            "value": 25249
          }
        },
        "18d2270f39a2415798c28aad8fe67bcf": {
          "model_module": "@jupyter-widgets/controls",
          "model_name": "HTMLModel",
          "model_module_version": "1.5.0",
          "state": {
            "_dom_classes": [],
            "_model_module": "@jupyter-widgets/controls",
            "_model_module_version": "1.5.0",
            "_model_name": "HTMLModel",
            "_view_count": null,
            "_view_module": "@jupyter-widgets/controls",
            "_view_module_version": "1.5.0",
            "_view_name": "HTMLView",
            "description": "",
            "description_tooltip": null,
            "layout": "IPY_MODEL_2e59409ec4844b1eb1ccab53e08dc22a",
            "placeholder": "​",
            "style": "IPY_MODEL_66cf5fd6f4e546b7a54c814c4febc767",
            "value": " 25249/25250 [00:15&lt;00:00, 2450.54 examples/s]"
          }
        },
        "701cc6b815a24c70bd98b1e0920ce34d": {
          "model_module": "@jupyter-widgets/base",
          "model_name": "LayoutModel",
          "model_module_version": "1.2.0",
          "state": {
            "_model_module": "@jupyter-widgets/base",
            "_model_module_version": "1.2.0",
            "_model_name": "LayoutModel",
            "_view_count": null,
            "_view_module": "@jupyter-widgets/base",
            "_view_module_version": "1.2.0",
            "_view_name": "LayoutView",
            "align_content": null,
            "align_items": null,
            "align_self": null,
            "border": null,
            "bottom": null,
            "display": null,
            "flex": null,
            "flex_flow": null,
            "grid_area": null,
            "grid_auto_columns": null,
            "grid_auto_flow": null,
            "grid_auto_rows": null,
            "grid_column": null,
            "grid_gap": null,
            "grid_row": null,
            "grid_template_areas": null,
            "grid_template_columns": null,
            "grid_template_rows": null,
            "height": null,
            "justify_content": null,
            "justify_items": null,
            "left": null,
            "margin": null,
            "max_height": null,
            "max_width": null,
            "min_height": null,
            "min_width": null,
            "object_fit": null,
            "object_position": null,
            "order": null,
            "overflow": null,
            "overflow_x": null,
            "overflow_y": null,
            "padding": null,
            "right": null,
            "top": null,
            "visibility": null,
            "width": null
          }
        },
        "3d3a36f8299542a38ce74f34bbcd6d9f": {
          "model_module": "@jupyter-widgets/base",
          "model_name": "LayoutModel",
          "model_module_version": "1.2.0",
          "state": {
            "_model_module": "@jupyter-widgets/base",
            "_model_module_version": "1.2.0",
            "_model_name": "LayoutModel",
            "_view_count": null,
            "_view_module": "@jupyter-widgets/base",
            "_view_module_version": "1.2.0",
            "_view_name": "LayoutView",
            "align_content": null,
            "align_items": null,
            "align_self": null,
            "border": null,
            "bottom": null,
            "display": null,
            "flex": null,
            "flex_flow": null,
            "grid_area": null,
            "grid_auto_columns": null,
            "grid_auto_flow": null,
            "grid_auto_rows": null,
            "grid_column": null,
            "grid_gap": null,
            "grid_row": null,
            "grid_template_areas": null,
            "grid_template_columns": null,
            "grid_template_rows": null,
            "height": null,
            "justify_content": null,
            "justify_items": null,
            "left": null,
            "margin": null,
            "max_height": null,
            "max_width": null,
            "min_height": null,
            "min_width": null,
            "object_fit": null,
            "object_position": null,
            "order": null,
            "overflow": null,
            "overflow_x": null,
            "overflow_y": null,
            "padding": null,
            "right": null,
            "top": null,
            "visibility": null,
            "width": null
          }
        },
        "3078d9d38a754649b77a467bf77a24ae": {
          "model_module": "@jupyter-widgets/controls",
          "model_name": "DescriptionStyleModel",
          "model_module_version": "1.5.0",
          "state": {
            "_model_module": "@jupyter-widgets/controls",
            "_model_module_version": "1.5.0",
            "_model_name": "DescriptionStyleModel",
            "_view_count": null,
            "_view_module": "@jupyter-widgets/base",
            "_view_module_version": "1.2.0",
            "_view_name": "StyleView",
            "description_width": ""
          }
        },
        "93630b81c2de4762b95f0d3dbf2a37bc": {
          "model_module": "@jupyter-widgets/base",
          "model_name": "LayoutModel",
          "model_module_version": "1.2.0",
          "state": {
            "_model_module": "@jupyter-widgets/base",
            "_model_module_version": "1.2.0",
            "_model_name": "LayoutModel",
            "_view_count": null,
            "_view_module": "@jupyter-widgets/base",
            "_view_module_version": "1.2.0",
            "_view_name": "LayoutView",
            "align_content": null,
            "align_items": null,
            "align_self": null,
            "border": null,
            "bottom": null,
            "display": null,
            "flex": null,
            "flex_flow": null,
            "grid_area": null,
            "grid_auto_columns": null,
            "grid_auto_flow": null,
            "grid_auto_rows": null,
            "grid_column": null,
            "grid_gap": null,
            "grid_row": null,
            "grid_template_areas": null,
            "grid_template_columns": null,
            "grid_template_rows": null,
            "height": null,
            "justify_content": null,
            "justify_items": null,
            "left": null,
            "margin": null,
            "max_height": null,
            "max_width": null,
            "min_height": null,
            "min_width": null,
            "object_fit": null,
            "object_position": null,
            "order": null,
            "overflow": null,
            "overflow_x": null,
            "overflow_y": null,
            "padding": null,
            "right": null,
            "top": null,
            "visibility": null,
            "width": null
          }
        },
        "9dfc2c5545b0422f80a35fd5c4e61cd3": {
          "model_module": "@jupyter-widgets/controls",
          "model_name": "ProgressStyleModel",
          "model_module_version": "1.5.0",
          "state": {
            "_model_module": "@jupyter-widgets/controls",
            "_model_module_version": "1.5.0",
            "_model_name": "ProgressStyleModel",
            "_view_count": null,
            "_view_module": "@jupyter-widgets/base",
            "_view_module_version": "1.2.0",
            "_view_name": "StyleView",
            "bar_color": null,
            "description_width": ""
          }
        },
        "2e59409ec4844b1eb1ccab53e08dc22a": {
          "model_module": "@jupyter-widgets/base",
          "model_name": "LayoutModel",
          "model_module_version": "1.2.0",
          "state": {
            "_model_module": "@jupyter-widgets/base",
            "_model_module_version": "1.2.0",
            "_model_name": "LayoutModel",
            "_view_count": null,
            "_view_module": "@jupyter-widgets/base",
            "_view_module_version": "1.2.0",
            "_view_name": "LayoutView",
            "align_content": null,
            "align_items": null,
            "align_self": null,
            "border": null,
            "bottom": null,
            "display": null,
            "flex": null,
            "flex_flow": null,
            "grid_area": null,
            "grid_auto_columns": null,
            "grid_auto_flow": null,
            "grid_auto_rows": null,
            "grid_column": null,
            "grid_gap": null,
            "grid_row": null,
            "grid_template_areas": null,
            "grid_template_columns": null,
            "grid_template_rows": null,
            "height": null,
            "justify_content": null,
            "justify_items": null,
            "left": null,
            "margin": null,
            "max_height": null,
            "max_width": null,
            "min_height": null,
            "min_width": null,
            "object_fit": null,
            "object_position": null,
            "order": null,
            "overflow": null,
            "overflow_x": null,
            "overflow_y": null,
            "padding": null,
            "right": null,
            "top": null,
            "visibility": null,
            "width": null
          }
        },
        "66cf5fd6f4e546b7a54c814c4febc767": {
          "model_module": "@jupyter-widgets/controls",
          "model_name": "DescriptionStyleModel",
          "model_module_version": "1.5.0",
          "state": {
            "_model_module": "@jupyter-widgets/controls",
            "_model_module_version": "1.5.0",
            "_model_name": "DescriptionStyleModel",
            "_view_count": null,
            "_view_module": "@jupyter-widgets/base",
            "_view_module_version": "1.2.0",
            "_view_name": "StyleView",
            "description_width": ""
          }
        }
      }
    }
  },
  "cells": [
    {
      "cell_type": "markdown",
      "metadata": {
        "id": "view-in-github",
        "colab_type": "text"
      },
      "source": [
        "<a href=\"https://colab.research.google.com/github/fauk74/Machine-Learning/blob/main/tensorflow_computervision_milestoneproject__BIG_FOOD.ipynb\" target=\"_parent\"><img src=\"https://colab.research.google.com/assets/colab-badge.svg\" alt=\"Open In Colab\"/></a>"
      ]
    },
    {
      "cell_type": "code",
      "metadata": {
        "colab": {
          "base_uri": "https://localhost:8080/"
        },
        "id": "eQGpjU1yAG6H",
        "outputId": "36cb0323-3a92-4b1c-b660-98354bab02c1"
      },
      "source": [
        "!nvidia-smi"
      ],
      "execution_count": null,
      "outputs": [
        {
          "name": "stdout",
          "output_type": "stream",
          "text": [
            "Mon Sep 27 04:11:36 2021       \n",
            "+-----------------------------------------------------------------------------+\n",
            "| NVIDIA-SMI 470.63.01    Driver Version: 460.32.03    CUDA Version: 11.2     |\n",
            "|-------------------------------+----------------------+----------------------+\n",
            "| GPU  Name        Persistence-M| Bus-Id        Disp.A | Volatile Uncorr. ECC |\n",
            "| Fan  Temp  Perf  Pwr:Usage/Cap|         Memory-Usage | GPU-Util  Compute M. |\n",
            "|                               |                      |               MIG M. |\n",
            "|===============================+======================+======================|\n",
            "|   0  Tesla K80           Off  | 00000000:00:04.0 Off |                    0 |\n",
            "| N/A   57C    P8    30W / 149W |      0MiB / 11441MiB |      0%      Default |\n",
            "|                               |                      |                  N/A |\n",
            "+-------------------------------+----------------------+----------------------+\n",
            "                                                                               \n",
            "+-----------------------------------------------------------------------------+\n",
            "| Processes:                                                                  |\n",
            "|  GPU   GI   CI        PID   Type   Process name                  GPU Memory |\n",
            "|        ID   ID                                                   Usage      |\n",
            "|=============================================================================|\n",
            "|  No running processes found                                                 |\n",
            "+-----------------------------------------------------------------------------+\n"
          ]
        }
      ]
    },
    {
      "cell_type": "code",
      "metadata": {
        "colab": {
          "base_uri": "https://localhost:8080/"
        },
        "id": "vV8j3HPGAM4Q",
        "outputId": "0c11e2de-55cb-4786-db1a-8fa8a793f6c6"
      },
      "source": [
        "!wget https://raw.githubusercontent.com/mrdbourke/tensorflow-deep-learning/main/extras/helper_functions.py"
      ],
      "execution_count": null,
      "outputs": [
        {
          "name": "stdout",
          "output_type": "stream",
          "text": [
            "--2021-09-27 04:11:37--  https://raw.githubusercontent.com/mrdbourke/tensorflow-deep-learning/main/extras/helper_functions.py\n",
            "Resolving raw.githubusercontent.com (raw.githubusercontent.com)... 185.199.111.133, 185.199.109.133, 185.199.108.133, ...\n",
            "Connecting to raw.githubusercontent.com (raw.githubusercontent.com)|185.199.111.133|:443... connected.\n",
            "HTTP request sent, awaiting response... 200 OK\n",
            "Length: 10246 (10K) [text/plain]\n",
            "Saving to: ‘helper_functions.py’\n",
            "\n",
            "helper_functions.py 100%[===================>]  10.01K  --.-KB/s    in 0s      \n",
            "\n",
            "2021-09-27 04:11:37 (67.4 MB/s) - ‘helper_functions.py’ saved [10246/10246]\n",
            "\n"
          ]
        }
      ]
    },
    {
      "cell_type": "code",
      "metadata": {
        "id": "QuGm_bc2E2I2"
      },
      "source": [
        "from helper_functions import create_tensorboard_callback , plot_loss_curves, unzip_data, walk_through_dir"
      ],
      "execution_count": null,
      "outputs": []
    },
    {
      "cell_type": "code",
      "metadata": {
        "colab": {
          "base_uri": "https://localhost:8080/"
        },
        "id": "Xayea2mSHsWE",
        "outputId": "c08bdb75-e667-4d51-db63-9dd623e9bbbb"
      },
      "source": [
        "import tensorflow_datasets as tfds\n",
        "datasets_list=tfds.list_builders()\n",
        "print(\"food101\" in datasets_list)"
      ],
      "execution_count": null,
      "outputs": [
        {
          "name": "stdout",
          "output_type": "stream",
          "text": [
            "True\n"
          ]
        }
      ]
    },
    {
      "cell_type": "code",
      "metadata": {
        "colab": {
          "base_uri": "https://localhost:8080/",
          "height": 316,
          "referenced_widgets": [
            "1894f46864b544e38b5b3a6da1728b41",
            "d2962d446f874eb1849678c4b39dc48b",
            "ee30765fbf2b4f88827bc9d1b19f46f8",
            "307379fbf12349bab2d4ef902dcd8bb8",
            "301b2a89b81644c690600535c1abc648",
            "ec3bf90831d349b8bcb1a896ca2ea669",
            "3a4973110b4a4605ad0bc9a9c27650e5",
            "7caca2681de94e98bf1355caf1e313f7",
            "8ba9e0b658c54448a1403df79c4389cf",
            "adb3927f52f24ee68a5175030c195f91",
            "77728a301869404f883c7786cfd5fde1",
            "f655ce8adfa4496e98a74c5c4f056741",
            "d9dd800891024213a5c40672dba8f575",
            "eceec30c2bd54bd1833709319e1460d8",
            "d1220cf6c90b429fb6ec728ad4fd1e14",
            "21a3bc92e84d4541aa0009db39281c5f",
            "81b48cc3be154cea8fb0552b1f3cf50b",
            "917e3ecb783043ac8b8267417e242bff",
            "db7991e854a34cd59fa5ab4444139187",
            "06a1f5e780e544dc948f833f400fc3ba",
            "b4fbf76bb4cd45d793cbc6f684a49f21",
            "bcb9ee37c2dd438cb252e105e3fbe381",
            "715ba2775d434d819b1a5245d7bb77fd",
            "fbcecf84d3184e82bc3258423b5af957",
            "2df59875d68b491b9798937b88e661ec",
            "1da812e26b9b43a69d0f0fa0ec80e670",
            "13c1961475dd45bead8530de58f20c1d",
            "97939902d11f4cf0bd715910527a1bce",
            "1837a26b73f24396a4d112b93f17662e",
            "9408c8e2b932487ba1887ad17611c5d3",
            "39847c0be8834c84aebe857ff5d7ff04",
            "0d4c410545204d57a70e1b93e9b8b668",
            "c4613c89eb0c42948d4d51eeb4c7a867",
            "65841a630f2940179d7fe5d7d919cc43",
            "684c587eba3846f482863c68654f0c6c",
            "010deb75a3384a9b82aa74ace7a69cdf",
            "aeb23263c92345a0a4a3c9fdcc6fd94d",
            "087761e204a54f8db642c8a629fee29a",
            "10b3d9d68483446cba4c357749f7d995",
            "d15cbbe42abb445a859270e06547ba97",
            "c5ff3fbf86af49df8397d05d7af09456",
            "695cc0ccbe2e43b1aac935450a44e390",
            "97291346cead4443a54e6c243ab2d986",
            "33dab732697846829206a8ad157bd62c",
            "dceec751ad0d4a20a4fdba097e30eda9",
            "a24a9f308df747d0a1cd0b5424f2d1b6",
            "6dbd6b8216fb4b95b33b5533f207880d",
            "ee3e4527c84c4f0da219cd09ce21430c",
            "a282e2411dc54cb88e4f2fead2b2e462",
            "3db7e789e9ef4ee9badbff524e03647b",
            "98d5f3032f9f4fe1b2826507699b6270",
            "716a846128ea4a468095c40702f37e3b",
            "aa49309b684a41158ddd1d865dfee949",
            "fd6ee4a3ddfb4467b04431d0c2956cab",
            "d620681546ad496caec327baa05ccb74",
            "9e452b452ee9459793e39108f76ba5a4",
            "9bceb5f87d3041a0b3560da2a13b3c4b",
            "9b71c479849643a099fed9866b8bee81",
            "66c8c952ce3449099f7d5f3632781613",
            "321de23561df4098a27e1312f38ba75c",
            "742d4b43c9874ca1b8f3ee3319f11658",
            "5ccd2c5679364546be773434fc8d472c",
            "15ec52c32f1b4500becd6846154267bf",
            "4ba81cf3d380462ab8d71b4ee26d0cb6",
            "4e1cde2612274c868881ecc01c65ca2f",
            "567ca1e6a11642e79d8036bb29cc2749",
            "594918c3e04e48229bcda48f8aa5c3bd",
            "212ea3a7b59c40538e1e90c8ac4e0019",
            "10b567b65dd142598d21559580098336",
            "18d2270f39a2415798c28aad8fe67bcf",
            "701cc6b815a24c70bd98b1e0920ce34d",
            "3d3a36f8299542a38ce74f34bbcd6d9f",
            "3078d9d38a754649b77a467bf77a24ae",
            "93630b81c2de4762b95f0d3dbf2a37bc",
            "9dfc2c5545b0422f80a35fd5c4e61cd3",
            "2e59409ec4844b1eb1ccab53e08dc22a",
            "66cf5fd6f4e546b7a54c814c4febc767"
          ]
        },
        "id": "C9cx_I9DH3-b",
        "outputId": "d1356881-18dd-442b-8097-57f9920193f3"
      },
      "source": [
        "#Load in the data \n",
        "(train_data, test_data), ds_info=tfds.load(name=\"food101\",\n",
        "                                           split=[\"train\", \"validation\"],\n",
        "                                           shuffle_files=True,\n",
        "                                           as_supervised=True, #data gest returned in format tuple(data, label)\n",
        "                                           with_info=True\n",
        "                                           )"
      ],
      "execution_count": null,
      "outputs": [
        {
          "name": "stdout",
          "output_type": "stream",
          "text": [
            "\u001b[1mDownloading and preparing dataset food101/2.0.0 (download: 4.65 GiB, generated: Unknown size, total: 4.65 GiB) to /root/tensorflow_datasets/food101/2.0.0...\u001b[0m\n"
          ]
        },
        {
          "data": {
            "application/vnd.jupyter.widget-view+json": {
              "model_id": "1894f46864b544e38b5b3a6da1728b41",
              "version_major": 2,
              "version_minor": 0
            },
            "text/plain": [
              "Dl Completed...: 0 url [00:00, ? url/s]"
            ]
          },
          "metadata": {},
          "output_type": "display_data"
        },
        {
          "data": {
            "application/vnd.jupyter.widget-view+json": {
              "model_id": "f655ce8adfa4496e98a74c5c4f056741",
              "version_major": 2,
              "version_minor": 0
            },
            "text/plain": [
              "Dl Size...: 0 MiB [00:00, ? MiB/s]"
            ]
          },
          "metadata": {},
          "output_type": "display_data"
        },
        {
          "data": {
            "application/vnd.jupyter.widget-view+json": {
              "model_id": "715ba2775d434d819b1a5245d7bb77fd",
              "version_major": 2,
              "version_minor": 0
            },
            "text/plain": [
              "Extraction completed...: 0 file [00:00, ? file/s]"
            ]
          },
          "metadata": {},
          "output_type": "display_data"
        },
        {
          "name": "stdout",
          "output_type": "stream",
          "text": [
            "\n",
            "\n",
            "\n"
          ]
        },
        {
          "data": {
            "application/vnd.jupyter.widget-view+json": {
              "model_id": "65841a630f2940179d7fe5d7d919cc43",
              "version_major": 2,
              "version_minor": 0
            },
            "text/plain": [
              "0 examples [00:00, ? examples/s]"
            ]
          },
          "metadata": {},
          "output_type": "display_data"
        },
        {
          "name": "stdout",
          "output_type": "stream",
          "text": [
            "Shuffling and writing examples to /root/tensorflow_datasets/food101/2.0.0.incomplete4BNK7Y/food101-train.tfrecord\n"
          ]
        },
        {
          "data": {
            "application/vnd.jupyter.widget-view+json": {
              "model_id": "dceec751ad0d4a20a4fdba097e30eda9",
              "version_major": 2,
              "version_minor": 0
            },
            "text/plain": [
              "  0%|          | 0/75750 [00:00<?, ? examples/s]"
            ]
          },
          "metadata": {},
          "output_type": "display_data"
        },
        {
          "data": {
            "application/vnd.jupyter.widget-view+json": {
              "model_id": "9e452b452ee9459793e39108f76ba5a4",
              "version_major": 2,
              "version_minor": 0
            },
            "text/plain": [
              "0 examples [00:00, ? examples/s]"
            ]
          },
          "metadata": {},
          "output_type": "display_data"
        },
        {
          "name": "stdout",
          "output_type": "stream",
          "text": [
            "Shuffling and writing examples to /root/tensorflow_datasets/food101/2.0.0.incomplete4BNK7Y/food101-validation.tfrecord\n"
          ]
        },
        {
          "data": {
            "application/vnd.jupyter.widget-view+json": {
              "model_id": "594918c3e04e48229bcda48f8aa5c3bd",
              "version_major": 2,
              "version_minor": 0
            },
            "text/plain": [
              "  0%|          | 0/25250 [00:00<?, ? examples/s]"
            ]
          },
          "metadata": {},
          "output_type": "display_data"
        },
        {
          "name": "stdout",
          "output_type": "stream",
          "text": [
            "\u001b[1mDataset food101 downloaded and prepared to /root/tensorflow_datasets/food101/2.0.0. Subsequent calls will reuse this data.\u001b[0m\n"
          ]
        }
      ]
    },
    {
      "cell_type": "code",
      "metadata": {
        "colab": {
          "base_uri": "https://localhost:8080/"
        },
        "id": "Dmy3i74kAMnp",
        "outputId": "6be7f459-95e9-4c38-f816-f2a7236f464f"
      },
      "source": [
        "#Features of Food101 from TFDS\n",
        "ds_info.features"
      ],
      "execution_count": null,
      "outputs": [
        {
          "data": {
            "text/plain": [
              "FeaturesDict({\n",
              "    'image': Image(shape=(None, None, 3), dtype=tf.uint8),\n",
              "    'label': ClassLabel(shape=(), dtype=tf.int64, num_classes=101),\n",
              "})"
            ]
          },
          "execution_count": 6,
          "metadata": {},
          "output_type": "execute_result"
        }
      ]
    },
    {
      "cell_type": "code",
      "metadata": {
        "id": "aZhrhJf5Qr2O"
      },
      "source": [
        "#Get the class names\n",
        "class_names=ds_info.features[\"label\"].names"
      ],
      "execution_count": null,
      "outputs": []
    },
    {
      "cell_type": "code",
      "metadata": {
        "colab": {
          "base_uri": "https://localhost:8080/"
        },
        "id": "XNpEj5OXQ5uZ",
        "outputId": "ed954c94-f5e2-4e81-8e64-bebe60ab08db"
      },
      "source": [
        "class_names[:20]"
      ],
      "execution_count": null,
      "outputs": [
        {
          "data": {
            "text/plain": [
              "['apple_pie',\n",
              " 'baby_back_ribs',\n",
              " 'baklava',\n",
              " 'beef_carpaccio',\n",
              " 'beef_tartare',\n",
              " 'beet_salad',\n",
              " 'beignets',\n",
              " 'bibimbap',\n",
              " 'bread_pudding',\n",
              " 'breakfast_burrito',\n",
              " 'bruschetta',\n",
              " 'caesar_salad',\n",
              " 'cannoli',\n",
              " 'caprese_salad',\n",
              " 'carrot_cake',\n",
              " 'ceviche',\n",
              " 'cheesecake',\n",
              " 'cheese_plate',\n",
              " 'chicken_curry',\n",
              " 'chicken_quesadilla']"
            ]
          },
          "execution_count": 8,
          "metadata": {},
          "output_type": "execute_result"
        }
      ]
    },
    {
      "cell_type": "code",
      "metadata": {
        "id": "yfq7DT4ZQ-37"
      },
      "source": [
        "#Take one sample of our data, from train data\n",
        "train_one_sample=train_data.take(1)"
      ],
      "execution_count": null,
      "outputs": []
    },
    {
      "cell_type": "code",
      "metadata": {
        "id": "AT0jeb10lnlz"
      },
      "source": [
        ""
      ],
      "execution_count": null,
      "outputs": []
    },
    {
      "cell_type": "code",
      "metadata": {
        "colab": {
          "base_uri": "https://localhost:8080/"
        },
        "id": "bHLu6_IdRfV3",
        "outputId": "2487837c-723a-4813-fcf4-151b57796440"
      },
      "source": [
        "train_one_sample"
      ],
      "execution_count": null,
      "outputs": [
        {
          "data": {
            "text/plain": [
              "<TakeDataset shapes: ((None, None, 3), ()), types: (tf.uint8, tf.int64)>"
            ]
          },
          "execution_count": 10,
          "metadata": {},
          "output_type": "execute_result"
        }
      ]
    },
    {
      "cell_type": "code",
      "metadata": {
        "colab": {
          "base_uri": "https://localhost:8080/"
        },
        "id": "fBf-JSP_RriN",
        "outputId": "d56db00a-d623-461a-fc66-e2403d9c1b63"
      },
      "source": [
        "for image, label in train_one_sample:\n",
        "  print(f\"\"\")\n",
        "  image shape : {image.shape},\n",
        "  image datatype : {image.dtype},\n",
        "  traget class from food 101 : {label},\n",
        "  class name: {class_names[label.numpy()]}\n",
        "  \"\"\")\n",
        "  "
      ],
      "execution_count": null,
      "outputs": [
        {
          "name": "stdout",
          "output_type": "stream",
          "text": [
            ")\n",
            "  image shape : (512, 512, 3),\n",
            "  image datatype : <dtype: 'uint8'>,\n",
            "  traget class from food 101 : 5,\n",
            "  class name: beet_salad\n",
            "  \n"
          ]
        }
      ]
    },
    {
      "cell_type": "code",
      "metadata": {
        "colab": {
          "base_uri": "https://localhost:8080/"
        },
        "id": "HwhPnGMoSNhi",
        "outputId": "b4fe8ce9-1d36-41a9-d751-156e17cbd9ee"
      },
      "source": [
        "import tensorflow as tf\n",
        "tf.reduce_max(image), tf.reduce_min(image), "
      ],
      "execution_count": null,
      "outputs": [
        {
          "data": {
            "text/plain": [
              "(<tf.Tensor: shape=(), dtype=uint8, numpy=249>,\n",
              " <tf.Tensor: shape=(), dtype=uint8, numpy=0>)"
            ]
          },
          "execution_count": 12,
          "metadata": {},
          "output_type": "execute_result"
        }
      ]
    },
    {
      "cell_type": "code",
      "metadata": {
        "id": "UBZFz6VJS-Bc"
      },
      "source": [
        ""
      ],
      "execution_count": null,
      "outputs": []
    },
    {
      "cell_type": "code",
      "metadata": {
        "colab": {
          "base_uri": "https://localhost:8080/",
          "height": 281
        },
        "id": "NssWnnFpSfzU",
        "outputId": "3d111ca4-644c-4145-ea3f-937d4967ccca"
      },
      "source": [
        "import matplotlib.pyplot as plt \n",
        "plt.imshow(image)\n",
        "plt.title(class_names[label.numpy()])\n",
        "plt.axis(False)"
      ],
      "execution_count": null,
      "outputs": [
        {
          "data": {
            "text/plain": [
              "(-0.5, 511.5, 511.5, -0.5)"
            ]
          },
          "execution_count": 13,
          "metadata": {},
          "output_type": "execute_result"
        },
        {
          "data": {
            "image/png": "[encoded data removed]",
            "text/plain": [
              "<Figure size 432x288 with 1 Axes>"
            ]
          },
          "metadata": {},
          "output_type": "display_data"
        }
      ]
    },
    {
      "cell_type": "code",
      "metadata": {
        "id": "BDWPWxFgUS4L"
      },
      "source": [
        ""
      ],
      "execution_count": null,
      "outputs": []
    },
    {
      "cell_type": "code",
      "metadata": {
        "id": "npCRN83HWtTq"
      },
      "source": [
        "## "
      ],
      "execution_count": null,
      "outputs": []
    },
    {
      "cell_type": "markdown",
      "metadata": {
        "id": "gbSdSLpGXHcm"
      },
      "source": [
        "# Create preprocessing functions for our data\n",
        "\n",
        "* in uint8 datayp\n",
        "* different size tensros\n",
        "* not scaled\n",
        "\n",
        "Models like data in \n",
        "* for atches,32 float\n",
        "* same size \n",
        "* scaled\n"
      ]
    },
    {
      "cell_type": "code",
      "metadata": {
        "id": "KXK2qoqHYrMl"
      },
      "source": [
        "#Make a function for preprocessing images\n",
        "def preprocess_image(image, label, img_shape=224):\n",
        "  \"\"\"\n",
        "  Converts image datatype from 'uint8' -> float 32 and reshapes \n",
        "  image to [img_shape, img_shape, color channel]\n",
        "   \"\"\" \n",
        "#  x_arr=image.shape[0]\n",
        "#  y_arr=image.shape[1]\n",
        "#  maxdim=max(x_arr,y_arr)\n",
        "#  image1=np.zeros((maxdim, maxdim,3))\n",
        "#  image1[int((maxdim-y_arr)/2):maxdim,int((maxdim-x_arr)/2):maxdim,0:3]=image\n",
        "\n",
        "  image=tf.image.resize(image, [img_shape,img_shape])\n",
        "\n",
        "\n",
        "  return tf.cast(image, tf.float32), label #return (float32_image, label) tuple\n"
      ],
      "execution_count": null,
      "outputs": []
    },
    {
      "cell_type": "code",
      "metadata": {
        "id": "G7R-V6S8gp3K"
      },
      "source": [
        "import numpy as np\n",
        "\n"
      ],
      "execution_count": null,
      "outputs": []
    },
    {
      "cell_type": "code",
      "metadata": {
        "colab": {
          "base_uri": "https://localhost:8080/"
        },
        "id": "OF5s2vbEfxyM",
        "outputId": "a388aa13-f729-4211-88db-503e5c58451b"
      },
      "source": [
        "preprocess_img=preprocess_image(image, label)[0]\n",
        "print(f\"Image before preprocessing:\\n {image[:2]}..., \\nShape: {image.shape}, \\nDatatype: {image.dtype}\\n\" )\n",
        "print(f\"Image after preprocessing:\\n {preprocess_img[:2]}..., \\nShape: {preprocess_img.shape}, \\nDatatype: {preprocess_img.dtype}\\n\" )"
      ],
      "execution_count": null,
      "outputs": [
        {
          "name": "stdout",
          "output_type": "stream",
          "text": [
            "Image before preprocessing:\n",
            " [[[101  58  13]\n",
            "  [123  80  35]\n",
            "  [125  83  35]\n",
            "  ...\n",
            "  [162 111  30]\n",
            "  [151 100  17]\n",
            "  [157 106  23]]\n",
            "\n",
            " [[114  71  26]\n",
            "  [113  71  23]\n",
            "  [105  63  15]\n",
            "  ...\n",
            "  [172 121  40]\n",
            "  [162 111  30]\n",
            "  [158 107  24]]]..., \n",
            "Shape: (512, 512, 3), \n",
            "Datatype: <dtype: 'uint8'>\n",
            "\n",
            "Image after preprocessing:\n",
            " [[[113.994896  71.408165  25.168367]\n",
            "  [119.04082   77.04082   27.846941]\n",
            "  [114.852036  73.42347   21.362246]\n",
            "  ...\n",
            "  [148.58653  100.295685  20.239561]\n",
            "  [166.17351  115.1735    34.1735  ]\n",
            "  [157.91835  106.91835   24.744839]]\n",
            "\n",
            " [[124.16327   82.16327   32.96939 ]\n",
            "  [129.71428   88.57653   36.862244]\n",
            "  [118.331635  76.90306   23.229593]\n",
            "  ...\n",
            "  [163.10718  114.535706  37.178585]\n",
            "  [148.81638   99.82147   20.806164]\n",
            "  [151.3008   102.70389   22.49461 ]]]..., \n",
            "Shape: (224, 224, 3), \n",
            "Datatype: <dtype: 'float32'>\n",
            "\n"
          ]
        }
      ]
    },
    {
      "cell_type": "code",
      "metadata": {
        "id": "_17xvv_hXLJ2"
      },
      "source": [
        ""
      ],
      "execution_count": null,
      "outputs": []
    },
    {
      "cell_type": "markdown",
      "metadata": {
        "id": "lWnD5wiQhFgB"
      },
      "source": [
        "# Batch and prepare dataset"
      ]
    },
    {
      "cell_type": "code",
      "metadata": {
        "id": "5XpADOyyi45D"
      },
      "source": [
        "# MAP preprocessing function to training\n",
        "train_data=train_data.map(map_func=preprocess_image, num_parallel_calls=tf.data.AUTOTUNE)\n",
        "\n",
        "#Shuffle train_data and turn into batches\n",
        "train_data=train_data.shuffle(buffer_size=1000).batch(batch_size=32).prefetch(buffer_size=tf.data.AUTOTUNE)\n",
        "\n",
        "#MAP als oon test data\n",
        "test_data=test_data.map(map_func=preprocess_image, num_parallel_calls=tf.data.AUTOTUNE).batch(batch_size=32).prefetch(buffer_size=tf.data.AUTOTUNE)"
      ],
      "execution_count": null,
      "outputs": []
    },
    {
      "cell_type": "code",
      "metadata": {
        "colab": {
          "base_uri": "https://localhost:8080/"
        },
        "id": "2jHQM8yKlQ5h",
        "outputId": "2271003c-32c0-4fdb-b4ca-398afc5239ba"
      },
      "source": [
        "train_data, test_data"
      ],
      "execution_count": null,
      "outputs": [
        {
          "data": {
            "text/plain": [
              "(<PrefetchDataset shapes: ((None, 224, 224, 3), (None,)), types: (tf.float32, tf.int64)>,\n",
              " <PrefetchDataset shapes: ((None, 224, 224, 3), (None,)), types: (tf.float32, tf.int64)>)"
            ]
          },
          "execution_count": 19,
          "metadata": {},
          "output_type": "execute_result"
        }
      ]
    },
    {
      "cell_type": "code",
      "metadata": {
        "id": "SbFmkvasibmE"
      },
      "source": [
        ""
      ],
      "execution_count": null,
      "outputs": []
    },
    {
      "cell_type": "markdown",
      "metadata": {
        "id": "kD-g7f4Yn5u7"
      },
      "source": [
        "# Create modelling callbacks\n",
        "\n",
        "* Tensorboard callbacks\n",
        "* Modelcheckpoint callbacks \n"
      ]
    },
    {
      "cell_type": "code",
      "metadata": {
        "id": "9weaR_p8n-AH"
      },
      "source": [
        "from helper_functions import create_tensorboard_callback\n",
        "\n",
        "#Crate Model checkpoint\n",
        "checkpoint_path=\"model_checkpoints/cp.ckpt\"\n",
        "model_checkpoint=tf.keras.callbacks.ModelCheckpoint(checkpoint_path,\n",
        "                                                    monitor=\"val_loss\",\n",
        "                                                    save_best_only=True,\n",
        "                                                    save_weights_only=True\n",
        "                                                    )\n",
        "\n"
      ],
      "execution_count": null,
      "outputs": []
    },
    {
      "cell_type": "code",
      "metadata": {
        "colab": {
          "base_uri": "https://localhost:8080/"
        },
        "id": "JcOANxizrsGc",
        "outputId": "1bdc5170-cedf-42b4-8c95-09f56af370c5"
      },
      "source": [
        "from tensorflow.keras import mixed_precision\n",
        "mixed_precision.set_global_policy(\"mixed_float16\")\n"
      ],
      "execution_count": null,
      "outputs": [
        {
          "name": "stdout",
          "output_type": "stream",
          "text": [
            "WARNING:tensorflow:Mixed precision compatibility check (mixed_float16): WARNING\n",
            "Your GPU may run slowly with dtype policy mixed_float16 because it does not have compute capability of at least 7.0. Your GPU:\n",
            "  Tesla K80, compute capability 3.7\n",
            "See https://developer.nvidia.com/cuda-gpus for a list of GPUs and their compute capabilities.\n",
            "If you will use compatible GPU(s) not attached to this host, e.g. by running a multi-worker model, you can ignore this warning. This message will only be logged once\n"
          ]
        },
        {
          "name": "stderr",
          "output_type": "stream",
          "text": [
            "WARNING:tensorflow:Mixed precision compatibility check (mixed_float16): WARNING\n",
            "Your GPU may run slowly with dtype policy mixed_float16 because it does not have compute capability of at least 7.0. Your GPU:\n",
            "  Tesla K80, compute capability 3.7\n",
            "See https://developer.nvidia.com/cuda-gpus for a list of GPUs and their compute capabilities.\n",
            "If you will use compatible GPU(s) not attached to this host, e.g. by running a multi-worker model, you can ignore this warning. This message will only be logged once\n"
          ]
        }
      ]
    },
    {
      "cell_type": "code",
      "metadata": {
        "colab": {
          "base_uri": "https://localhost:8080/"
        },
        "id": "fnAhSIvT3MxB",
        "outputId": "5b207967-ae54-4740-9f46-64d274b7fb66"
      },
      "source": [
        "mixed_precision.global_policy()"
      ],
      "execution_count": null,
      "outputs": [
        {
          "data": {
            "text/plain": [
              "<Policy \"mixed_float16\">"
            ]
          },
          "execution_count": 22,
          "metadata": {},
          "output_type": "execute_result"
        }
      ]
    },
    {
      "cell_type": "code",
      "metadata": {
        "id": "gdXOPyKO3V7E"
      },
      "source": [
        "from tensorflow.keras import layers\n",
        "from tensorflow.keras.layers.experimental import preprocessing\n",
        "\n",
        "\n",
        "\n"
      ],
      "execution_count": null,
      "outputs": []
    },
    {
      "cell_type": "code",
      "metadata": {
        "id": "_bOzvCrssm__"
      },
      "source": [
        "\n",
        "\n"
      ],
      "execution_count": null,
      "outputs": []
    },
    {
      "cell_type": "code",
      "metadata": {
        "colab": {
          "base_uri": "https://localhost:8080/"
        },
        "id": "nMlSPg1IsVWz",
        "outputId": "c06e66b8-cd12-4f1e-8409-0407e9bac5fe"
      },
      "source": [
        "#Create base model\n",
        "input_shape=(224,224,3)\n",
        "\n",
        "base_model=tf.keras.applications.EfficientNetB0(include_top=False)\n",
        "base_model.trainable=False\n",
        "\n",
        "#Create functional model\n",
        "\n",
        "inputs=layers.Input(shape=input_shape, name=\"input_layer\")\n",
        "x= base_model(inputs, training=False)\n",
        "x=layers.GlobalAveragePooling2D()(x)\n",
        "x=layers.Dense(len(class_names))(x)\n",
        "outputs=layers.Activation(\"softmax\", dtype=tf.float32, name=\"softmax_float_32\")(x)\n",
        "model=tf.keras.Model(inputs,outputs)\n",
        "\n"
      ],
      "execution_count": null,
      "outputs": [
        {
          "name": "stdout",
          "output_type": "stream",
          "text": [
            "Downloading data from https://storage.googleapis.com/keras-applications/efficientnetb0_notop.h5\n",
            "16711680/16705208 [==============================] - 0s 0us/step\n",
            "16719872/16705208 [==============================] - 0s 0us/step\n"
          ]
        }
      ]
    },
    {
      "cell_type": "code",
      "metadata": {
        "id": "vt1eYuSCtnQx"
      },
      "source": [
        "model.compile(loss=\"sparse_categorical_crossentropy\",\n",
        "              optimizer=tf.keras.optimizers.Adam(),\n",
        "              metrics=[\"accuracy\"])"
      ],
      "execution_count": null,
      "outputs": []
    },
    {
      "cell_type": "code",
      "metadata": {
        "colab": {
          "base_uri": "https://localhost:8080/"
        },
        "id": "GfEi9VntulgR",
        "outputId": "0f7b24eb-22d3-4b14-a853-35a5a2224aee"
      },
      "source": [
        "model.summary()"
      ],
      "execution_count": null,
      "outputs": [
        {
          "name": "stdout",
          "output_type": "stream",
          "text": [
            "Model: \"model\"\n",
            "_________________________________________________________________\n",
            "Layer (type)                 Output Shape              Param #   \n",
            "=================================================================\n",
            "input_layer (InputLayer)     [(None, 224, 224, 3)]     0         \n",
            "_________________________________________________________________\n",
            "efficientnetb0 (Functional)  (None, None, None, 1280)  4049571   \n",
            "_________________________________________________________________\n",
            "global_average_pooling2d (Gl (None, 1280)              0         \n",
            "_________________________________________________________________\n",
            "dense (Dense)                (None, 101)               129381    \n",
            "_________________________________________________________________\n",
            "softmax_float_32 (Activation (None, 101)               0         \n",
            "=================================================================\n",
            "Total params: 4,178,952\n",
            "Trainable params: 129,381\n",
            "Non-trainable params: 4,049,571\n",
            "_________________________________________________________________\n"
          ]
        }
      ]
    },
    {
      "cell_type": "code",
      "metadata": {
        "colab": {
          "base_uri": "https://localhost:8080/"
        },
        "id": "Y8wWAZRBuxHd",
        "outputId": "0c3fdd4e-2e8d-4ad2-cd03-f6bfee7402cd"
      },
      "source": [
        "for lnum, layer in enumerate( model.layers) : # can write model.layers[1].layers as well\n",
        "  print (lnum, layer.name, layer.trainable, layer.dtype, layer.compute_dtype, layer.dtype_policy)"
      ],
      "execution_count": null,
      "outputs": [
        {
          "name": "stdout",
          "output_type": "stream",
          "text": [
            "0 input_layer True float32 float32 <Policy \"float32\">\n",
            "1 efficientnetb0 False float32 float16 <Policy \"mixed_float16\">\n",
            "2 global_average_pooling2d True float32 float16 <Policy \"mixed_float16\">\n",
            "3 dense True float32 float16 <Policy \"mixed_float16\">\n",
            "4 softmax_float_32 True float32 float32 <Policy \"float32\">\n"
          ]
        }
      ]
    },
    {
      "cell_type": "code",
      "metadata": {
        "colab": {
          "base_uri": "https://localhost:8080/"
        },
        "id": "uMcE3Aj_wkHx",
        "outputId": "e059c925-2e6f-4806-f1aa-97fc9f63a3a2"
      },
      "source": [
        "#interesting that normalizaiton, layer 2 here is in mixed float 16, in d.bourke video policy float 32 \n",
        "\n",
        "for lnum, layer in enumerate( base_model.layers) :\n",
        "  print (lnum, layer.name, layer.trainable, layer.dtype, layer.compute_dtype, layer.dtype_policy)"
      ],
      "execution_count": null,
      "outputs": [
        {
          "name": "stdout",
          "output_type": "stream",
          "text": [
            "0 input_1 False float32 float32 <Policy \"float32\">\n",
            "1 rescaling False float32 float16 <Policy \"mixed_float16\">\n",
            "2 normalization False float32 float16 <Policy \"mixed_float16\">\n",
            "3 stem_conv_pad False float32 float16 <Policy \"mixed_float16\">\n",
            "4 stem_conv False float32 float16 <Policy \"mixed_float16\">\n",
            "5 stem_bn False float32 float16 <Policy \"mixed_float16\">\n",
            "6 stem_activation False float32 float16 <Policy \"mixed_float16\">\n",
            "7 block1a_dwconv False float32 float16 <Policy \"mixed_float16\">\n",
            "8 block1a_bn False float32 float16 <Policy \"mixed_float16\">\n",
            "9 block1a_activation False float32 float16 <Policy \"mixed_float16\">\n",
            "10 block1a_se_squeeze False float32 float16 <Policy \"mixed_float16\">\n",
            "11 block1a_se_reshape False float32 float16 <Policy \"mixed_float16\">\n",
            "12 block1a_se_reduce False float32 float16 <Policy \"mixed_float16\">\n",
            "13 block1a_se_expand False float32 float16 <Policy \"mixed_float16\">\n",
            "14 block1a_se_excite False float32 float16 <Policy \"mixed_float16\">\n",
            "15 block1a_project_conv False float32 float16 <Policy \"mixed_float16\">\n",
            "16 block1a_project_bn False float32 float16 <Policy \"mixed_float16\">\n",
            "17 block2a_expand_conv False float32 float16 <Policy \"mixed_float16\">\n",
            "18 block2a_expand_bn False float32 float16 <Policy \"mixed_float16\">\n",
            "19 block2a_expand_activation False float32 float16 <Policy \"mixed_float16\">\n",
            "20 block2a_dwconv_pad False float32 float16 <Policy \"mixed_float16\">\n",
            "21 block2a_dwconv False float32 float16 <Policy \"mixed_float16\">\n",
            "22 block2a_bn False float32 float16 <Policy \"mixed_float16\">\n",
            "23 block2a_activation False float32 float16 <Policy \"mixed_float16\">\n",
            "24 block2a_se_squeeze False float32 float16 <Policy \"mixed_float16\">\n",
            "25 block2a_se_reshape False float32 float16 <Policy \"mixed_float16\">\n",
            "26 block2a_se_reduce False float32 float16 <Policy \"mixed_float16\">\n",
            "27 block2a_se_expand False float32 float16 <Policy \"mixed_float16\">\n",
            "28 block2a_se_excite False float32 float16 <Policy \"mixed_float16\">\n",
            "29 block2a_project_conv False float32 float16 <Policy \"mixed_float16\">\n",
            "30 block2a_project_bn False float32 float16 <Policy \"mixed_float16\">\n",
            "31 block2b_expand_conv False float32 float16 <Policy \"mixed_float16\">\n",
            "32 block2b_expand_bn False float32 float16 <Policy \"mixed_float16\">\n",
            "33 block2b_expand_activation False float32 float16 <Policy \"mixed_float16\">\n",
            "34 block2b_dwconv False float32 float16 <Policy \"mixed_float16\">\n",
            "35 block2b_bn False float32 float16 <Policy \"mixed_float16\">\n",
            "36 block2b_activation False float32 float16 <Policy \"mixed_float16\">\n",
            "37 block2b_se_squeeze False float32 float16 <Policy \"mixed_float16\">\n",
            "38 block2b_se_reshape False float32 float16 <Policy \"mixed_float16\">\n",
            "39 block2b_se_reduce False float32 float16 <Policy \"mixed_float16\">\n",
            "40 block2b_se_expand False float32 float16 <Policy \"mixed_float16\">\n",
            "41 block2b_se_excite False float32 float16 <Policy \"mixed_float16\">\n",
            "42 block2b_project_conv False float32 float16 <Policy \"mixed_float16\">\n",
            "43 block2b_project_bn False float32 float16 <Policy \"mixed_float16\">\n",
            "44 block2b_drop False float32 float16 <Policy \"mixed_float16\">\n",
            "45 block2b_add False float32 float16 <Policy \"mixed_float16\">\n",
            "46 block3a_expand_conv False float32 float16 <Policy \"mixed_float16\">\n",
            "47 block3a_expand_bn False float32 float16 <Policy \"mixed_float16\">\n",
            "48 block3a_expand_activation False float32 float16 <Policy \"mixed_float16\">\n",
            "49 block3a_dwconv_pad False float32 float16 <Policy \"mixed_float16\">\n",
            "50 block3a_dwconv False float32 float16 <Policy \"mixed_float16\">\n",
            "51 block3a_bn False float32 float16 <Policy \"mixed_float16\">\n",
            "52 block3a_activation False float32 float16 <Policy \"mixed_float16\">\n",
            "53 block3a_se_squeeze False float32 float16 <Policy \"mixed_float16\">\n",
            "54 block3a_se_reshape False float32 float16 <Policy \"mixed_float16\">\n",
            "55 block3a_se_reduce False float32 float16 <Policy \"mixed_float16\">\n",
            "56 block3a_se_expand False float32 float16 <Policy \"mixed_float16\">\n",
            "57 block3a_se_excite False float32 float16 <Policy \"mixed_float16\">\n",
            "58 block3a_project_conv False float32 float16 <Policy \"mixed_float16\">\n",
            "59 block3a_project_bn False float32 float16 <Policy \"mixed_float16\">\n",
            "60 block3b_expand_conv False float32 float16 <Policy \"mixed_float16\">\n",
            "61 block3b_expand_bn False float32 float16 <Policy \"mixed_float16\">\n",
            "62 block3b_expand_activation False float32 float16 <Policy \"mixed_float16\">\n",
            "63 block3b_dwconv False float32 float16 <Policy \"mixed_float16\">\n",
            "64 block3b_bn False float32 float16 <Policy \"mixed_float16\">\n",
            "65 block3b_activation False float32 float16 <Policy \"mixed_float16\">\n",
            "66 block3b_se_squeeze False float32 float16 <Policy \"mixed_float16\">\n",
            "67 block3b_se_reshape False float32 float16 <Policy \"mixed_float16\">\n",
            "68 block3b_se_reduce False float32 float16 <Policy \"mixed_float16\">\n",
            "69 block3b_se_expand False float32 float16 <Policy \"mixed_float16\">\n",
            "70 block3b_se_excite False float32 float16 <Policy \"mixed_float16\">\n",
            "71 block3b_project_conv False float32 float16 <Policy \"mixed_float16\">\n",
            "72 block3b_project_bn False float32 float16 <Policy \"mixed_float16\">\n",
            "73 block3b_drop False float32 float16 <Policy \"mixed_float16\">\n",
            "74 block3b_add False float32 float16 <Policy \"mixed_float16\">\n",
            "75 block4a_expand_conv False float32 float16 <Policy \"mixed_float16\">\n",
            "76 block4a_expand_bn False float32 float16 <Policy \"mixed_float16\">\n",
            "77 block4a_expand_activation False float32 float16 <Policy \"mixed_float16\">\n",
            "78 block4a_dwconv_pad False float32 float16 <Policy \"mixed_float16\">\n",
            "79 block4a_dwconv False float32 float16 <Policy \"mixed_float16\">\n",
            "80 block4a_bn False float32 float16 <Policy \"mixed_float16\">\n",
            "81 block4a_activation False float32 float16 <Policy \"mixed_float16\">\n",
            "82 block4a_se_squeeze False float32 float16 <Policy \"mixed_float16\">\n",
            "83 block4a_se_reshape False float32 float16 <Policy \"mixed_float16\">\n",
            "84 block4a_se_reduce False float32 float16 <Policy \"mixed_float16\">\n",
            "85 block4a_se_expand False float32 float16 <Policy \"mixed_float16\">\n",
            "86 block4a_se_excite False float32 float16 <Policy \"mixed_float16\">\n",
            "87 block4a_project_conv False float32 float16 <Policy \"mixed_float16\">\n",
            "88 block4a_project_bn False float32 float16 <Policy \"mixed_float16\">\n",
            "89 block4b_expand_conv False float32 float16 <Policy \"mixed_float16\">\n",
            "90 block4b_expand_bn False float32 float16 <Policy \"mixed_float16\">\n",
            "91 block4b_expand_activation False float32 float16 <Policy \"mixed_float16\">\n",
            "92 block4b_dwconv False float32 float16 <Policy \"mixed_float16\">\n",
            "93 block4b_bn False float32 float16 <Policy \"mixed_float16\">\n",
            "94 block4b_activation False float32 float16 <Policy \"mixed_float16\">\n",
            "95 block4b_se_squeeze False float32 float16 <Policy \"mixed_float16\">\n",
            "96 block4b_se_reshape False float32 float16 <Policy \"mixed_float16\">\n",
            "97 block4b_se_reduce False float32 float16 <Policy \"mixed_float16\">\n",
            "98 block4b_se_expand False float32 float16 <Policy \"mixed_float16\">\n",
            "99 block4b_se_excite False float32 float16 <Policy \"mixed_float16\">\n",
            "100 block4b_project_conv False float32 float16 <Policy \"mixed_float16\">\n",
            "101 block4b_project_bn False float32 float16 <Policy \"mixed_float16\">\n",
            "102 block4b_drop False float32 float16 <Policy \"mixed_float16\">\n",
            "103 block4b_add False float32 float16 <Policy \"mixed_float16\">\n",
            "104 block4c_expand_conv False float32 float16 <Policy \"mixed_float16\">\n",
            "105 block4c_expand_bn False float32 float16 <Policy \"mixed_float16\">\n",
            "106 block4c_expand_activation False float32 float16 <Policy \"mixed_float16\">\n",
            "107 block4c_dwconv False float32 float16 <Policy \"mixed_float16\">\n",
            "108 block4c_bn False float32 float16 <Policy \"mixed_float16\">\n",
            "109 block4c_activation False float32 float16 <Policy \"mixed_float16\">\n",
            "110 block4c_se_squeeze False float32 float16 <Policy \"mixed_float16\">\n",
            "111 block4c_se_reshape False float32 float16 <Policy \"mixed_float16\">\n",
            "112 block4c_se_reduce False float32 float16 <Policy \"mixed_float16\">\n",
            "113 block4c_se_expand False float32 float16 <Policy \"mixed_float16\">\n",
            "114 block4c_se_excite False float32 float16 <Policy \"mixed_float16\">\n",
            "115 block4c_project_conv False float32 float16 <Policy \"mixed_float16\">\n",
            "116 block4c_project_bn False float32 float16 <Policy \"mixed_float16\">\n",
            "117 block4c_drop False float32 float16 <Policy \"mixed_float16\">\n",
            "118 block4c_add False float32 float16 <Policy \"mixed_float16\">\n",
            "119 block5a_expand_conv False float32 float16 <Policy \"mixed_float16\">\n",
            "120 block5a_expand_bn False float32 float16 <Policy \"mixed_float16\">\n",
            "121 block5a_expand_activation False float32 float16 <Policy \"mixed_float16\">\n",
            "122 block5a_dwconv False float32 float16 <Policy \"mixed_float16\">\n",
            "123 block5a_bn False float32 float16 <Policy \"mixed_float16\">\n",
            "124 block5a_activation False float32 float16 <Policy \"mixed_float16\">\n",
            "125 block5a_se_squeeze False float32 float16 <Policy \"mixed_float16\">\n",
            "126 block5a_se_reshape False float32 float16 <Policy \"mixed_float16\">\n",
            "127 block5a_se_reduce False float32 float16 <Policy \"mixed_float16\">\n",
            "128 block5a_se_expand False float32 float16 <Policy \"mixed_float16\">\n",
            "129 block5a_se_excite False float32 float16 <Policy \"mixed_float16\">\n",
            "130 block5a_project_conv False float32 float16 <Policy \"mixed_float16\">\n",
            "131 block5a_project_bn False float32 float16 <Policy \"mixed_float16\">\n",
            "132 block5b_expand_conv False float32 float16 <Policy \"mixed_float16\">\n",
            "133 block5b_expand_bn False float32 float16 <Policy \"mixed_float16\">\n",
            "134 block5b_expand_activation False float32 float16 <Policy \"mixed_float16\">\n",
            "135 block5b_dwconv False float32 float16 <Policy \"mixed_float16\">\n",
            "136 block5b_bn False float32 float16 <Policy \"mixed_float16\">\n",
            "137 block5b_activation False float32 float16 <Policy \"mixed_float16\">\n",
            "138 block5b_se_squeeze False float32 float16 <Policy \"mixed_float16\">\n",
            "139 block5b_se_reshape False float32 float16 <Policy \"mixed_float16\">\n",
            "140 block5b_se_reduce False float32 float16 <Policy \"mixed_float16\">\n",
            "141 block5b_se_expand False float32 float16 <Policy \"mixed_float16\">\n",
            "142 block5b_se_excite False float32 float16 <Policy \"mixed_float16\">\n",
            "143 block5b_project_conv False float32 float16 <Policy \"mixed_float16\">\n",
            "144 block5b_project_bn False float32 float16 <Policy \"mixed_float16\">\n",
            "145 block5b_drop False float32 float16 <Policy \"mixed_float16\">\n",
            "146 block5b_add False float32 float16 <Policy \"mixed_float16\">\n",
            "147 block5c_expand_conv False float32 float16 <Policy \"mixed_float16\">\n",
            "148 block5c_expand_bn False float32 float16 <Policy \"mixed_float16\">\n",
            "149 block5c_expand_activation False float32 float16 <Policy \"mixed_float16\">\n",
            "150 block5c_dwconv False float32 float16 <Policy \"mixed_float16\">\n",
            "151 block5c_bn False float32 float16 <Policy \"mixed_float16\">\n",
            "152 block5c_activation False float32 float16 <Policy \"mixed_float16\">\n",
            "153 block5c_se_squeeze False float32 float16 <Policy \"mixed_float16\">\n",
            "154 block5c_se_reshape False float32 float16 <Policy \"mixed_float16\">\n",
            "155 block5c_se_reduce False float32 float16 <Policy \"mixed_float16\">\n",
            "156 block5c_se_expand False float32 float16 <Policy \"mixed_float16\">\n",
            "157 block5c_se_excite False float32 float16 <Policy \"mixed_float16\">\n",
            "158 block5c_project_conv False float32 float16 <Policy \"mixed_float16\">\n",
            "159 block5c_project_bn False float32 float16 <Policy \"mixed_float16\">\n",
            "160 block5c_drop False float32 float16 <Policy \"mixed_float16\">\n",
            "161 block5c_add False float32 float16 <Policy \"mixed_float16\">\n",
            "162 block6a_expand_conv False float32 float16 <Policy \"mixed_float16\">\n",
            "163 block6a_expand_bn False float32 float16 <Policy \"mixed_float16\">\n",
            "164 block6a_expand_activation False float32 float16 <Policy \"mixed_float16\">\n",
            "165 block6a_dwconv_pad False float32 float16 <Policy \"mixed_float16\">\n",
            "166 block6a_dwconv False float32 float16 <Policy \"mixed_float16\">\n",
            "167 block6a_bn False float32 float16 <Policy \"mixed_float16\">\n",
            "168 block6a_activation False float32 float16 <Policy \"mixed_float16\">\n",
            "169 block6a_se_squeeze False float32 float16 <Policy \"mixed_float16\">\n",
            "170 block6a_se_reshape False float32 float16 <Policy \"mixed_float16\">\n",
            "171 block6a_se_reduce False float32 float16 <Policy \"mixed_float16\">\n",
            "172 block6a_se_expand False float32 float16 <Policy \"mixed_float16\">\n",
            "173 block6a_se_excite False float32 float16 <Policy \"mixed_float16\">\n",
            "174 block6a_project_conv False float32 float16 <Policy \"mixed_float16\">\n",
            "175 block6a_project_bn False float32 float16 <Policy \"mixed_float16\">\n",
            "176 block6b_expand_conv False float32 float16 <Policy \"mixed_float16\">\n",
            "177 block6b_expand_bn False float32 float16 <Policy \"mixed_float16\">\n",
            "178 block6b_expand_activation False float32 float16 <Policy \"mixed_float16\">\n",
            "179 block6b_dwconv False float32 float16 <Policy \"mixed_float16\">\n",
            "180 block6b_bn False float32 float16 <Policy \"mixed_float16\">\n",
            "181 block6b_activation False float32 float16 <Policy \"mixed_float16\">\n",
            "182 block6b_se_squeeze False float32 float16 <Policy \"mixed_float16\">\n",
            "183 block6b_se_reshape False float32 float16 <Policy \"mixed_float16\">\n",
            "184 block6b_se_reduce False float32 float16 <Policy \"mixed_float16\">\n",
            "185 block6b_se_expand False float32 float16 <Policy \"mixed_float16\">\n",
            "186 block6b_se_excite False float32 float16 <Policy \"mixed_float16\">\n",
            "187 block6b_project_conv False float32 float16 <Policy \"mixed_float16\">\n",
            "188 block6b_project_bn False float32 float16 <Policy \"mixed_float16\">\n",
            "189 block6b_drop False float32 float16 <Policy \"mixed_float16\">\n",
            "190 block6b_add False float32 float16 <Policy \"mixed_float16\">\n",
            "191 block6c_expand_conv False float32 float16 <Policy \"mixed_float16\">\n",
            "192 block6c_expand_bn False float32 float16 <Policy \"mixed_float16\">\n",
            "193 block6c_expand_activation False float32 float16 <Policy \"mixed_float16\">\n",
            "194 block6c_dwconv False float32 float16 <Policy \"mixed_float16\">\n",
            "195 block6c_bn False float32 float16 <Policy \"mixed_float16\">\n",
            "196 block6c_activation False float32 float16 <Policy \"mixed_float16\">\n",
            "197 block6c_se_squeeze False float32 float16 <Policy \"mixed_float16\">\n",
            "198 block6c_se_reshape False float32 float16 <Policy \"mixed_float16\">\n",
            "199 block6c_se_reduce False float32 float16 <Policy \"mixed_float16\">\n",
            "200 block6c_se_expand False float32 float16 <Policy \"mixed_float16\">\n",
            "201 block6c_se_excite False float32 float16 <Policy \"mixed_float16\">\n",
            "202 block6c_project_conv False float32 float16 <Policy \"mixed_float16\">\n",
            "203 block6c_project_bn False float32 float16 <Policy \"mixed_float16\">\n",
            "204 block6c_drop False float32 float16 <Policy \"mixed_float16\">\n",
            "205 block6c_add False float32 float16 <Policy \"mixed_float16\">\n",
            "206 block6d_expand_conv False float32 float16 <Policy \"mixed_float16\">\n",
            "207 block6d_expand_bn False float32 float16 <Policy \"mixed_float16\">\n",
            "208 block6d_expand_activation False float32 float16 <Policy \"mixed_float16\">\n",
            "209 block6d_dwconv False float32 float16 <Policy \"mixed_float16\">\n",
            "210 block6d_bn False float32 float16 <Policy \"mixed_float16\">\n",
            "211 block6d_activation False float32 float16 <Policy \"mixed_float16\">\n",
            "212 block6d_se_squeeze False float32 float16 <Policy \"mixed_float16\">\n",
            "213 block6d_se_reshape False float32 float16 <Policy \"mixed_float16\">\n",
            "214 block6d_se_reduce False float32 float16 <Policy \"mixed_float16\">\n",
            "215 block6d_se_expand False float32 float16 <Policy \"mixed_float16\">\n",
            "216 block6d_se_excite False float32 float16 <Policy \"mixed_float16\">\n",
            "217 block6d_project_conv False float32 float16 <Policy \"mixed_float16\">\n",
            "218 block6d_project_bn False float32 float16 <Policy \"mixed_float16\">\n",
            "219 block6d_drop False float32 float16 <Policy \"mixed_float16\">\n",
            "220 block6d_add False float32 float16 <Policy \"mixed_float16\">\n",
            "221 block7a_expand_conv False float32 float16 <Policy \"mixed_float16\">\n",
            "222 block7a_expand_bn False float32 float16 <Policy \"mixed_float16\">\n",
            "223 block7a_expand_activation False float32 float16 <Policy \"mixed_float16\">\n",
            "224 block7a_dwconv False float32 float16 <Policy \"mixed_float16\">\n",
            "225 block7a_bn False float32 float16 <Policy \"mixed_float16\">\n",
            "226 block7a_activation False float32 float16 <Policy \"mixed_float16\">\n",
            "227 block7a_se_squeeze False float32 float16 <Policy \"mixed_float16\">\n",
            "228 block7a_se_reshape False float32 float16 <Policy \"mixed_float16\">\n",
            "229 block7a_se_reduce False float32 float16 <Policy \"mixed_float16\">\n",
            "230 block7a_se_expand False float32 float16 <Policy \"mixed_float16\">\n",
            "231 block7a_se_excite False float32 float16 <Policy \"mixed_float16\">\n",
            "232 block7a_project_conv False float32 float16 <Policy \"mixed_float16\">\n",
            "233 block7a_project_bn False float32 float16 <Policy \"mixed_float16\">\n",
            "234 top_conv False float32 float16 <Policy \"mixed_float16\">\n",
            "235 top_bn False float32 float16 <Policy \"mixed_float16\">\n",
            "236 top_activation False float32 float16 <Policy \"mixed_float16\">\n"
          ]
        }
      ]
    },
    {
      "cell_type": "code",
      "metadata": {
        "id": "jRZqse5SxYu0"
      },
      "source": [
        "mixed_precision.set_global_policy(\"float32\")"
      ],
      "execution_count": null,
      "outputs": []
    },
    {
      "cell_type": "code",
      "metadata": {
        "colab": {
          "base_uri": "https://localhost:8080/"
        },
        "id": "x2JHFyIkxuVZ",
        "outputId": "6a111436-3e77-42a8-d72b-9df49ec19a5a"
      },
      "source": [
        "history_101_food_lasses_feature_extract=model.fit(train_data,\n",
        "                                                  epochs=3,\n",
        "                                                  steps_per_epoch=len(train_data),\n",
        "                                                  validation_data=test_data,\n",
        "                                                  validation_steps=(0.15*len(test_data)),\n",
        "                                                  callbacks=[create_tensorboard_callback(\"training_logs\",\n",
        "                                                                                         experiment_name=\"efficientnetB0_101_all_data_feature_ext\"),\n",
        "                                                                                          model_checkpoint])\n"
      ],
      "execution_count": null,
      "outputs": [
        {
          "name": "stdout",
          "output_type": "stream",
          "text": [
            "Saving TensorBoard log files to: training_logs/efficientnetB0_101_all_data_feature_ext/20210927-042655\n"
          ]
        },
        {
          "name": "stderr",
          "output_type": "stream",
          "text": [
            "/usr/local/lib/python3.7/dist-packages/keras/utils/generic_utils.py:497: CustomMaskWarning: Custom mask layers require a config and must override get_config. When loading, the custom mask layer must be passed to the custom_objects argument.\n",
            "  category=CustomMaskWarning)\n"
          ]
        },
        {
          "name": "stdout",
          "output_type": "stream",
          "text": [
            "Epoch 1/3\n",
            "2368/2368 [==============================] - 308s 110ms/step - loss: 1.8209 - accuracy: 0.5561 - val_loss: 1.2465 - val_accuracy: 0.6767\n",
            "Epoch 2/3\n",
            "2368/2368 [==============================] - 246s 103ms/step - loss: 1.2935 - accuracy: 0.6658 - val_loss: 1.1187 - val_accuracy: 0.6998\n",
            "Epoch 3/3\n",
            "2368/2368 [==============================] - 247s 103ms/step - loss: 1.1436 - accuracy: 0.7027 - val_loss: 1.0930 - val_accuracy: 0.7085\n"
          ]
        }
      ]
    },
    {
      "cell_type": "code",
      "metadata": {
        "colab": {
          "base_uri": "https://localhost:8080/"
        },
        "id": "SJxsOe1841Ij",
        "outputId": "fe0463d3-0119-4a89-c5f2-217656a4bc67"
      },
      "source": [
        "results_feature_extract=model.evaluate(test_data)"
      ],
      "execution_count": null,
      "outputs": [
        {
          "name": "stdout",
          "output_type": "stream",
          "text": [
            "790/790 [==============================] - 83s 105ms/step - loss: 1.0929 - accuracy: 0.7052\n"
          ]
        }
      ]
    },
    {
      "cell_type": "code",
      "metadata": {
        "colab": {
          "base_uri": "https://localhost:8080/"
        },
        "id": "Qk2rQRBd5Nd-",
        "outputId": "125d4a59-4bd5-46b6-ca94-11b8c4200262"
      },
      "source": [
        "for i, layer  in enumerate (model.layers[1].layers):\n",
        "  print(i, layer.name, layer.trainable)"
      ],
      "execution_count": null,
      "outputs": [
        {
          "name": "stdout",
          "output_type": "stream",
          "text": [
            "0 input_1 False\n",
            "1 rescaling False\n",
            "2 normalization False\n",
            "3 stem_conv_pad False\n",
            "4 stem_conv False\n",
            "5 stem_bn False\n",
            "6 stem_activation False\n",
            "7 block1a_dwconv False\n",
            "8 block1a_bn False\n",
            "9 block1a_activation False\n",
            "10 block1a_se_squeeze False\n",
            "11 block1a_se_reshape False\n",
            "12 block1a_se_reduce False\n",
            "13 block1a_se_expand False\n",
            "14 block1a_se_excite False\n",
            "15 block1a_project_conv False\n",
            "16 block1a_project_bn False\n",
            "17 block2a_expand_conv False\n",
            "18 block2a_expand_bn False\n",
            "19 block2a_expand_activation False\n",
            "20 block2a_dwconv_pad False\n",
            "21 block2a_dwconv False\n",
            "22 block2a_bn False\n",
            "23 block2a_activation False\n",
            "24 block2a_se_squeeze False\n",
            "25 block2a_se_reshape False\n",
            "26 block2a_se_reduce False\n",
            "27 block2a_se_expand False\n",
            "28 block2a_se_excite False\n",
            "29 block2a_project_conv False\n",
            "30 block2a_project_bn False\n",
            "31 block2b_expand_conv False\n",
            "32 block2b_expand_bn False\n",
            "33 block2b_expand_activation False\n",
            "34 block2b_dwconv False\n",
            "35 block2b_bn False\n",
            "36 block2b_activation False\n",
            "37 block2b_se_squeeze False\n",
            "38 block2b_se_reshape False\n",
            "39 block2b_se_reduce False\n",
            "40 block2b_se_expand False\n",
            "41 block2b_se_excite False\n",
            "42 block2b_project_conv False\n",
            "43 block2b_project_bn False\n",
            "44 block2b_drop False\n",
            "45 block2b_add False\n",
            "46 block3a_expand_conv False\n",
            "47 block3a_expand_bn False\n",
            "48 block3a_expand_activation False\n",
            "49 block3a_dwconv_pad False\n",
            "50 block3a_dwconv False\n",
            "51 block3a_bn False\n",
            "52 block3a_activation False\n",
            "53 block3a_se_squeeze False\n",
            "54 block3a_se_reshape False\n",
            "55 block3a_se_reduce False\n",
            "56 block3a_se_expand False\n",
            "57 block3a_se_excite False\n",
            "58 block3a_project_conv False\n",
            "59 block3a_project_bn False\n",
            "60 block3b_expand_conv False\n",
            "61 block3b_expand_bn False\n",
            "62 block3b_expand_activation False\n",
            "63 block3b_dwconv False\n",
            "64 block3b_bn False\n",
            "65 block3b_activation False\n",
            "66 block3b_se_squeeze False\n",
            "67 block3b_se_reshape False\n",
            "68 block3b_se_reduce False\n",
            "69 block3b_se_expand False\n",
            "70 block3b_se_excite False\n",
            "71 block3b_project_conv False\n",
            "72 block3b_project_bn False\n",
            "73 block3b_drop False\n",
            "74 block3b_add False\n",
            "75 block4a_expand_conv False\n",
            "76 block4a_expand_bn False\n",
            "77 block4a_expand_activation False\n",
            "78 block4a_dwconv_pad False\n",
            "79 block4a_dwconv False\n",
            "80 block4a_bn False\n",
            "81 block4a_activation False\n",
            "82 block4a_se_squeeze False\n",
            "83 block4a_se_reshape False\n",
            "84 block4a_se_reduce False\n",
            "85 block4a_se_expand False\n",
            "86 block4a_se_excite False\n",
            "87 block4a_project_conv False\n",
            "88 block4a_project_bn False\n",
            "89 block4b_expand_conv False\n",
            "90 block4b_expand_bn False\n",
            "91 block4b_expand_activation False\n",
            "92 block4b_dwconv False\n",
            "93 block4b_bn False\n",
            "94 block4b_activation False\n",
            "95 block4b_se_squeeze False\n",
            "96 block4b_se_reshape False\n",
            "97 block4b_se_reduce False\n",
            "98 block4b_se_expand False\n",
            "99 block4b_se_excite False\n",
            "100 block4b_project_conv False\n",
            "101 block4b_project_bn False\n",
            "102 block4b_drop False\n",
            "103 block4b_add False\n",
            "104 block4c_expand_conv False\n",
            "105 block4c_expand_bn False\n",
            "106 block4c_expand_activation False\n",
            "107 block4c_dwconv False\n",
            "108 block4c_bn False\n",
            "109 block4c_activation False\n",
            "110 block4c_se_squeeze False\n",
            "111 block4c_se_reshape False\n",
            "112 block4c_se_reduce False\n",
            "113 block4c_se_expand False\n",
            "114 block4c_se_excite False\n",
            "115 block4c_project_conv False\n",
            "116 block4c_project_bn False\n",
            "117 block4c_drop False\n",
            "118 block4c_add False\n",
            "119 block5a_expand_conv False\n",
            "120 block5a_expand_bn False\n",
            "121 block5a_expand_activation False\n",
            "122 block5a_dwconv False\n",
            "123 block5a_bn False\n",
            "124 block5a_activation False\n",
            "125 block5a_se_squeeze False\n",
            "126 block5a_se_reshape False\n",
            "127 block5a_se_reduce False\n",
            "128 block5a_se_expand False\n",
            "129 block5a_se_excite False\n",
            "130 block5a_project_conv False\n",
            "131 block5a_project_bn False\n",
            "132 block5b_expand_conv False\n",
            "133 block5b_expand_bn False\n",
            "134 block5b_expand_activation False\n",
            "135 block5b_dwconv False\n",
            "136 block5b_bn False\n",
            "137 block5b_activation False\n",
            "138 block5b_se_squeeze False\n",
            "139 block5b_se_reshape False\n",
            "140 block5b_se_reduce False\n",
            "141 block5b_se_expand False\n",
            "142 block5b_se_excite False\n",
            "143 block5b_project_conv False\n",
            "144 block5b_project_bn False\n",
            "145 block5b_drop False\n",
            "146 block5b_add False\n",
            "147 block5c_expand_conv False\n",
            "148 block5c_expand_bn False\n",
            "149 block5c_expand_activation False\n",
            "150 block5c_dwconv False\n",
            "151 block5c_bn False\n",
            "152 block5c_activation False\n",
            "153 block5c_se_squeeze False\n",
            "154 block5c_se_reshape False\n",
            "155 block5c_se_reduce False\n",
            "156 block5c_se_expand False\n",
            "157 block5c_se_excite False\n",
            "158 block5c_project_conv False\n",
            "159 block5c_project_bn False\n",
            "160 block5c_drop False\n",
            "161 block5c_add False\n",
            "162 block6a_expand_conv False\n",
            "163 block6a_expand_bn False\n",
            "164 block6a_expand_activation False\n",
            "165 block6a_dwconv_pad False\n",
            "166 block6a_dwconv False\n",
            "167 block6a_bn False\n",
            "168 block6a_activation False\n",
            "169 block6a_se_squeeze False\n",
            "170 block6a_se_reshape False\n",
            "171 block6a_se_reduce False\n",
            "172 block6a_se_expand False\n",
            "173 block6a_se_excite False\n",
            "174 block6a_project_conv False\n",
            "175 block6a_project_bn False\n",
            "176 block6b_expand_conv False\n",
            "177 block6b_expand_bn False\n",
            "178 block6b_expand_activation False\n",
            "179 block6b_dwconv False\n",
            "180 block6b_bn False\n",
            "181 block6b_activation False\n",
            "182 block6b_se_squeeze False\n",
            "183 block6b_se_reshape False\n",
            "184 block6b_se_reduce False\n",
            "185 block6b_se_expand False\n",
            "186 block6b_se_excite False\n",
            "187 block6b_project_conv False\n",
            "188 block6b_project_bn False\n",
            "189 block6b_drop False\n",
            "190 block6b_add False\n",
            "191 block6c_expand_conv False\n",
            "192 block6c_expand_bn False\n",
            "193 block6c_expand_activation False\n",
            "194 block6c_dwconv False\n",
            "195 block6c_bn False\n",
            "196 block6c_activation False\n",
            "197 block6c_se_squeeze False\n",
            "198 block6c_se_reshape False\n",
            "199 block6c_se_reduce False\n",
            "200 block6c_se_expand False\n",
            "201 block6c_se_excite False\n",
            "202 block6c_project_conv False\n",
            "203 block6c_project_bn False\n",
            "204 block6c_drop False\n",
            "205 block6c_add False\n",
            "206 block6d_expand_conv False\n",
            "207 block6d_expand_bn False\n",
            "208 block6d_expand_activation False\n",
            "209 block6d_dwconv False\n",
            "210 block6d_bn False\n",
            "211 block6d_activation False\n",
            "212 block6d_se_squeeze False\n",
            "213 block6d_se_reshape False\n",
            "214 block6d_se_reduce False\n",
            "215 block6d_se_expand False\n",
            "216 block6d_se_excite False\n",
            "217 block6d_project_conv False\n",
            "218 block6d_project_bn False\n",
            "219 block6d_drop False\n",
            "220 block6d_add False\n",
            "221 block7a_expand_conv False\n",
            "222 block7a_expand_bn False\n",
            "223 block7a_expand_activation False\n",
            "224 block7a_dwconv False\n",
            "225 block7a_bn False\n",
            "226 block7a_activation False\n",
            "227 block7a_se_squeeze False\n",
            "228 block7a_se_reshape False\n",
            "229 block7a_se_reduce False\n",
            "230 block7a_se_expand False\n",
            "231 block7a_se_excite False\n",
            "232 block7a_project_conv False\n",
            "233 block7a_project_bn False\n",
            "234 top_conv False\n",
            "235 top_bn False\n",
            "236 top_activation False\n"
          ]
        }
      ]
    },
    {
      "cell_type": "code",
      "metadata": {
        "id": "q2T9StjU699G"
      },
      "source": [
        "#Set last 20 mlayers trainable = True\n",
        "\n",
        "base_model.trainable=True\n",
        "\n",
        "for layer in base_model.layers[:-20]:\n",
        "  layer.trainable=False"
      ],
      "execution_count": null,
      "outputs": []
    },
    {
      "cell_type": "code",
      "metadata": {
        "id": "_nD7EiOx7LIG"
      },
      "source": [
        ""
      ],
      "execution_count": null,
      "outputs": []
    },
    {
      "cell_type": "code",
      "metadata": {
        "id": "cUO3wbRu7SsX"
      },
      "source": [
        "model.compile(loss=\"sparse_categorical_crossentropy\",\n",
        "              optimizer=tf.keras.optimizers.Adam(),\n",
        "              metrics=[\"accuracy\"])"
      ],
      "execution_count": null,
      "outputs": []
    },
    {
      "cell_type": "code",
      "metadata": {
        "colab": {
          "background_save": true,
          "base_uri": "https://localhost:8080/"
        },
        "id": "f6hp_wPE7ZaW",
        "outputId": "4f2a9b49-1b05-43c2-a55b-0dd08ad378fd"
      },
      "source": [
        "fine_tune_epochs=10\n",
        "\n",
        "history_fine_tuning         =model.fit(train_data,\n",
        "                                             epochs=fine_tune_epochs,\n",
        "                                             validation_data=test_data,\n",
        "                                             validation_steps=int(0.25*len(test_data)),\n",
        "                                             initial_epoch=history_101_food_lasses_feature_extract.epoch[-1], # start training from last epoch\n",
        "                                             callbacks=[create_tensorboard_callback(dir_name=\"training_logs\",\n",
        "                                                                                   experiment_name=\"efficientnetB0_101_all_data_fine_tuning\"),\n",
        "                                                                                    model_checkpoint])\n",
        "                                                                                  \n",
        "                                             "
      ],
      "execution_count": null,
      "outputs": [
        {
          "name": "stdout",
          "output_type": "stream",
          "text": [
            "Saving TensorBoard log files to: training_logs/efficientnetB0_101_all_data_fine_tuning/20210927-044140\n",
            "Epoch 3/10\n"
          ]
        },
        {
          "name": "stderr",
          "output_type": "stream",
          "text": [
            "/usr/local/lib/python3.7/dist-packages/keras/utils/generic_utils.py:497: CustomMaskWarning: Custom mask layers require a config and must override get_config. When loading, the custom mask layer must be passed to the custom_objects argument.\n",
            "  category=CustomMaskWarning)\n"
          ]
        },
        {
          "name": "stdout",
          "output_type": "stream",
          "text": [
            "2368/2368 [==============================] - 322s 130ms/step - loss: 1.2755 - accuracy: 0.6637 - val_loss: 0.9924 - val_accuracy: 0.7286\n",
            "Epoch 4/10\n",
            "2368/2368 [==============================] - 301s 126ms/step - loss: 0.8988 - accuracy: 0.7530 - val_loss: 0.9403 - val_accuracy: 0.7454\n",
            "Epoch 5/10\n",
            "2368/2368 [==============================] - 299s 126ms/step - loss: 0.6558 - accuracy: 0.8131 - val_loss: 0.9448 - val_accuracy: 0.7448\n",
            "Epoch 6/10\n",
            "2368/2368 [==============================] - 299s 125ms/step - loss: 0.4832 - accuracy: 0.8562 - val_loss: 1.0261 - val_accuracy: 0.7376\n",
            "Epoch 7/10\n",
            "2368/2368 [==============================] - 302s 127ms/step - loss: 0.3668 - accuracy: 0.8884 - val_loss: 1.1025 - val_accuracy: 0.7303\n",
            "Epoch 8/10\n",
            "2368/2368 [==============================] - 303s 127ms/step - loss: 0.3007 - accuracy: 0.9055 - val_loss: 1.1979 - val_accuracy: 0.7230\n",
            "Epoch 9/10\n",
            "2368/2368 [==============================] - 299s 125ms/step - loss: 0.2458 - accuracy: 0.9225 - val_loss: 1.3286 - val_accuracy: 0.7257\n",
            "Epoch 10/10\n",
            "2368/2368 [==============================] - 298s 125ms/step - loss: 0.2297 - accuracy: 0.9274 - val_loss: 1.3560 - val_accuracy: 0.7213\n"
          ]
        }
      ]
    },
    {
      "cell_type": "code",
      "metadata": {
        "colab": {
          "background_save": true
        },
        "id": "P1kWIv-q7obY"
      },
      "source": [
        "import tensorflow as tf\n",
        "from tf.keras.layers.experimental.preprocessing.TextVectorization"
      ],
      "execution_count": null,
      "outputs": []
    }
  ]
}